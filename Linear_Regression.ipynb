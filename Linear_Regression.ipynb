{
 "cells": [
  {
   "cell_type": "code",
   "execution_count": null,
   "metadata": {},
   "outputs": [],
   "source": [
    "!pip install sklearn --upgrade"
   ]
  },
  {
   "cell_type": "code",
   "execution_count": null,
   "metadata": {},
   "outputs": [],
   "source": [
    "import pandas as pd\n",
    "from datetime import datetime as dt\n",
    "import numpy as np\n",
    "import requests\n",
    "import config\n",
    "import json\n",
    "import time\n",
    "import datetime\n",
    "import matplotlib.pyplot as plt\n",
    "from scipy.stats import linregress\n",
    "import tabletext\n",
    "import numpy as np\n",
    "from sklearn import datasets, linear_model\n",
    "from sklearn.metrics import mean_squared_error, r2_score\n",
    "import sys\n",
    "\n",
    "from pprint import pprint"
   ]
  },
  {
   "cell_type": "code",
   "execution_count": null,
   "metadata": {},
   "outputs": [],
   "source": [
    "\n",
    "df = pd.read_csv('data_files/fullplayerstatslist.csv')\n",
    "covid_playoff = pd.read_csv('data_files/player_stats_2019_pst.csv')"
   ]
  },
  {
   "cell_type": "code",
   "execution_count": null,
   "metadata": {},
   "outputs": [],
   "source": [
    "covid_playoff"
   ]
  },
  {
   "cell_type": "code",
   "execution_count": null,
   "metadata": {},
   "outputs": [],
   "source": [
    "df\n"
   ]
  },
  {
   "cell_type": "code",
   "execution_count": null,
   "metadata": {
    "scrolled": true
   },
   "outputs": [],
   "source": [
    "covid_dropped = covid_playoff[covid_playoff['Min_played'] != \"00:00\"]\n",
    "# df_dropped = df_dropped[df_dropped['Crowd'] != 'Covid']\n",
    "# df_dropped = df_dropped[df_dropped['Crowd'] != '0']\n",
    "covid_dropped= covid_dropped[['First_Name', 'Last_Name', 'player_id', \"Points\", \"Free_Throw_Percent\",\n",
    "                  \"Two_Pt_Percent\",\n",
    "                  \"Three_Pt_Percent\", \"Assists\",\n",
    "                  \"Rebounds\", \"Offensive_Rebounds\",\n",
    "                  \"Steals\", \"Personal_Fouls\",\n",
    "                  \"Flagrant_Fouls\", \"Tech_Fouls\",\n",
    "                  \"Turnovers\",\n",
    "                  \"Home_Away\", \"win\", \"Min_played\"\n",
    "                  ]].reset_index(drop = True)\n",
    "covid_dropped.sort_values(by=[\"Min_played\"], ascending = False)"
   ]
  },
  {
   "cell_type": "code",
   "execution_count": null,
   "metadata": {
    "scrolled": true
   },
   "outputs": [],
   "source": [
    "#dropping Crowd from df_dropped to check status weight v win & try to tweat training % up from 71\n",
    "df_dropped = df[df['Min_played'] != \"00:00\"]\n",
    "df_dropped = df_dropped[df_dropped['Crowd'] != 'Covid']\n",
    "df_dropped = df_dropped[df_dropped['Crowd'] != '0']\n",
    "df_dropped= df_dropped[['First_Name', 'Last_Name', 'player_id', \"Points\", \"Free_Throw_Percent\",\n",
    "                  \"Two_Pt_Percent\",\n",
    "                  \"Three_Pt_Percent\", \"Assists\",\n",
    "                  \"Rebounds\", \"Offensive_Rebounds\",\n",
    "                  \"Steals\", \"Personal_Fouls\",\n",
    "                  \"Flagrant_Fouls\", \"Tech_Fouls\",\n",
    "                  \"Turnovers\",\n",
    "                  \"Home_Away\", \"win\", \"Min_played\"\n",
    "                  ]].reset_index(drop = True)\n",
    "df_dropped.sort_values(by=[\"Min_played\"], ascending = False)"
   ]
  },
  {
   "cell_type": "code",
   "execution_count": null,
   "metadata": {},
   "outputs": [],
   "source": [
    "df_dropped[\"Min_played\"] = df_dropped[\"Min_played\"].astype(str)"
   ]
  },
  {
   "cell_type": "code",
   "execution_count": null,
   "metadata": {},
   "outputs": [],
   "source": [
    "time = df_dropped['Min_played'].str.split(':', n=1, expand=True)\n",
    "cols = time.columns\n",
    "time[cols]= time[cols].apply(pd.to_numeric, errors='coerce')\n",
    "time.dtypes\n",
    "time['total_sec_played'] = time[0]*60 + time[1]\n",
    "time = time['total_sec_played']\n",
    "\n",
    "df_dropped = df_dropped.join(time)\n",
    "\n"
   ]
  },
  {
   "cell_type": "code",
   "execution_count": null,
   "metadata": {},
   "outputs": [],
   "source": [
    "covid_dropped[\"Min_played\"] = covid_dropped[\"Min_played\"].astype(str)\n",
    "time_covid = covid_dropped['Min_played'].str.split(':', n=1, expand=True)\n",
    "cols_covid = time_covid.columns\n",
    "time_covid[cols_covid]= time_covid[cols_covid].apply(pd.to_numeric, errors='coerce')\n",
    "time_covid.dtypes\n",
    "time_covid['total_sec_played'] = time_covid[0]*60 + time_covid[1]\n",
    "time_covid = time_covid['total_sec_played']\n",
    "\n",
    "covid_dropped = covid_dropped.join(time_covid)\n",
    "\n"
   ]
  },
  {
   "cell_type": "code",
   "execution_count": null,
   "metadata": {},
   "outputs": [],
   "source": [
    "covid_dropped"
   ]
  },
  {
   "cell_type": "code",
   "execution_count": null,
   "metadata": {},
   "outputs": [],
   "source": [
    "from sklearn.model_selection import train_test_split\n",
    "from sklearn.preprocessing import LabelEncoder, MinMaxScaler\n",
    "from tensorflow.keras.utils import to_categorical\n",
    "from sklearn.preprocessing import StandardScaler\n"
   ]
  },
  {
   "cell_type": "code",
   "execution_count": null,
   "metadata": {},
   "outputs": [],
   "source": [
    "df_dropped.sort_values(by='total_sec_played')\n",
    "df_dropped.dropna(subset=['total_sec_played'])\n",
    "df_dropped['total_sec_played'].astype(int)"
   ]
  },
  {
   "cell_type": "code",
   "execution_count": null,
   "metadata": {},
   "outputs": [],
   "source": [
    "lebron_df = df_dropped['player_id']=='0afbe608-940a-4d5d-a1f7-468718c67d91'\n",
    "lebron_covid = covid_dropped['player_id']=='0afbe608-940a-4d5d-a1f7-468718c67d91'\n",
    "filter_df = df_dropped[lebron_df]\n",
    "covid_filter = covid_dropped[lebron_covid]\n",
    "print(filter_df.shape)\n",
    "print(covid_filter.shape)\n",
    "filter_df\n",
    "covid_filter"
   ]
  },
  {
   "cell_type": "code",
   "execution_count": null,
   "metadata": {},
   "outputs": [],
   "source": [
    "X = filter_df['total_sec_played']\n",
    "X_covid = covid_filter['total_sec_played']\n",
    "print(X.shape)\n",
    "X"
   ]
  },
  {
   "cell_type": "code",
   "execution_count": null,
   "metadata": {},
   "outputs": [],
   "source": [
    "y = filter_df['Points']\n",
    "y_covid = covid_filter['Points']\n",
    "print(y.shape)\n",
    "y.dtype\n",
    "y\n"
   ]
  },
  {
   "cell_type": "code",
   "execution_count": null,
   "metadata": {},
   "outputs": [],
   "source": [
    "def  stats(a, b):\n",
    "    quartilesval = a.quantile([.25, .5, .75])\n",
    "    lowerq = quartilesval[.25]\n",
    "    upperq = quartilesval[.75]\n",
    "    iqr = upperq-lowerq\n",
    "    lowerbound = lowerq - (iqr*1.5)\n",
    "    upperbound = upperq + (iqr*1.5)\n",
    "    upperoutliers = b.loc[a >= upperbound]\n",
    "    loweroutliers = b.loc[a <= lowerbound]\n",
    "    outliers=pd.concat([upperoutliers, loweroutliers])\n",
    "    print(f'The statistical analysis states that there are {len(outliers)} outliers')\n",
    "    print(f'the upper bound is {upperbound} and the lower bound is {lowerbound}')\n",
    "    \n",
    "\n",
    "def linearregress(x,y,a,b):\n",
    "    (slope, intercept, rvalue, pvalue, stderr)=linregress(x,y)\n",
    "    regress_values = x * slope + intercept\n",
    "    line_eq = 'y=' + str(round(slope,2)) +'x+' + str(round(intercept,2))\n",
    "    plt.scatter(x,y, color='blue')\n",
    "    plt.plot(x,regress_values,\"r-\")\n",
    "    print(f'The r-square is {rvalue}')\n",
    "    print(line_eq)\n",
    "    plt.annotate(line_eq,(a,b),fontsize=15, color='red')\n",
    "    plt.grid()\n",
    "    \n",
    "def linearregress2(x,y,a,b):\n",
    "    (slope, intercept, rvalue, pvalue, stderr)=linregress(x,y)\n",
    "    regress_values = x * slope + intercept\n",
    "    line_eq = 'y=' + str(round(slope,2)) +'x+' + str(round(intercept,2))\n",
    "    plt.scatter(x,y, color='red')\n",
    "    plt.plot(x,regress_values,\"r-\")\n",
    "    print(f'The r-square is for post Covid is {rvalue}')\n",
    "    print(line_eq)\n",
    "    plt.annotate(line_eq,(a,b),fontsize=15, color='green')\n",
    "    plt.grid()"
   ]
  },
  {
   "cell_type": "code",
   "execution_count": null,
   "metadata": {},
   "outputs": [],
   "source": [
    "\n",
    "plt.xlabel('Seconds_Played')\n",
    "plt.ylabel('Points_Scored')\n",
    "plt.title('Points vs Time Played')\n",
    "linearregress(X, y, 1, 1)\n",
    "stats(filter_df['Points'], filter_df)\n",
    "linearregress2(X_covid, y_covid, 25, 25)\n",
    "stats(covid_filter['Points'], covid_filter)"
   ]
  },
  {
   "cell_type": "code",
   "execution_count": null,
   "metadata": {},
   "outputs": [],
   "source": [
    "\n"
   ]
  },
  {
   "cell_type": "code",
   "execution_count": null,
   "metadata": {},
   "outputs": [],
   "source": [
    "\n"
   ]
  },
  {
   "cell_type": "code",
   "execution_count": null,
   "metadata": {},
   "outputs": [],
   "source": []
  },
  {
   "cell_type": "code",
   "execution_count": null,
   "metadata": {},
   "outputs": [],
   "source": []
  },
  {
   "cell_type": "code",
   "execution_count": null,
   "metadata": {},
   "outputs": [],
   "source": []
  }
 ],
 "metadata": {
  "kernelspec": {
   "display_name": "Python 3",
   "language": "python",
   "name": "python3"
  },
  "language_info": {
   "codemirror_mode": {
    "name": "ipython",
    "version": 3
   },
   "file_extension": ".py",
   "mimetype": "text/x-python",
   "name": "python",
   "nbconvert_exporter": "python",
   "pygments_lexer": "ipython3",
   "version": "3.7.6"
  }
 },
 "nbformat": 4,
 "nbformat_minor": 4
}
