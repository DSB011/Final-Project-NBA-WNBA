{
 "cells": [
  {
   "cell_type": "markdown",
   "metadata": {},
   "source": [
    "# Machine Learning the NBA\n",
    "\n",
    "## Let's predict wins and see if the model holds up without fans"
   ]
  },
  {
   "cell_type": "markdown",
   "metadata": {},
   "source": [
    "Our group wanted to know fans (and the lack of fans) affect player performance. We were also required to use machine learning, so here we are.\n",
    "\n",
    "We decided to train two models on pre-COVID player stats to predict the outcome of the game: win or loss. This is our \"performance with fans\" baseline.\n",
    "\n",
    "Next we run the fanless player game stats into the trained model to quantify the impact of missing fans on our predictions.\n",
    "\n",
    "We pulled player stats per game from 2015 through 2020 via the SportRadar API, first Schedule per year then looping through the games to get Game Summary per player stats.\n",
    "\n",
    "The two models are Random Forrest and Sequential with hidden layers.\n",
    "\n",
    "On to the code!\n"
   ]
  },
  {
   "cell_type": "code",
   "execution_count": 1,
   "metadata": {
    "scrolled": false
   },
   "outputs": [
    {
     "name": "stdout",
     "output_type": "stream",
     "text": [
      "Requirement already up-to-date: sklearn in c:\\programdata\\anaconda3\\lib\\site-packages (0.0)\n",
      "Requirement already satisfied, skipping upgrade: scikit-learn in c:\\programdata\\anaconda3\\lib\\site-packages (from sklearn) (0.22.1)\n",
      "Requirement already satisfied, skipping upgrade: numpy>=1.11.0 in c:\\programdata\\anaconda3\\lib\\site-packages (from scikit-learn->sklearn) (1.18.1)\n",
      "Requirement already satisfied, skipping upgrade: scipy>=0.17.0 in c:\\programdata\\anaconda3\\lib\\site-packages (from scikit-learn->sklearn) (1.4.1)\n",
      "Requirement already satisfied, skipping upgrade: joblib>=0.11 in c:\\programdata\\anaconda3\\lib\\site-packages (from scikit-learn->sklearn) (0.14.1)\n"
     ]
    }
   ],
   "source": [
    "# get the latest and greatest sklearn for your models!\n",
    "!pip install sklearn --upgrade"
   ]
  },
  {
   "cell_type": "code",
   "execution_count": 2,
   "metadata": {},
   "outputs": [],
   "source": [
    "# next import dependencies for data preprocessing\n",
    "import pandas as pd\n",
    "from datetime import datetime as dt\n",
    "import numpy as np\n",
    "import requests\n",
    "import config\n",
    "import json\n",
    "import time\n",
    "import datetime\n",
    "from pprint import pprint"
   ]
  },
  {
   "cell_type": "markdown",
   "metadata": {},
   "source": [
    "## Preprocess the data!"
   ]
  },
  {
   "cell_type": "code",
   "execution_count": 3,
   "metadata": {},
   "outputs": [],
   "source": [
    "# pull in the per game player stats with fans, conveniently saved as a csv\n",
    "df = pd.read_csv('data_files/fullplayerstatslist.csv')"
   ]
  },
  {
   "cell_type": "code",
   "execution_count": 5,
   "metadata": {},
   "outputs": [
    {
     "data": {
      "text/html": [
       "<div>\n",
       "<style scoped>\n",
       "    .dataframe tbody tr th:only-of-type {\n",
       "        vertical-align: middle;\n",
       "    }\n",
       "\n",
       "    .dataframe tbody tr th {\n",
       "        vertical-align: top;\n",
       "    }\n",
       "\n",
       "    .dataframe thead th {\n",
       "        text-align: right;\n",
       "    }\n",
       "</style>\n",
       "<table border=\"1\" class=\"dataframe\">\n",
       "  <thead>\n",
       "    <tr style=\"text-align: right;\">\n",
       "      <th></th>\n",
       "      <th>Unnamed: 0</th>\n",
       "      <th>Unnamed: 0.1</th>\n",
       "      <th>First_Name</th>\n",
       "      <th>Last_Name</th>\n",
       "      <th>player_id</th>\n",
       "      <th>Position</th>\n",
       "      <th>Points</th>\n",
       "      <th>Free_Throw_Percent</th>\n",
       "      <th>Two_Pt_Percent</th>\n",
       "      <th>Three_Pt_Percent</th>\n",
       "      <th>...</th>\n",
       "      <th>Turnovers</th>\n",
       "      <th>Team</th>\n",
       "      <th>Home_Away</th>\n",
       "      <th>win</th>\n",
       "      <th>Team_points</th>\n",
       "      <th>Min_played</th>\n",
       "      <th>Crowd</th>\n",
       "      <th>Stadium_Cap</th>\n",
       "      <th>game_id</th>\n",
       "      <th>game_date</th>\n",
       "    </tr>\n",
       "  </thead>\n",
       "  <tbody>\n",
       "    <tr>\n",
       "      <th>0</th>\n",
       "      <td>0</td>\n",
       "      <td>0</td>\n",
       "      <td>LeBron</td>\n",
       "      <td>James</td>\n",
       "      <td>0afbe608-940a-4d5d-a1f7-468718c67d91</td>\n",
       "      <td>F</td>\n",
       "      <td>19</td>\n",
       "      <td>50.0</td>\n",
       "      <td>81.818</td>\n",
       "      <td>0.0</td>\n",
       "      <td>...</td>\n",
       "      <td>4</td>\n",
       "      <td>Cavaliers</td>\n",
       "      <td>1</td>\n",
       "      <td>1</td>\n",
       "      <td>117</td>\n",
       "      <td>32:23</td>\n",
       "      <td>20562</td>\n",
       "      <td>20562</td>\n",
       "      <td>0da78f13-73ac-4465-8e31-ecc3029a5dc6</td>\n",
       "      <td>2016-10-25T23:30:00+00:00</td>\n",
       "    </tr>\n",
       "    <tr>\n",
       "      <th>1</th>\n",
       "      <td>1</td>\n",
       "      <td>1</td>\n",
       "      <td>James</td>\n",
       "      <td>Jones</td>\n",
       "      <td>09d25155-c3be-4246-a986-55921a1b5e61</td>\n",
       "      <td>G-F</td>\n",
       "      <td>5</td>\n",
       "      <td>100.0</td>\n",
       "      <td>0.000</td>\n",
       "      <td>100.0</td>\n",
       "      <td>...</td>\n",
       "      <td>0</td>\n",
       "      <td>Cavaliers</td>\n",
       "      <td>1</td>\n",
       "      <td>1</td>\n",
       "      <td>117</td>\n",
       "      <td>5:30</td>\n",
       "      <td>20562</td>\n",
       "      <td>20562</td>\n",
       "      <td>0da78f13-73ac-4465-8e31-ecc3029a5dc6</td>\n",
       "      <td>2016-10-25T23:30:00+00:00</td>\n",
       "    </tr>\n",
       "    <tr>\n",
       "      <th>2</th>\n",
       "      <td>2</td>\n",
       "      <td>2</td>\n",
       "      <td>J.R.</td>\n",
       "      <td>Smith</td>\n",
       "      <td>5934134d-0d27-42ea-a554-4b0e3e85ce56</td>\n",
       "      <td>G-F</td>\n",
       "      <td>8</td>\n",
       "      <td>0.0</td>\n",
       "      <td>20.000</td>\n",
       "      <td>25.0</td>\n",
       "      <td>...</td>\n",
       "      <td>0</td>\n",
       "      <td>Cavaliers</td>\n",
       "      <td>1</td>\n",
       "      <td>1</td>\n",
       "      <td>117</td>\n",
       "      <td>25:14</td>\n",
       "      <td>20562</td>\n",
       "      <td>20562</td>\n",
       "      <td>0da78f13-73ac-4465-8e31-ecc3029a5dc6</td>\n",
       "      <td>2016-10-25T23:30:00+00:00</td>\n",
       "    </tr>\n",
       "    <tr>\n",
       "      <th>3</th>\n",
       "      <td>3</td>\n",
       "      <td>3</td>\n",
       "      <td>Kay</td>\n",
       "      <td>Felder</td>\n",
       "      <td>8d3acdd5-9b5a-4d69-9912-de42d979c31a</td>\n",
       "      <td>G</td>\n",
       "      <td>0</td>\n",
       "      <td>0.0</td>\n",
       "      <td>0.000</td>\n",
       "      <td>0.0</td>\n",
       "      <td>...</td>\n",
       "      <td>0</td>\n",
       "      <td>Cavaliers</td>\n",
       "      <td>1</td>\n",
       "      <td>1</td>\n",
       "      <td>117</td>\n",
       "      <td>00:00</td>\n",
       "      <td>20562</td>\n",
       "      <td>20562</td>\n",
       "      <td>0da78f13-73ac-4465-8e31-ecc3029a5dc6</td>\n",
       "      <td>2016-10-25T23:30:00+00:00</td>\n",
       "    </tr>\n",
       "    <tr>\n",
       "      <th>4</th>\n",
       "      <td>4</td>\n",
       "      <td>4</td>\n",
       "      <td>Mike</td>\n",
       "      <td>Dunleavy</td>\n",
       "      <td>4ec1bff7-ec1b-488b-8a24-aed83e62b4ce</td>\n",
       "      <td>G-F</td>\n",
       "      <td>4</td>\n",
       "      <td>0.0</td>\n",
       "      <td>100.000</td>\n",
       "      <td>0.0</td>\n",
       "      <td>...</td>\n",
       "      <td>0</td>\n",
       "      <td>Cavaliers</td>\n",
       "      <td>1</td>\n",
       "      <td>1</td>\n",
       "      <td>117</td>\n",
       "      <td>22:32</td>\n",
       "      <td>20562</td>\n",
       "      <td>20562</td>\n",
       "      <td>0da78f13-73ac-4465-8e31-ecc3029a5dc6</td>\n",
       "      <td>2016-10-25T23:30:00+00:00</td>\n",
       "    </tr>\n",
       "  </tbody>\n",
       "</table>\n",
       "<p>5 rows × 27 columns</p>\n",
       "</div>"
      ],
      "text/plain": [
       "   Unnamed: 0  Unnamed: 0.1 First_Name Last_Name  \\\n",
       "0           0             0     LeBron     James   \n",
       "1           1             1      James     Jones   \n",
       "2           2             2       J.R.     Smith   \n",
       "3           3             3        Kay    Felder   \n",
       "4           4             4       Mike  Dunleavy   \n",
       "\n",
       "                              player_id Position  Points  Free_Throw_Percent  \\\n",
       "0  0afbe608-940a-4d5d-a1f7-468718c67d91        F      19                50.0   \n",
       "1  09d25155-c3be-4246-a986-55921a1b5e61      G-F       5               100.0   \n",
       "2  5934134d-0d27-42ea-a554-4b0e3e85ce56      G-F       8                 0.0   \n",
       "3  8d3acdd5-9b5a-4d69-9912-de42d979c31a        G       0                 0.0   \n",
       "4  4ec1bff7-ec1b-488b-8a24-aed83e62b4ce      G-F       4                 0.0   \n",
       "\n",
       "   Two_Pt_Percent  Three_Pt_Percent  ...  Turnovers       Team  Home_Away  \\\n",
       "0          81.818               0.0  ...          4  Cavaliers          1   \n",
       "1           0.000             100.0  ...          0  Cavaliers          1   \n",
       "2          20.000              25.0  ...          0  Cavaliers          1   \n",
       "3           0.000               0.0  ...          0  Cavaliers          1   \n",
       "4         100.000               0.0  ...          0  Cavaliers          1   \n",
       "\n",
       "   win  Team_points  Min_played  Crowd  Stadium_Cap  \\\n",
       "0    1          117       32:23  20562        20562   \n",
       "1    1          117        5:30  20562        20562   \n",
       "2    1          117       25:14  20562        20562   \n",
       "3    1          117       00:00  20562        20562   \n",
       "4    1          117       22:32  20562        20562   \n",
       "\n",
       "                                game_id                  game_date  \n",
       "0  0da78f13-73ac-4465-8e31-ecc3029a5dc6  2016-10-25T23:30:00+00:00  \n",
       "1  0da78f13-73ac-4465-8e31-ecc3029a5dc6  2016-10-25T23:30:00+00:00  \n",
       "2  0da78f13-73ac-4465-8e31-ecc3029a5dc6  2016-10-25T23:30:00+00:00  \n",
       "3  0da78f13-73ac-4465-8e31-ecc3029a5dc6  2016-10-25T23:30:00+00:00  \n",
       "4  0da78f13-73ac-4465-8e31-ecc3029a5dc6  2016-10-25T23:30:00+00:00  \n",
       "\n",
       "[5 rows x 27 columns]"
      ]
     },
     "execution_count": 5,
     "metadata": {},
     "output_type": "execute_result"
    }
   ],
   "source": [
    "# here's a peak at the raw data\n",
    "df.head()"
   ]
  },
  {
   "cell_type": "code",
   "execution_count": 6,
   "metadata": {},
   "outputs": [
    {
     "data": {
      "text/html": [
       "<div>\n",
       "<style scoped>\n",
       "    .dataframe tbody tr th:only-of-type {\n",
       "        vertical-align: middle;\n",
       "    }\n",
       "\n",
       "    .dataframe tbody tr th {\n",
       "        vertical-align: top;\n",
       "    }\n",
       "\n",
       "    .dataframe thead th {\n",
       "        text-align: right;\n",
       "    }\n",
       "</style>\n",
       "<table border=\"1\" class=\"dataframe\">\n",
       "  <thead>\n",
       "    <tr style=\"text-align: right;\">\n",
       "      <th></th>\n",
       "      <th>Points</th>\n",
       "      <th>Free_Throw_Percent</th>\n",
       "      <th>Two_Pt_Percent</th>\n",
       "      <th>Three_Pt_Percent</th>\n",
       "      <th>Assists</th>\n",
       "      <th>Rebounds</th>\n",
       "      <th>Offensive_Rebounds</th>\n",
       "      <th>Steals</th>\n",
       "      <th>Personal_Fouls</th>\n",
       "      <th>Flagrant_Fouls</th>\n",
       "      <th>Tech_Fouls</th>\n",
       "      <th>Turnovers</th>\n",
       "      <th>Home_Away</th>\n",
       "      <th>win</th>\n",
       "    </tr>\n",
       "  </thead>\n",
       "  <tbody>\n",
       "    <tr>\n",
       "      <th>0</th>\n",
       "      <td>19</td>\n",
       "      <td>50.0</td>\n",
       "      <td>81.818</td>\n",
       "      <td>0.0</td>\n",
       "      <td>14</td>\n",
       "      <td>11</td>\n",
       "      <td>3</td>\n",
       "      <td>0</td>\n",
       "      <td>3</td>\n",
       "      <td>0</td>\n",
       "      <td>0</td>\n",
       "      <td>4</td>\n",
       "      <td>1</td>\n",
       "      <td>1</td>\n",
       "    </tr>\n",
       "    <tr>\n",
       "      <th>1</th>\n",
       "      <td>5</td>\n",
       "      <td>100.0</td>\n",
       "      <td>0.000</td>\n",
       "      <td>100.0</td>\n",
       "      <td>0</td>\n",
       "      <td>0</td>\n",
       "      <td>0</td>\n",
       "      <td>0</td>\n",
       "      <td>1</td>\n",
       "      <td>0</td>\n",
       "      <td>0</td>\n",
       "      <td>0</td>\n",
       "      <td>1</td>\n",
       "      <td>1</td>\n",
       "    </tr>\n",
       "    <tr>\n",
       "      <th>2</th>\n",
       "      <td>8</td>\n",
       "      <td>0.0</td>\n",
       "      <td>20.000</td>\n",
       "      <td>25.0</td>\n",
       "      <td>2</td>\n",
       "      <td>3</td>\n",
       "      <td>0</td>\n",
       "      <td>1</td>\n",
       "      <td>1</td>\n",
       "      <td>0</td>\n",
       "      <td>0</td>\n",
       "      <td>0</td>\n",
       "      <td>1</td>\n",
       "      <td>1</td>\n",
       "    </tr>\n",
       "    <tr>\n",
       "      <th>3</th>\n",
       "      <td>4</td>\n",
       "      <td>0.0</td>\n",
       "      <td>100.000</td>\n",
       "      <td>0.0</td>\n",
       "      <td>2</td>\n",
       "      <td>4</td>\n",
       "      <td>0</td>\n",
       "      <td>3</td>\n",
       "      <td>0</td>\n",
       "      <td>0</td>\n",
       "      <td>0</td>\n",
       "      <td>0</td>\n",
       "      <td>1</td>\n",
       "      <td>1</td>\n",
       "    </tr>\n",
       "    <tr>\n",
       "      <th>4</th>\n",
       "      <td>23</td>\n",
       "      <td>75.0</td>\n",
       "      <td>44.444</td>\n",
       "      <td>33.3</td>\n",
       "      <td>2</td>\n",
       "      <td>12</td>\n",
       "      <td>2</td>\n",
       "      <td>3</td>\n",
       "      <td>3</td>\n",
       "      <td>0</td>\n",
       "      <td>0</td>\n",
       "      <td>2</td>\n",
       "      <td>1</td>\n",
       "      <td>1</td>\n",
       "    </tr>\n",
       "  </tbody>\n",
       "</table>\n",
       "</div>"
      ],
      "text/plain": [
       "   Points  Free_Throw_Percent  Two_Pt_Percent  Three_Pt_Percent  Assists  \\\n",
       "0      19                50.0          81.818               0.0       14   \n",
       "1       5               100.0           0.000             100.0        0   \n",
       "2       8                 0.0          20.000              25.0        2   \n",
       "3       4                 0.0         100.000               0.0        2   \n",
       "4      23                75.0          44.444              33.3        2   \n",
       "\n",
       "   Rebounds  Offensive_Rebounds  Steals  Personal_Fouls  Flagrant_Fouls  \\\n",
       "0        11                   3       0               3               0   \n",
       "1         0                   0       0               1               0   \n",
       "2         3                   0       1               1               0   \n",
       "3         4                   0       3               0               0   \n",
       "4        12                   2       3               3               0   \n",
       "\n",
       "   Tech_Fouls  Turnovers  Home_Away  win  \n",
       "0           0          4          1    1  \n",
       "1           0          0          1    1  \n",
       "2           0          0          1    1  \n",
       "3           0          0          1    1  \n",
       "4           0          2          1    1  "
      ]
     },
     "execution_count": 6,
     "metadata": {},
     "output_type": "execute_result"
    }
   ],
   "source": [
    "# let's trim the data down to our X factors...\n",
    "df_dropped = df[df['Min_played'] != \"00:00\"]\n",
    "df_dropped = df_dropped[df_dropped['Crowd'] != 'Covid']\n",
    "df_dropped = df_dropped[df_dropped['Crowd'] != '0']\n",
    "df_dropped= df_dropped[[\"Points\", \"Free_Throw_Percent\",\n",
    "                  \"Two_Pt_Percent\",\n",
    "                  \"Three_Pt_Percent\", \"Assists\",\n",
    "                  \"Rebounds\", \"Offensive_Rebounds\",\n",
    "                  \"Steals\", \"Personal_Fouls\",\n",
    "                  \"Flagrant_Fouls\", \"Tech_Fouls\",\n",
    "                  \"Turnovers\",\n",
    "                  \"Home_Away\", \"win\"\n",
    "                  ]].reset_index(drop = True)\n",
    "df_dropped.head()"
   ]
  },
  {
   "cell_type": "code",
   "execution_count": 8,
   "metadata": {},
   "outputs": [
    {
     "name": "stdout",
     "output_type": "stream",
     "text": [
      "(120384, 13)\n"
     ]
    }
   ],
   "source": [
    "# grab every stat except the 'win' column as your X features\n",
    "X = df_dropped.drop('win', axis=1)\n",
    "print(X.shape)"
   ]
  },
  {
   "cell_type": "code",
   "execution_count": 9,
   "metadata": {},
   "outputs": [
    {
     "name": "stdout",
     "output_type": "stream",
     "text": [
      "(120384,)\n"
     ]
    }
   ],
   "source": [
    "# set your y to predict to 'win'\n",
    "y = df_dropped['win']\n",
    "print(y.shape)"
   ]
  },
  {
   "cell_type": "code",
   "execution_count": 10,
   "metadata": {},
   "outputs": [],
   "source": [
    "# now import the tools to train and scale\n",
    "from sklearn.model_selection import train_test_split\n",
    "from sklearn.preprocessing import LabelEncoder, MinMaxScaler\n",
    "from tensorflow.keras.utils import to_categorical"
   ]
  },
  {
   "cell_type": "code",
   "execution_count": 11,
   "metadata": {},
   "outputs": [],
   "source": [
    "# split X and y into train and test groups\n",
    "X_train, X_test, y_train, y_test = train_test_split(X,y,random_state=42)"
   ]
  },
  {
   "cell_type": "code",
   "execution_count": 12,
   "metadata": {},
   "outputs": [],
   "source": [
    "# now scale the X data to keep everything reasonable\n",
    "X_scaler = MinMaxScaler().fit(X_train)\n",
    "X_train_scaled = X_scaler.transform(X_train)\n",
    "X_test_scaled = X_scaler.transform(X_test)"
   ]
  },
  {
   "cell_type": "markdown",
   "metadata": {},
   "source": [
    "Now our stats are X features and our y to predict is wins. Aside from a little more y preprocessing for the Sequential model, let's start making models!"
   ]
  },
  {
   "cell_type": "markdown",
   "metadata": {},
   "source": [
    "## Into the Random Forrest"
   ]
  },
  {
   "cell_type": "code",
   "execution_count": 13,
   "metadata": {},
   "outputs": [
    {
     "data": {
      "text/plain": [
       "RandomForestClassifier(bootstrap=True, ccp_alpha=0.0, class_weight=None,\n",
       "                       criterion='gini', max_depth=None, max_features='auto',\n",
       "                       max_leaf_nodes=None, max_samples=None,\n",
       "                       min_impurity_decrease=0.0, min_impurity_split=None,\n",
       "                       min_samples_leaf=1, min_samples_split=2,\n",
       "                       min_weight_fraction_leaf=0.0, n_estimators=200,\n",
       "                       n_jobs=None, oob_score=False, random_state=None,\n",
       "                       verbose=0, warm_start=False)"
      ]
     },
     "execution_count": 13,
     "metadata": {},
     "output_type": "execute_result"
    }
   ],
   "source": [
    "# we tried a few n_estimator settings (100, 1000) and landed on the sweet spot through trial and error: 200\n",
    "from sklearn.ensemble import RandomForestClassifier\n",
    "\n",
    "# define the model\n",
    "modelRF = RandomForestClassifier(n_estimators=200)\n",
    "\n",
    "# train on training data\n",
    "modelRF.fit(X_train_scaled, y_train)\n"
   ]
  },
  {
   "cell_type": "code",
   "execution_count": 15,
   "metadata": {},
   "outputs": [
    {
     "name": "stdout",
     "output_type": "stream",
     "text": [
      "Training Data Score: 95.29%\n",
      "Testing Data Score: 69.43%\n"
     ]
    }
   ],
   "source": [
    "# let's see how our Random Forrest did!\n",
    "print(f\"Training Data Score: {round(modelRF.score(X_train_scaled, y_train)*100,2)}%\")\n",
    "print(f\"Testing Data Score: {round(modelRF.score(X_test_scaled, y_test)*100,2)}%\")"
   ]
  },
  {
   "cell_type": "code",
   "execution_count": 17,
   "metadata": {},
   "outputs": [
    {
     "data": {
      "text/html": [
       "<div>\n",
       "<style scoped>\n",
       "    .dataframe tbody tr th:only-of-type {\n",
       "        vertical-align: middle;\n",
       "    }\n",
       "\n",
       "    .dataframe tbody tr th {\n",
       "        vertical-align: top;\n",
       "    }\n",
       "\n",
       "    .dataframe thead th {\n",
       "        text-align: right;\n",
       "    }\n",
       "</style>\n",
       "<table border=\"1\" class=\"dataframe\">\n",
       "  <thead>\n",
       "    <tr style=\"text-align: right;\">\n",
       "      <th></th>\n",
       "      <th>Score</th>\n",
       "    </tr>\n",
       "    <tr>\n",
       "      <th>Feature</th>\n",
       "      <th></th>\n",
       "    </tr>\n",
       "  </thead>\n",
       "  <tbody>\n",
       "    <tr>\n",
       "      <th>Points</th>\n",
       "      <td>0.138204</td>\n",
       "    </tr>\n",
       "    <tr>\n",
       "      <th>Rebounds</th>\n",
       "      <td>0.133824</td>\n",
       "    </tr>\n",
       "    <tr>\n",
       "      <th>Two_Pt_Percent</th>\n",
       "      <td>0.123946</td>\n",
       "    </tr>\n",
       "    <tr>\n",
       "      <th>Assists</th>\n",
       "      <td>0.110833</td>\n",
       "    </tr>\n",
       "    <tr>\n",
       "      <th>Personal_Fouls</th>\n",
       "      <td>0.098869</td>\n",
       "    </tr>\n",
       "    <tr>\n",
       "      <th>Three_Pt_Percent</th>\n",
       "      <td>0.079086</td>\n",
       "    </tr>\n",
       "    <tr>\n",
       "      <th>Turnovers</th>\n",
       "      <td>0.072240</td>\n",
       "    </tr>\n",
       "    <tr>\n",
       "      <th>Free_Throw_Percent</th>\n",
       "      <td>0.069879</td>\n",
       "    </tr>\n",
       "    <tr>\n",
       "      <th>Offensive_Rebounds</th>\n",
       "      <td>0.067301</td>\n",
       "    </tr>\n",
       "    <tr>\n",
       "      <th>Steals</th>\n",
       "      <td>0.063770</td>\n",
       "    </tr>\n",
       "    <tr>\n",
       "      <th>Home_Away</th>\n",
       "      <td>0.030521</td>\n",
       "    </tr>\n",
       "    <tr>\n",
       "      <th>Tech_Fouls</th>\n",
       "      <td>0.009222</td>\n",
       "    </tr>\n",
       "    <tr>\n",
       "      <th>Flagrant_Fouls</th>\n",
       "      <td>0.002305</td>\n",
       "    </tr>\n",
       "  </tbody>\n",
       "</table>\n",
       "</div>"
      ],
      "text/plain": [
       "                       Score\n",
       "Feature                     \n",
       "Points              0.138204\n",
       "Rebounds            0.133824\n",
       "Two_Pt_Percent      0.123946\n",
       "Assists             0.110833\n",
       "Personal_Fouls      0.098869\n",
       "Three_Pt_Percent    0.079086\n",
       "Turnovers           0.072240\n",
       "Free_Throw_Percent  0.069879\n",
       "Offensive_Rebounds  0.067301\n",
       "Steals              0.063770\n",
       "Home_Away           0.030521\n",
       "Tech_Fouls          0.009222\n",
       "Flagrant_Fouls      0.002305"
      ]
     },
     "execution_count": 17,
     "metadata": {},
     "output_type": "execute_result"
    }
   ],
   "source": [
    "# last since we're running Random Forrest let's rank the top features\n",
    "feature_names = X.columns.tolist()\n",
    "preSelected_features = sorted(zip(modelRF.feature_importances_, feature_names), reverse=True)\n",
    "ranked_features = pd.DataFrame(preSelected_features, columns=['Score', 'Feature'])\n",
    "ranked_features = ranked_features.set_index('Feature')\n",
    "ranked_features"
   ]
  },
  {
   "cell_type": "markdown",
   "metadata": {},
   "source": [
    "Random Forrest gets us to 69% accuracy predicting win/loss based on per player game stats - not bad!\n",
    "\n",
    "Unsurprisingly Points, Rebounds, Shooting Percentage, and Assists have the greatest impact.\n",
    "\n",
    "So pre-COVID Random Forrest model is ready to go. Let's get Sequential with a few hidden layers next."
   ]
  },
  {
   "cell_type": "markdown",
   "metadata": {},
   "source": [
    "## Create a Sequential Deep Learning Model"
   ]
  },
  {
   "cell_type": "code",
   "execution_count": 25,
   "metadata": {},
   "outputs": [],
   "source": [
    "# Sequential Deep learning picked because the model predicted male/female voices in our class exercise. Looking for the same binary decision: win or loss\n",
    "\n",
    "# also our Sequential model threw an error the first time out so we added LabelEncoder to y (and it worked!)\n",
    "label_encoder = LabelEncoder()\n",
    "label_encoder.fit(y_train)\n",
    "encoded_y_train = label_encoder.transform(y_train)\n",
    "encoded_y_test = label_encoder.transform(y_test)\n",
    "\n",
    "# Then we need to convert y labels to one-hot-encoding\n",
    "y_train_categorical = to_categorical(encoded_y_train)\n",
    "y_test_categorical = to_categorical(encoded_y_test)"
   ]
  },
  {
   "cell_type": "code",
   "execution_count": 26,
   "metadata": {},
   "outputs": [],
   "source": [
    "# import the Sequential model and Dense for the hidden layers\n",
    "from tensorflow.keras.models import Sequential\n",
    "from tensorflow.keras.layers import Dense"
   ]
  },
  {
   "cell_type": "code",
   "execution_count": 27,
   "metadata": {},
   "outputs": [],
   "source": [
    "# Create model and add layers\n",
    "# tried increasing units by 100 per layer (ex 100, 200, 300, 400); less accurate\n",
    "# tried fewer and more hidden layers but best accuracy was three additional layers, 100 units, 100 epochs\n",
    "# input_dim set to 13 because we have 13 X factors!\n",
    "# layer activation set to relu because the X factors are all over the place and we want a relative model\n",
    "# last the final 2 until layer to find wins/losses set to softmax as it's a binary decision and we want to make it softly\n",
    "\n",
    "model = Sequential()\n",
    "model.add(Dense(units=100, activation='relu', input_dim=13))\n",
    "model.add(Dense(units=100, activation='relu'))\n",
    "model.add(Dense(units=100, activation='relu'))\n",
    "model.add(Dense(units=100, activation='relu'))\n",
    "model.add(Dense(units=2, activation='softmax'))"
   ]
  },
  {
   "cell_type": "code",
   "execution_count": 28,
   "metadata": {},
   "outputs": [],
   "source": [
    "# Compile and fit the model\n",
    "# optimizer, loss, and metrics set same as the male/female vocal predictions - keeping it binary\n",
    "\n",
    "model.compile(optimizer='adam',\n",
    "              loss='categorical_crossentropy',\n",
    "              metrics=['accuracy'])"
   ]
  },
  {
   "cell_type": "code",
   "execution_count": 29,
   "metadata": {},
   "outputs": [
    {
     "name": "stdout",
     "output_type": "stream",
     "text": [
      "Model: \"sequential_1\"\n",
      "_________________________________________________________________\n",
      "Layer (type)                 Output Shape              Param #   \n",
      "=================================================================\n",
      "dense_5 (Dense)              (None, 100)               1400      \n",
      "_________________________________________________________________\n",
      "dense_6 (Dense)              (None, 100)               10100     \n",
      "_________________________________________________________________\n",
      "dense_7 (Dense)              (None, 100)               10100     \n",
      "_________________________________________________________________\n",
      "dense_8 (Dense)              (None, 100)               10100     \n",
      "_________________________________________________________________\n",
      "dense_9 (Dense)              (None, 2)                 202       \n",
      "=================================================================\n",
      "Total params: 31,902\n",
      "Trainable params: 31,902\n",
      "Non-trainable params: 0\n",
      "_________________________________________________________________\n"
     ]
    }
   ],
   "source": [
    "# let's summarize and make sure we're ready to train!\n",
    "model.summary()"
   ]
  },
  {
   "cell_type": "code",
   "execution_count": 30,
   "metadata": {},
   "outputs": [
    {
     "name": "stdout",
     "output_type": "stream",
     "text": [
      "Epoch 1/100\n",
      "2822/2822 - 2s - loss: 0.6715 - accuracy: 0.5880\n",
      "Epoch 2/100\n",
      "2822/2822 - 2s - loss: 0.6672 - accuracy: 0.5950\n",
      "Epoch 3/100\n",
      "2822/2822 - 2s - loss: 0.6663 - accuracy: 0.5969\n",
      "Epoch 4/100\n",
      "2822/2822 - 1s - loss: 0.6654 - accuracy: 0.5986\n",
      "Epoch 5/100\n",
      "2822/2822 - 1s - loss: 0.6646 - accuracy: 0.5986\n",
      "Epoch 6/100\n",
      "2822/2822 - 2s - loss: 0.6641 - accuracy: 0.5993\n",
      "Epoch 7/100\n",
      "2822/2822 - 1s - loss: 0.6637 - accuracy: 0.5999\n",
      "Epoch 8/100\n",
      "2822/2822 - 1s - loss: 0.6635 - accuracy: 0.6005\n",
      "Epoch 9/100\n",
      "2822/2822 - 1s - loss: 0.6627 - accuracy: 0.6021\n",
      "Epoch 10/100\n",
      "2822/2822 - 1s - loss: 0.6627 - accuracy: 0.6015\n",
      "Epoch 11/100\n",
      "2822/2822 - 1s - loss: 0.6621 - accuracy: 0.6014\n",
      "Epoch 12/100\n",
      "2822/2822 - 1s - loss: 0.6617 - accuracy: 0.6024\n",
      "Epoch 13/100\n",
      "2822/2822 - 1s - loss: 0.6615 - accuracy: 0.6019\n",
      "Epoch 14/100\n",
      "2822/2822 - 1s - loss: 0.6610 - accuracy: 0.6029\n",
      "Epoch 15/100\n",
      "2822/2822 - 1s - loss: 0.6606 - accuracy: 0.6041\n",
      "Epoch 16/100\n",
      "2822/2822 - 1s - loss: 0.6600 - accuracy: 0.6034\n",
      "Epoch 17/100\n",
      "2822/2822 - 1s - loss: 0.6595 - accuracy: 0.6042\n",
      "Epoch 18/100\n",
      "2822/2822 - 1s - loss: 0.6591 - accuracy: 0.6055\n",
      "Epoch 19/100\n",
      "2822/2822 - 1s - loss: 0.6583 - accuracy: 0.6060\n",
      "Epoch 20/100\n",
      "2822/2822 - 1s - loss: 0.6577 - accuracy: 0.6055\n",
      "Epoch 21/100\n",
      "2822/2822 - 1s - loss: 0.6570 - accuracy: 0.6050\n",
      "Epoch 22/100\n",
      "2822/2822 - 1s - loss: 0.6569 - accuracy: 0.6070\n",
      "Epoch 23/100\n",
      "2822/2822 - 1s - loss: 0.6558 - accuracy: 0.6076\n",
      "Epoch 24/100\n",
      "2822/2822 - 1s - loss: 0.6550 - accuracy: 0.6096\n",
      "Epoch 25/100\n",
      "2822/2822 - 1s - loss: 0.6545 - accuracy: 0.6091\n",
      "Epoch 26/100\n",
      "2822/2822 - 1s - loss: 0.6536 - accuracy: 0.6097\n",
      "Epoch 27/100\n",
      "2822/2822 - 1s - loss: 0.6527 - accuracy: 0.6117\n",
      "Epoch 28/100\n",
      "2822/2822 - 1s - loss: 0.6522 - accuracy: 0.6124\n",
      "Epoch 29/100\n",
      "2822/2822 - 1s - loss: 0.6509 - accuracy: 0.6126\n",
      "Epoch 30/100\n",
      "2822/2822 - 1s - loss: 0.6499 - accuracy: 0.6144\n",
      "Epoch 31/100\n",
      "2822/2822 - 1s - loss: 0.6487 - accuracy: 0.6152\n",
      "Epoch 32/100\n",
      "2822/2822 - 1s - loss: 0.6481 - accuracy: 0.6152\n",
      "Epoch 33/100\n",
      "2822/2822 - 1s - loss: 0.6467 - accuracy: 0.6162\n",
      "Epoch 34/100\n",
      "2822/2822 - 1s - loss: 0.6461 - accuracy: 0.6175\n",
      "Epoch 35/100\n",
      "2822/2822 - 1s - loss: 0.6451 - accuracy: 0.6175\n",
      "Epoch 36/100\n",
      "2822/2822 - 1s - loss: 0.6438 - accuracy: 0.6195\n",
      "Epoch 37/100\n",
      "2822/2822 - 1s - loss: 0.6436 - accuracy: 0.6196\n",
      "Epoch 38/100\n",
      "2822/2822 - 1s - loss: 0.6421 - accuracy: 0.6214\n",
      "Epoch 39/100\n",
      "2822/2822 - 1s - loss: 0.6409 - accuracy: 0.6226\n",
      "Epoch 40/100\n",
      "2822/2822 - 1s - loss: 0.6404 - accuracy: 0.6248\n",
      "Epoch 41/100\n",
      "2822/2822 - 1s - loss: 0.6386 - accuracy: 0.6248\n",
      "Epoch 42/100\n",
      "2822/2822 - 1s - loss: 0.6376 - accuracy: 0.6259\n",
      "Epoch 43/100\n",
      "2822/2822 - 1s - loss: 0.6365 - accuracy: 0.6274\n",
      "Epoch 44/100\n",
      "2822/2822 - 1s - loss: 0.6350 - accuracy: 0.6291\n",
      "Epoch 45/100\n",
      "2822/2822 - 1s - loss: 0.6341 - accuracy: 0.6291\n",
      "Epoch 46/100\n",
      "2822/2822 - 1s - loss: 0.6323 - accuracy: 0.6320\n",
      "Epoch 47/100\n",
      "2822/2822 - 1s - loss: 0.6315 - accuracy: 0.6310\n",
      "Epoch 48/100\n",
      "2822/2822 - 1s - loss: 0.6298 - accuracy: 0.6328\n",
      "Epoch 49/100\n",
      "2822/2822 - 1s - loss: 0.6284 - accuracy: 0.6345\n",
      "Epoch 50/100\n",
      "2822/2822 - 1s - loss: 0.6275 - accuracy: 0.6346\n",
      "Epoch 51/100\n",
      "2822/2822 - 1s - loss: 0.6263 - accuracy: 0.6347\n",
      "Epoch 52/100\n",
      "2822/2822 - 1s - loss: 0.6241 - accuracy: 0.6383\n",
      "Epoch 53/100\n",
      "2822/2822 - 1s - loss: 0.6235 - accuracy: 0.6384\n",
      "Epoch 54/100\n",
      "2822/2822 - 1s - loss: 0.6228 - accuracy: 0.6398\n",
      "Epoch 55/100\n",
      "2822/2822 - 1s - loss: 0.6221 - accuracy: 0.6392\n",
      "Epoch 56/100\n",
      "2822/2822 - 1s - loss: 0.6192 - accuracy: 0.6417\n",
      "Epoch 57/100\n",
      "2822/2822 - 1s - loss: 0.6188 - accuracy: 0.6423\n",
      "Epoch 58/100\n",
      "2822/2822 - 1s - loss: 0.6183 - accuracy: 0.6443\n",
      "Epoch 59/100\n",
      "2822/2822 - 1s - loss: 0.6157 - accuracy: 0.6460\n",
      "Epoch 60/100\n",
      "2822/2822 - 1s - loss: 0.6152 - accuracy: 0.6462\n",
      "Epoch 61/100\n",
      "2822/2822 - 1s - loss: 0.6120 - accuracy: 0.6488\n",
      "Epoch 62/100\n",
      "2822/2822 - 1s - loss: 0.6125 - accuracy: 0.6471\n",
      "Epoch 63/100\n",
      "2822/2822 - 1s - loss: 0.6102 - accuracy: 0.6497\n",
      "Epoch 64/100\n",
      "2822/2822 - 1s - loss: 0.6091 - accuracy: 0.6501\n",
      "Epoch 65/100\n",
      "2822/2822 - 1s - loss: 0.6085 - accuracy: 0.6511\n",
      "Epoch 66/100\n",
      "2822/2822 - 1s - loss: 0.6065 - accuracy: 0.6536\n",
      "Epoch 67/100\n",
      "2822/2822 - 1s - loss: 0.6054 - accuracy: 0.6527\n",
      "Epoch 68/100\n",
      "2822/2822 - 1s - loss: 0.6038 - accuracy: 0.6539\n",
      "Epoch 69/100\n",
      "2822/2822 - 1s - loss: 0.6018 - accuracy: 0.6557\n",
      "Epoch 70/100\n",
      "2822/2822 - 1s - loss: 0.6022 - accuracy: 0.6570\n",
      "Epoch 71/100\n",
      "2822/2822 - 1s - loss: 0.6007 - accuracy: 0.6558\n",
      "Epoch 72/100\n",
      "2822/2822 - 1s - loss: 0.5987 - accuracy: 0.6597\n",
      "Epoch 73/100\n",
      "2822/2822 - 1s - loss: 0.5976 - accuracy: 0.6597\n",
      "Epoch 74/100\n",
      "2822/2822 - 1s - loss: 0.5959 - accuracy: 0.6604\n",
      "Epoch 75/100\n",
      "2822/2822 - 1s - loss: 0.5974 - accuracy: 0.6608\n",
      "Epoch 76/100\n",
      "2822/2822 - 1s - loss: 0.5939 - accuracy: 0.6636\n",
      "Epoch 77/100\n",
      "2822/2822 - 1s - loss: 0.5926 - accuracy: 0.6626\n",
      "Epoch 78/100\n",
      "2822/2822 - 1s - loss: 0.5912 - accuracy: 0.6647\n",
      "Epoch 79/100\n",
      "2822/2822 - 1s - loss: 0.5912 - accuracy: 0.6652\n",
      "Epoch 80/100\n",
      "2822/2822 - 1s - loss: 0.5891 - accuracy: 0.6650\n",
      "Epoch 81/100\n",
      "2822/2822 - 1s - loss: 0.5892 - accuracy: 0.6665\n",
      "Epoch 82/100\n",
      "2822/2822 - 1s - loss: 0.5888 - accuracy: 0.6671\n",
      "Epoch 83/100\n",
      "2822/2822 - 1s - loss: 0.5868 - accuracy: 0.6679\n",
      "Epoch 84/100\n",
      "2822/2822 - 1s - loss: 0.5845 - accuracy: 0.6689\n",
      "Epoch 85/100\n",
      "2822/2822 - 1s - loss: 0.5834 - accuracy: 0.6696\n",
      "Epoch 86/100\n",
      "2822/2822 - 1s - loss: 0.5842 - accuracy: 0.6691\n",
      "Epoch 87/100\n",
      "2822/2822 - 1s - loss: 0.5824 - accuracy: 0.6720\n",
      "Epoch 88/100\n",
      "2822/2822 - 1s - loss: 0.5820 - accuracy: 0.6713\n",
      "Epoch 89/100\n",
      "2822/2822 - 1s - loss: 0.5781 - accuracy: 0.6737\n",
      "Epoch 90/100\n",
      "2822/2822 - 1s - loss: 0.5785 - accuracy: 0.6738\n",
      "Epoch 91/100\n",
      "2822/2822 - 1s - loss: 0.5768 - accuracy: 0.6745\n",
      "Epoch 92/100\n",
      "2822/2822 - 1s - loss: 0.5771 - accuracy: 0.6755\n",
      "Epoch 93/100\n",
      "2822/2822 - 1s - loss: 0.5756 - accuracy: 0.6754\n",
      "Epoch 94/100\n",
      "2822/2822 - 1s - loss: 0.5746 - accuracy: 0.6753\n",
      "Epoch 95/100\n",
      "2822/2822 - 1s - loss: 0.5743 - accuracy: 0.6772\n",
      "Epoch 96/100\n",
      "2822/2822 - 1s - loss: 0.5715 - accuracy: 0.6793\n",
      "Epoch 97/100\n",
      "2822/2822 - 1s - loss: 0.5712 - accuracy: 0.6799\n",
      "Epoch 98/100\n",
      "2822/2822 - 1s - loss: 0.5714 - accuracy: 0.6794\n",
      "Epoch 99/100\n",
      "2822/2822 - 1s - loss: 0.5700 - accuracy: 0.6788\n",
      "Epoch 100/100\n",
      "2822/2822 - 1s - loss: 0.5698 - accuracy: 0.6812\n"
     ]
    },
    {
     "data": {
      "text/plain": [
       "<tensorflow.python.keras.callbacks.History at 0x24c026c3248>"
      ]
     },
     "execution_count": 30,
     "metadata": {},
     "output_type": "execute_result"
    }
   ],
   "source": [
    "# ok time to train our Sequential model\n",
    "# tried fewer epochs but we had computer processing power to spare and the accuracy went up until we hit 100\n",
    "\n",
    "model.fit(\n",
    "    X_train_scaled,\n",
    "    y_train_categorical,\n",
    "    epochs=100,\n",
    "    shuffle=True,\n",
    "    verbose=2\n",
    ")"
   ]
  },
  {
   "cell_type": "code",
   "execution_count": 32,
   "metadata": {},
   "outputs": [
    {
     "name": "stdout",
     "output_type": "stream",
     "text": [
      "941/941 - 0s - loss: 0.8607 - accuracy: 0.6030\n",
      "Normal Neural Network - Loss: 0.8607043027877808, Accuracy: 0.6029704809188843\n"
     ]
    }
   ],
   "source": [
    "# let's see how our Sequential model did!\n",
    "model_loss, model_accuracy = model.evaluate(\n",
    "    X_test_scaled, y_test_categorical, verbose=2)\n",
    "print(\n",
    "    f\"Normal Neural Network - Loss: {model_loss}, Accuracy: {model_accuracy}\")"
   ]
  },
  {
   "cell_type": "code",
   "execution_count": 33,
   "metadata": {},
   "outputs": [
    {
     "name": "stdout",
     "output_type": "stream",
     "text": [
      "WARNING:tensorflow:From <ipython-input-33-ee58f50ea8ca>:2: Sequential.predict_classes (from tensorflow.python.keras.engine.sequential) is deprecated and will be removed after 2021-01-01.\n",
      "Instructions for updating:\n",
      "Please use instead:* `np.argmax(model.predict(x), axis=-1)`,   if your model does multi-class classification   (e.g. if it uses a `softmax` last-layer activation).* `(model.predict(x) > 0.5).astype(\"int32\")`,   if your model does binary classification   (e.g. if it uses a `sigmoid` last-layer activation).\n"
     ]
    }
   ],
   "source": [
    "# last since we're running Sequential let's lay out the predictions against the actuals\n",
    "encoded_predictions = model.predict_classes(X_test_scaled)\n",
    "prediction_labels = label_encoder.inverse_transform(encoded_predictions)"
   ]
  },
  {
   "cell_type": "code",
   "execution_count": 34,
   "metadata": {},
   "outputs": [
    {
     "name": "stdout",
     "output_type": "stream",
     "text": [
      "First 10 Predictions:   [1 1 1 1 1 1 0 0 1 1]\n",
      "First 10 Actual labels: [0, 1, 0, 0, 0, 1, 0, 1, 1, 1]\n"
     ]
    }
   ],
   "source": [
    "print(f\"First 10 Predictions:   {prediction_labels[:10]}\")\n",
    "print(f\"First 10 Actual labels: {y_test[:10].tolist()}\")"
   ]
  },
  {
   "cell_type": "code",
   "execution_count": 35,
   "metadata": {
    "scrolled": true
   },
   "outputs": [
    {
     "data": {
      "text/html": [
       "<div>\n",
       "<style scoped>\n",
       "    .dataframe tbody tr th:only-of-type {\n",
       "        vertical-align: middle;\n",
       "    }\n",
       "\n",
       "    .dataframe tbody tr th {\n",
       "        vertical-align: top;\n",
       "    }\n",
       "\n",
       "    .dataframe thead th {\n",
       "        text-align: right;\n",
       "    }\n",
       "</style>\n",
       "<table border=\"1\" class=\"dataframe\">\n",
       "  <thead>\n",
       "    <tr style=\"text-align: right;\">\n",
       "      <th></th>\n",
       "      <th>Prediction</th>\n",
       "      <th>Actual</th>\n",
       "    </tr>\n",
       "  </thead>\n",
       "  <tbody>\n",
       "    <tr>\n",
       "      <th>0</th>\n",
       "      <td>1</td>\n",
       "      <td>0</td>\n",
       "    </tr>\n",
       "    <tr>\n",
       "      <th>1</th>\n",
       "      <td>1</td>\n",
       "      <td>1</td>\n",
       "    </tr>\n",
       "    <tr>\n",
       "      <th>2</th>\n",
       "      <td>1</td>\n",
       "      <td>0</td>\n",
       "    </tr>\n",
       "    <tr>\n",
       "      <th>3</th>\n",
       "      <td>1</td>\n",
       "      <td>0</td>\n",
       "    </tr>\n",
       "    <tr>\n",
       "      <th>4</th>\n",
       "      <td>1</td>\n",
       "      <td>0</td>\n",
       "    </tr>\n",
       "    <tr>\n",
       "      <th>...</th>\n",
       "      <td>...</td>\n",
       "      <td>...</td>\n",
       "    </tr>\n",
       "    <tr>\n",
       "      <th>30091</th>\n",
       "      <td>0</td>\n",
       "      <td>1</td>\n",
       "    </tr>\n",
       "    <tr>\n",
       "      <th>30092</th>\n",
       "      <td>1</td>\n",
       "      <td>1</td>\n",
       "    </tr>\n",
       "    <tr>\n",
       "      <th>30093</th>\n",
       "      <td>0</td>\n",
       "      <td>1</td>\n",
       "    </tr>\n",
       "    <tr>\n",
       "      <th>30094</th>\n",
       "      <td>0</td>\n",
       "      <td>0</td>\n",
       "    </tr>\n",
       "    <tr>\n",
       "      <th>30095</th>\n",
       "      <td>1</td>\n",
       "      <td>1</td>\n",
       "    </tr>\n",
       "  </tbody>\n",
       "</table>\n",
       "<p>30096 rows × 2 columns</p>\n",
       "</div>"
      ],
      "text/plain": [
       "       Prediction  Actual\n",
       "0               1       0\n",
       "1               1       1\n",
       "2               1       0\n",
       "3               1       0\n",
       "4               1       0\n",
       "...           ...     ...\n",
       "30091           0       1\n",
       "30092           1       1\n",
       "30093           0       1\n",
       "30094           0       0\n",
       "30095           1       1\n",
       "\n",
       "[30096 rows x 2 columns]"
      ]
     },
     "execution_count": 35,
     "metadata": {},
     "output_type": "execute_result"
    }
   ],
   "source": [
    "# we can even put them all together into a data frame\n",
    "pd.DataFrame({\"Prediction\": prediction_labels, \"Actual\": y_test}).reset_index(drop=True)"
   ]
  },
  {
   "cell_type": "markdown",
   "metadata": {},
   "source": [
    "Sequential comes in at 60% accuracy (and up to 68% accuracy in epoch 100). Again not bad!\n",
    "\n",
    "Also don't forget to save your model with: model.save('models/deepLearningSequential.h5')\n",
    "\n",
    "Now it's time to see how our pre-COVID models perform with fanless player game stats."
   ]
  },
  {
   "cell_type": "markdown",
   "metadata": {},
   "source": [
    "## Preprocess the fanless data!"
   ]
  },
  {
   "cell_type": "code",
   "execution_count": 36,
   "metadata": {},
   "outputs": [],
   "source": [
    "# pull in the postCovid player data\n",
    "covidDF = pd.read_csv('data_files/player_stats_2019_pst.csv')"
   ]
  },
  {
   "cell_type": "code",
   "execution_count": 37,
   "metadata": {},
   "outputs": [
    {
     "data": {
      "text/html": [
       "<div>\n",
       "<style scoped>\n",
       "    .dataframe tbody tr th:only-of-type {\n",
       "        vertical-align: middle;\n",
       "    }\n",
       "\n",
       "    .dataframe tbody tr th {\n",
       "        vertical-align: top;\n",
       "    }\n",
       "\n",
       "    .dataframe thead th {\n",
       "        text-align: right;\n",
       "    }\n",
       "</style>\n",
       "<table border=\"1\" class=\"dataframe\">\n",
       "  <thead>\n",
       "    <tr style=\"text-align: right;\">\n",
       "      <th></th>\n",
       "      <th>Points</th>\n",
       "      <th>Free_Throw_Percent</th>\n",
       "      <th>Two_Pt_Percent</th>\n",
       "      <th>Three_Pt_Percent</th>\n",
       "      <th>Assists</th>\n",
       "      <th>Rebounds</th>\n",
       "      <th>Offensive_Rebounds</th>\n",
       "      <th>Steals</th>\n",
       "      <th>Personal_Fouls</th>\n",
       "      <th>Flagrant_Fouls</th>\n",
       "      <th>Tech_Fouls</th>\n",
       "      <th>Turnovers</th>\n",
       "      <th>Home_Away</th>\n",
       "      <th>win</th>\n",
       "    </tr>\n",
       "  </thead>\n",
       "  <tbody>\n",
       "    <tr>\n",
       "      <th>0</th>\n",
       "      <td>11</td>\n",
       "      <td>0.0</td>\n",
       "      <td>50.0</td>\n",
       "      <td>60.0</td>\n",
       "      <td>0</td>\n",
       "      <td>4</td>\n",
       "      <td>2</td>\n",
       "      <td>0</td>\n",
       "      <td>6</td>\n",
       "      <td>0</td>\n",
       "      <td>0</td>\n",
       "      <td>1</td>\n",
       "      <td>1</td>\n",
       "      <td>1</td>\n",
       "    </tr>\n",
       "    <tr>\n",
       "      <th>1</th>\n",
       "      <td>2</td>\n",
       "      <td>0.0</td>\n",
       "      <td>100.0</td>\n",
       "      <td>0.0</td>\n",
       "      <td>2</td>\n",
       "      <td>6</td>\n",
       "      <td>1</td>\n",
       "      <td>1</td>\n",
       "      <td>3</td>\n",
       "      <td>0</td>\n",
       "      <td>0</td>\n",
       "      <td>1</td>\n",
       "      <td>1</td>\n",
       "      <td>1</td>\n",
       "    </tr>\n",
       "    <tr>\n",
       "      <th>2</th>\n",
       "      <td>19</td>\n",
       "      <td>87.5</td>\n",
       "      <td>50.0</td>\n",
       "      <td>40.0</td>\n",
       "      <td>3</td>\n",
       "      <td>0</td>\n",
       "      <td>0</td>\n",
       "      <td>1</td>\n",
       "      <td>2</td>\n",
       "      <td>0</td>\n",
       "      <td>0</td>\n",
       "      <td>0</td>\n",
       "      <td>1</td>\n",
       "      <td>1</td>\n",
       "    </tr>\n",
       "    <tr>\n",
       "      <th>3</th>\n",
       "      <td>14</td>\n",
       "      <td>0.0</td>\n",
       "      <td>66.7</td>\n",
       "      <td>66.7</td>\n",
       "      <td>4</td>\n",
       "      <td>3</td>\n",
       "      <td>0</td>\n",
       "      <td>1</td>\n",
       "      <td>1</td>\n",
       "      <td>0</td>\n",
       "      <td>0</td>\n",
       "      <td>1</td>\n",
       "      <td>1</td>\n",
       "      <td>1</td>\n",
       "    </tr>\n",
       "    <tr>\n",
       "      <th>4</th>\n",
       "      <td>13</td>\n",
       "      <td>0.0</td>\n",
       "      <td>33.3</td>\n",
       "      <td>42.9</td>\n",
       "      <td>1</td>\n",
       "      <td>8</td>\n",
       "      <td>1</td>\n",
       "      <td>0</td>\n",
       "      <td>3</td>\n",
       "      <td>0</td>\n",
       "      <td>0</td>\n",
       "      <td>1</td>\n",
       "      <td>1</td>\n",
       "      <td>1</td>\n",
       "    </tr>\n",
       "  </tbody>\n",
       "</table>\n",
       "</div>"
      ],
      "text/plain": [
       "   Points  Free_Throw_Percent  Two_Pt_Percent  Three_Pt_Percent  Assists  \\\n",
       "0      11                 0.0            50.0              60.0        0   \n",
       "1       2                 0.0           100.0               0.0        2   \n",
       "2      19                87.5            50.0              40.0        3   \n",
       "3      14                 0.0            66.7              66.7        4   \n",
       "4      13                 0.0            33.3              42.9        1   \n",
       "\n",
       "   Rebounds  Offensive_Rebounds  Steals  Personal_Fouls  Flagrant_Fouls  \\\n",
       "0         4                   2       0               6               0   \n",
       "1         6                   1       1               3               0   \n",
       "2         0                   0       1               2               0   \n",
       "3         3                   0       1               1               0   \n",
       "4         8                   1       0               3               0   \n",
       "\n",
       "   Tech_Fouls  Turnovers  Home_Away  win  \n",
       "0           0          1          1    1  \n",
       "1           0          1          1    1  \n",
       "2           0          0          1    1  \n",
       "3           0          1          1    1  \n",
       "4           0          1          1    1  "
      ]
     },
     "execution_count": 37,
     "metadata": {},
     "output_type": "execute_result"
    }
   ],
   "source": [
    "# dropping unwanted fields to match preCovid columns\n",
    "# don't drop Covid games obviously!\n",
    "covidDF_dropped = covidDF[covidDF['Min_played'] != \"00:00\"]\n",
    "covidDF_dropped= covidDF_dropped[[\"Points\", \"Free_Throw_Percent\",\n",
    "                  \"Two_Pt_Percent\",\n",
    "                  \"Three_Pt_Percent\", \"Assists\",\n",
    "                  \"Rebounds\", \"Offensive_Rebounds\",\n",
    "                  \"Steals\", \"Personal_Fouls\",\n",
    "                  \"Flagrant_Fouls\", \"Tech_Fouls\",\n",
    "                  \"Turnovers\",\n",
    "                  \"Home_Away\", \"win\"\n",
    "                  ]].reset_index(drop = True)\n",
    "covidDF_dropped.head()"
   ]
  },
  {
   "cell_type": "code",
   "execution_count": 38,
   "metadata": {},
   "outputs": [
    {
     "name": "stdout",
     "output_type": "stream",
     "text": [
      "(1689, 13)\n"
     ]
    }
   ],
   "source": [
    "# same X features\n",
    "X = covidDF_dropped.drop('win', axis=1)\n",
    "print(X.shape)"
   ]
  },
  {
   "cell_type": "code",
   "execution_count": 39,
   "metadata": {},
   "outputs": [
    {
     "name": "stdout",
     "output_type": "stream",
     "text": [
      "(1689,)\n"
     ]
    }
   ],
   "source": [
    "# same y goal\n",
    "y = covidDF_dropped['win']\n",
    "print(y.shape)"
   ]
  },
  {
   "cell_type": "code",
   "execution_count": 40,
   "metadata": {},
   "outputs": [],
   "source": [
    "# scale the X features to predict\n",
    "X_predict_scaled = X_scaler.transform(X)"
   ]
  },
  {
   "cell_type": "markdown",
   "metadata": {},
   "source": [
    "## Random Forest pre-COVID trained VS Fanless Data"
   ]
  },
  {
   "cell_type": "code",
   "execution_count": 42,
   "metadata": {},
   "outputs": [
    {
     "name": "stdout",
     "output_type": "stream",
     "text": [
      "COVID Data Score: 54.0%\n"
     ]
    }
   ],
   "source": [
    "print(f\"COVID Data Score: {round(modelRF.score(X_predict_scaled, y)*100,2)}%\")"
   ]
  },
  {
   "cell_type": "markdown",
   "metadata": {},
   "source": [
    "Playing without fans drops our Random Forrest prediction by 15% (down to 54% vs fan data prediction of 69%)"
   ]
  },
  {
   "cell_type": "markdown",
   "metadata": {},
   "source": [
    "## Sequential pre-COVID trained VS Fanless Data"
   ]
  },
  {
   "cell_type": "code",
   "execution_count": 43,
   "metadata": {},
   "outputs": [],
   "source": [
    "# encode and one-hot-encoding as with the trained model y\n",
    "label_encoder.fit(y)\n",
    "encoded_y_actual = label_encoder.transform(y)\n",
    "y_actual_categorical = to_categorical(encoded_y_actual)"
   ]
  },
  {
   "cell_type": "code",
   "execution_count": 45,
   "metadata": {},
   "outputs": [
    {
     "name": "stdout",
     "output_type": "stream",
     "text": [
      "53/53 - 0s - loss: 1.1353 - accuracy: 0.5240\n",
      "Normal Neural Network - Loss: 1.1353408098220825, Accuracy: 0.5239787101745605\n"
     ]
    }
   ],
   "source": [
    "model_loss, model_accuracy = model.evaluate(\n",
    "    X_predict_scaled, y_actual_categorical, verbose=2)\n",
    "print(\n",
    "    f\"Normal Neural Network - Loss: {model_loss}, Accuracy: {model_accuracy}\")"
   ]
  },
  {
   "cell_type": "markdown",
   "metadata": {},
   "source": [
    "Playing without fans drops our Sequential prediction by 8% (down to 52% from 60%)"
   ]
  },
  {
   "cell_type": "code",
   "execution_count": null,
   "metadata": {},
   "outputs": [],
   "source": []
  }
 ],
 "metadata": {
  "kernelspec": {
   "display_name": "Python 3",
   "language": "python",
   "name": "python3"
  },
  "language_info": {
   "codemirror_mode": {
    "name": "ipython",
    "version": 3
   },
   "file_extension": ".py",
   "mimetype": "text/x-python",
   "name": "python",
   "nbconvert_exporter": "python",
   "pygments_lexer": "ipython3",
   "version": "3.7.6"
  }
 },
 "nbformat": 4,
 "nbformat_minor": 4
}
