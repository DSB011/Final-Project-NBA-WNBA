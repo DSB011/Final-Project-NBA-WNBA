{
 "cells": [
  {
   "cell_type": "code",
   "execution_count": 1,
   "metadata": {},
   "outputs": [],
   "source": [
    "import pandas as pd\n",
    "from datetime import datetime\n",
    "import requests as request\n",
    "from pprint import pprint\n",
    "import time\n",
    "from dateutil.relativedelta import relativedelta\n",
    "from pprint import pprint\n",
    "import numpy as np"
   ]
  },
  {
   "cell_type": "markdown",
   "metadata": {},
   "source": [
    "# NBA Player Data Combination"
   ]
  },
  {
   "cell_type": "code",
   "execution_count": null,
   "metadata": {},
   "outputs": [],
   "source": [
    "#NBA API Key\n",
    "from config import nba_key"
   ]
  },
  {
   "cell_type": "code",
   "execution_count": null,
   "metadata": {},
   "outputs": [],
   "source": [
    "#Player stats combination\n",
    "player1 = 'data_files/player_stats1.csv'\n",
    "player2 = 'data_files/player_stats2.csv'\n",
    "player3 = 'data_files/player_stats3.csv'\n",
    "player4 = 'data_files/player_stats4.csv'\n",
    "player5 = 'data_files/player_stats5.csv'\n",
    "player6 = 'data_files/player_stats6.csv'\n",
    "player7 = 'data_files/player_stats7.csv'"
   ]
  },
  {
   "cell_type": "code",
   "execution_count": null,
   "metadata": {},
   "outputs": [],
   "source": [
    "player1DF= pd.read_csv(player1)\n",
    "player2DF= pd.read_csv(player2)\n",
    "player3DF= pd.read_csv(player3)\n",
    "player4DF= pd.read_csv(player4)\n",
    "player5DF= pd.read_csv(player5)\n",
    "player6DF= pd.read_csv(player6)\n",
    "player7DF= pd.read_csv(player7)"
   ]
  },
  {
   "cell_type": "code",
   "execution_count": null,
   "metadata": {},
   "outputs": [],
   "source": [
    "frames = [player1DF,player2DF,player3DF,player4DF,player5DF,player6DF,player7DF]\n",
    "\n",
    "AllStats = pd.concat(frames)\n",
    "\n",
    "#AllStats.head()"
   ]
  },
  {
   "cell_type": "code",
   "execution_count": null,
   "metadata": {},
   "outputs": [],
   "source": [
    "# AllStats.to_csv(\"data_files/NBA_AllStats.csv\")"
   ]
  },
  {
   "cell_type": "markdown",
   "metadata": {},
   "source": [
    "# NBA Player Data (Sports Reference)\n",
    "- Ran out of Sports Radar API Pulls. To get player data we relied on the Sports Reference API\n",
    "- Merged this info with the NBA Top 50 Players"
   ]
  },
  {
   "cell_type": "code",
   "execution_count": null,
   "metadata": {},
   "outputs": [],
   "source": [
    "from sportsreference.nba.roster import Roster\n",
    "from sportsreference.nba.roster import Player\n",
    "from sportsreference.nba.teams import Teams"
   ]
  },
  {
   "cell_type": "code",
   "execution_count": null,
   "metadata": {},
   "outputs": [],
   "source": [
    "### Already ran the package and pulled data to CSV. Hashed out so it does not run again and slow down the computer\n",
    "## Function to get player info from Player class object.\n",
    "# def get_player_df(player):\n",
    "    \n",
    "#     # helper function to get player age during each season.\n",
    "#     def get_age(year, bd):\n",
    "#         if year[0] == \"Career\":\n",
    "#             return None\n",
    "#         else:\n",
    "#             year_dt = datetime(int(year[0][0:4]) + 1, 1, 1)\n",
    "#             age_years = relativedelta(year_dt, bd).years + relativedelta(year_dt, bd).months/12\n",
    "#             return age_years\n",
    "        \n",
    "#     # helper function to get year for each row and denote\n",
    "#     # rows that contain career totals.\n",
    "#     def get_year(ix):\n",
    "#         if ix[0] == \"Career\":\n",
    "#             return \"Career\"\n",
    "#         elif ix[0] == \"1999-00\":\n",
    "#             return \"2000\"\n",
    "#         else:\n",
    "#             return ix[0][0:2] + ix[0][-2:]\n",
    "    \n",
    "#     # get player df and add some extra info\n",
    "#     player_df = player.dataframe\n",
    "#     player_df['birth_date'] = player.birth_date\n",
    "#     player_df['player_id'] = player.player_id\n",
    "#     player_df['name'] = player.name\n",
    "#     player_df['year'] = [get_year(ix) for ix in player_df.index]\n",
    "#     player_df['id'] = [player_id + ' ' + year for player_id,\n",
    "#                        year in zip(player_df['player_id'],\n",
    "#                        player_df['year'])]\n",
    "#     player_df['age'] = [get_age(year, bd) for year,\n",
    "#                         bd in zip(player_df.index,\n",
    "#                         player_df['birth_date'])]\n",
    "#     player_df.set_index('id', drop = True, inplace = True)\n",
    "    \n",
    "#     return player_df\n"
   ]
  },
  {
   "cell_type": "code",
   "execution_count": null,
   "metadata": {
    "scrolled": false
   },
   "outputs": [],
   "source": [
    "### Already ran the package and pulled data to CSV. Hashed out so it does not run again and slow down the computer\n",
    "## initialize a list of players that we have pulled data for\n",
    "# players_collected = []\n",
    "# season_df_init = 0\n",
    "# career_df_init = 0\n",
    "# season_df = 0\n",
    "# career_df = 0\n",
    "# # iterate through years.\n",
    "# for year in range(2020, 1999, -1):\n",
    "#     print('\\n' + str(year))\n",
    "        \n",
    "#     # iterate through all teams in that year.\n",
    "#     for team in Teams(year = str(year)).dataframes.index:\n",
    "#         print('\\n' + team + '\\n')\n",
    "        \n",
    "#         # iterate through every player on a team roster.\n",
    "#         for player_id in Roster(team, year = year,\n",
    "#                          slim = True).players.keys():\n",
    "            \n",
    "#             # only pull player info if that player hasn't\n",
    "#             # been pulled already.\n",
    "#             if player_id not in players_collected:\n",
    "                \n",
    "#                 player = Player(player_id)\n",
    "#                 player_info = get_player_df(player)\n",
    "#                 player_seasons = player_info[\n",
    "#                                  player_info['year'] != \"Career\"]\n",
    "#                 player_career = player_info[\n",
    "#                                 player_info['year'] == \"Career\"]\n",
    "                \n",
    "#                 # create season_df if not initialized\n",
    "#                 if not season_df_init:\n",
    "#                     season_df = player_seasons\n",
    "#                     season_df_init = 1\n",
    "                \n",
    "#                 # else concatenate to season_df\n",
    "#                 else:\n",
    "#                     season_df = pd.concat([season_df,\n",
    "#                                    player_seasons], axis = 0)\n",
    "                    \n",
    "#                 if not career_df_init:\n",
    "#                     career_df = player_career\n",
    "#                     career_df_init = 1\n",
    "                \n",
    "#                 # else concatenate to career_df\n",
    "#                 else:\n",
    "#                     career_df = pd.concat([career_df,\n",
    "#                                    player_career], axis = 0)\n",
    "                \n",
    "#                 # add player to players_collected\n",
    "#                 players_collected.append(player_id)\n",
    "#                 print(player.name)"
   ]
  },
  {
   "cell_type": "code",
   "execution_count": null,
   "metadata": {},
   "outputs": [],
   "source": [
    "# season_df.to_csv('nba_player_stats_by_season.csv')\n",
    "# career_df.to_csv('nba_player_stats_by_career.csv')"
   ]
  },
  {
   "cell_type": "code",
   "execution_count": null,
   "metadata": {
    "scrolled": true
   },
   "outputs": [],
   "source": [
    "# season_df.head()"
   ]
  },
  {
   "cell_type": "code",
   "execution_count": null,
   "metadata": {
    "scrolled": true
   },
   "outputs": [],
   "source": [
    "PlayerCSV = 'data_files/nba_player_stats_by_season.csv'\n",
    "PlayerDF= pd.read_csv(PlayerCSV)\n",
    "\n",
    "PlayerDF.head()"
   ]
  },
  {
   "cell_type": "code",
   "execution_count": null,
   "metadata": {
    "scrolled": false
   },
   "outputs": [],
   "source": [
    "PlayerDF[['PlayerID','Season']]=PlayerDF.id.str.split(expand=True)\n",
    "\n",
    "PlayerDF.head()"
   ]
  },
  {
   "cell_type": "code",
   "execution_count": null,
   "metadata": {
    "scrolled": true
   },
   "outputs": [],
   "source": [
    "#Only have years we are reviewing\n",
    "\n",
    "PlayerDF_Seasons = PlayerDF[PlayerDF['year']>2015]\n",
    "PlayerDF_Seasons.head()"
   ]
  },
  {
   "cell_type": "code",
   "execution_count": null,
   "metadata": {
    "scrolled": true
   },
   "outputs": [],
   "source": [
    "#Reorganize column titles\n",
    "\n",
    "PlayerData = PlayerDF_Seasons[['birth_date','name','year','age']]\n",
    "PlayerData.head()"
   ]
  },
  {
   "cell_type": "code",
   "execution_count": null,
   "metadata": {
    "scrolled": false
   },
   "outputs": [],
   "source": [
    "#Final Player Dataframe (organized)\n",
    "\n",
    "PlayerData = PlayerData[['name','year','age','birth_date']]\n",
    "PlayerData"
   ]
  },
  {
   "cell_type": "code",
   "execution_count": null,
   "metadata": {},
   "outputs": [],
   "source": [
    "PlayerData.rename(columns={'name':'Player'}, inplace = True)\n",
    "\n",
    "PlayerData"
   ]
  },
  {
   "cell_type": "code",
   "execution_count": null,
   "metadata": {},
   "outputs": [],
   "source": [
    "#We pulled top 50 players for most recent season, therefore we only need players playing in 2020\n",
    "PlayerData2 = PlayerData[PlayerData['year']>2019]\n",
    "PlayerData2"
   ]
  },
  {
   "cell_type": "code",
   "execution_count": null,
   "metadata": {},
   "outputs": [],
   "source": [
    "#Check to ensure all rows are unique\n",
    "PlayerData2['Player'].nunique()"
   ]
  },
  {
   "cell_type": "code",
   "execution_count": 4,
   "metadata": {},
   "outputs": [
    {
     "data": {
      "text/html": [
       "<div>\n",
       "<style scoped>\n",
       "    .dataframe tbody tr th:only-of-type {\n",
       "        vertical-align: middle;\n",
       "    }\n",
       "\n",
       "    .dataframe tbody tr th {\n",
       "        vertical-align: top;\n",
       "    }\n",
       "\n",
       "    .dataframe thead th {\n",
       "        text-align: right;\n",
       "    }\n",
       "</style>\n",
       "<table border=\"1\" class=\"dataframe\">\n",
       "  <thead>\n",
       "    <tr style=\"text-align: right;\">\n",
       "      <th></th>\n",
       "      <th>PLAYER</th>\n",
       "      <th>PER</th>\n",
       "      <th>GP</th>\n",
       "      <th>MPG</th>\n",
       "      <th>TS%</th>\n",
       "      <th>AST</th>\n",
       "      <th>TO</th>\n",
       "      <th>USG</th>\n",
       "      <th>ORR</th>\n",
       "      <th>DRR</th>\n",
       "      <th>REBR</th>\n",
       "      <th>VA</th>\n",
       "      <th>EWA</th>\n",
       "    </tr>\n",
       "  </thead>\n",
       "  <tbody>\n",
       "    <tr>\n",
       "      <th>0</th>\n",
       "      <td>Giannis Antetokounmpo, MIL</td>\n",
       "      <td>31.94</td>\n",
       "      <td>63</td>\n",
       "      <td>30.4</td>\n",
       "      <td>0.613</td>\n",
       "      <td>16.9</td>\n",
       "      <td>11.0</td>\n",
       "      <td>37.2</td>\n",
       "      <td>7.7</td>\n",
       "      <td>34.8</td>\n",
       "      <td>22.1</td>\n",
       "      <td>584.9</td>\n",
       "      <td>19.5</td>\n",
       "    </tr>\n",
       "  </tbody>\n",
       "</table>\n",
       "</div>"
      ],
      "text/plain": [
       "                       PLAYER    PER  GP   MPG    TS%   AST    TO   USG  ORR  \\\n",
       "0  Giannis Antetokounmpo, MIL  31.94  63  30.4  0.613  16.9  11.0  37.2  7.7   \n",
       "\n",
       "    DRR  REBR     VA   EWA  \n",
       "0  34.8  22.1  584.9  19.5  "
      ]
     },
     "execution_count": 4,
     "metadata": {},
     "output_type": "execute_result"
    }
   ],
   "source": [
    "NBATop50 = pd.read_csv('data_files/NBATope50.csv')\n",
    "NBATop50.head(1)"
   ]
  },
  {
   "cell_type": "code",
   "execution_count": 5,
   "metadata": {},
   "outputs": [
    {
     "data": {
      "text/html": [
       "<div>\n",
       "<style scoped>\n",
       "    .dataframe tbody tr th:only-of-type {\n",
       "        vertical-align: middle;\n",
       "    }\n",
       "\n",
       "    .dataframe tbody tr th {\n",
       "        vertical-align: top;\n",
       "    }\n",
       "\n",
       "    .dataframe thead th {\n",
       "        text-align: right;\n",
       "    }\n",
       "</style>\n",
       "<table border=\"1\" class=\"dataframe\">\n",
       "  <thead>\n",
       "    <tr style=\"text-align: right;\">\n",
       "      <th></th>\n",
       "      <th>PLAYER</th>\n",
       "      <th>PER</th>\n",
       "      <th>GP</th>\n",
       "      <th>MPG</th>\n",
       "      <th>TS%</th>\n",
       "      <th>AST</th>\n",
       "      <th>TO</th>\n",
       "      <th>USG</th>\n",
       "      <th>ORR</th>\n",
       "      <th>DRR</th>\n",
       "      <th>REBR</th>\n",
       "      <th>VA</th>\n",
       "      <th>EWA</th>\n",
       "      <th>Player</th>\n",
       "      <th>Team</th>\n",
       "    </tr>\n",
       "  </thead>\n",
       "  <tbody>\n",
       "    <tr>\n",
       "      <th>0</th>\n",
       "      <td>Giannis Antetokounmpo, MIL</td>\n",
       "      <td>31.94</td>\n",
       "      <td>63</td>\n",
       "      <td>30.4</td>\n",
       "      <td>0.613</td>\n",
       "      <td>16.9</td>\n",
       "      <td>11.0</td>\n",
       "      <td>37.2</td>\n",
       "      <td>7.7</td>\n",
       "      <td>34.8</td>\n",
       "      <td>22.1</td>\n",
       "      <td>584.9</td>\n",
       "      <td>19.5</td>\n",
       "      <td>Giannis Antetokounmpo</td>\n",
       "      <td>MIL</td>\n",
       "    </tr>\n",
       "  </tbody>\n",
       "</table>\n",
       "</div>"
      ],
      "text/plain": [
       "                       PLAYER    PER  GP   MPG    TS%   AST    TO   USG  ORR  \\\n",
       "0  Giannis Antetokounmpo, MIL  31.94  63  30.4  0.613  16.9  11.0  37.2  7.7   \n",
       "\n",
       "    DRR  REBR     VA   EWA                 Player  Team  \n",
       "0  34.8  22.1  584.9  19.5  Giannis Antetokounmpo   MIL  "
      ]
     },
     "execution_count": 5,
     "metadata": {},
     "output_type": "execute_result"
    }
   ],
   "source": [
    "NBATop50[['Player','Team']]=NBATop50.PLAYER.str.split(\",\",expand=True)\n",
    "\n",
    "NBATop50.head(1)"
   ]
  },
  {
   "cell_type": "code",
   "execution_count": null,
   "metadata": {},
   "outputs": [],
   "source": [
    "#Combine all data to see if there are outliers. Those will be added manually\n",
    "\n",
    "NBATop50_DF = pd.merge(NBATop50, PlayerData2, on='Player', how = \"left\")\n",
    "#NBATop50_DF"
   ]
  },
  {
   "cell_type": "code",
   "execution_count": null,
   "metadata": {},
   "outputs": [],
   "source": [
    "NBATop50_Final = NBATop50_DF[['Player','Team','year','age', 'birth_date']]\n",
    "#NBATop50_Final"
   ]
  },
  {
   "cell_type": "code",
   "execution_count": null,
   "metadata": {},
   "outputs": [],
   "source": [
    "#NBATop50_Final.to_csv(\"data_files/NBA_Player_Profile.csv\")"
   ]
  },
  {
   "cell_type": "markdown",
   "metadata": {},
   "source": [
    "# WNBA - Top 50 Player Profile\n",
    "\n",
    "- API Pull of Player Profile data from Sports Radar\n",
    "- Merge Player Profile info to the Top 50 WNBA player data"
   ]
  },
  {
   "cell_type": "code",
   "execution_count": null,
   "metadata": {},
   "outputs": [],
   "source": [
    "WNBAPlayers = pd.read_csv('data_files/FinalDataFiles/WBNAfullplayerstatslist.csv')\n",
    "WNBAPlayers.head(1)"
   ]
  },
  {
   "cell_type": "code",
   "execution_count": null,
   "metadata": {},
   "outputs": [],
   "source": [
    "WNBAPlayers['player_id'].nunique()"
   ]
  },
  {
   "cell_type": "code",
   "execution_count": null,
   "metadata": {},
   "outputs": [],
   "source": [
    "UniqueIDs = WNBAPlayers.drop_duplicates(subset=\"player_id\", keep=\"first\",inplace=False)\n",
    "UniqueIDs.count().head()"
   ]
  },
  {
   "cell_type": "code",
   "execution_count": null,
   "metadata": {},
   "outputs": [],
   "source": [
    "from config import wnba_key\n",
    "api_key2 ='wnba_key"
   ]
  },
  {
   "cell_type": "code",
   "execution_count": null,
   "metadata": {},
   "outputs": [],
   "source": [
    "url = f'https://api.sportradar.us/wnba/trial/v7/en/players/adfc445c-06c0-444a-8856-32cf13a89ea2/profile.json?api_key={api_key2}'\n",
    "response = request.get(url)"
   ]
  },
  {
   "cell_type": "code",
   "execution_count": null,
   "metadata": {
    "scrolled": false
   },
   "outputs": [],
   "source": [
    "data = response.json()\n",
    "\n",
    "#pprint(data)"
   ]
  },
  {
   "cell_type": "code",
   "execution_count": null,
   "metadata": {},
   "outputs": [],
   "source": [
    "print(data['draft']['pick'])"
   ]
  },
  {
   "cell_type": "code",
   "execution_count": null,
   "metadata": {},
   "outputs": [],
   "source": [
    "#Ran API pull and put into CSV since we only were given 1000 pulls from sports radar\n",
    "\n",
    "# player_list = UniqueIDs[\"player_id\"].tolist()\n",
    "# player_ID = []\n",
    "# last_name = []\n",
    "# first_name = []\n",
    "# birthdate = []\n",
    "# draft_pick = []\n",
    "# height_inches = []\n",
    "# jersey_number = []\n",
    "# experience = []\n",
    "# position = []\n",
    "\n",
    "# for player_id in player_list:\n",
    "#     try:\n",
    "#         url = f'https://api.sportradar.us/wnba/trial/v7/en/players/{player_id}/profile.json?api_key={api_key2}'\n",
    "#         time.sleep(1)\n",
    "#         r = request.get(url)\n",
    "#         player_profiles = r.json()\n",
    "#         DPick = player_profiles ['draft']['pick']\n",
    "\n",
    "#         #player_ID.append(player_profiles['id'])\n",
    "#         if 'id' in player_profiles:\n",
    "#             player_ID.append(player_profiles['id'])\n",
    "#         else:\n",
    "#             player_ID.appened('n/a')\n",
    "\n",
    "#         #last_name.append(player_profiles['last_name'])\n",
    "#         if 'last_name' in player_profiles:\n",
    "#             last_name.append(player_profiles['last_name'])\n",
    "#         else:\n",
    "#             last_name.appened('n/a')\n",
    "\n",
    "#         #first_name.append(player_profiles['first_name'])\n",
    "#         if 'first_name' in player_profiles:\n",
    "#             first_name.append(player_profiles['first_name'])\n",
    "#         else:\n",
    "#             first_name.appened('n/a')\n",
    "\n",
    "# #         #birthdate.append(player_profiles['birthdate'])\n",
    "# #         if 'birthdate' in player_profiles:\n",
    "# #             birthdate.append(player_profiles['birthdate'])\n",
    "# #         else:\n",
    "# #             birthdate.appened('n/a')\n",
    "\n",
    "#         #draft_pick.append(player_profiles['draft']['pick'])\n",
    "#         if 'pick' in DPick:\n",
    "#             draft_pick.append(DPick['pick'])\n",
    "#         else:\n",
    "#             draft_pick.append('n/a')\n",
    "\n",
    "#         #height_inches.append(player_profiles['height'])\n",
    "#         if 'height' in player_profiles:\n",
    "#             height_inches.append(player_profiles['height'])\n",
    "#         else:\n",
    "#             height_inches.appened('n/a')   \n",
    "\n",
    "#         #jersey_number.append(player_profiles['jersey_number'])\n",
    "#         if 'jersey_number' in player_profiles:\n",
    "#             jersey_number.append(player_profiles['jersey_number'])\n",
    "#         else:\n",
    "#             jersey_number.append('n/a')   \n",
    "\n",
    "#         #experience.append(player_profiles['experience'])\n",
    "#         if 'experience' in player_profiles:\n",
    "#             experience.append(player_profiles['experience'])\n",
    "#         else:\n",
    "#             experience.append('n/a')    \n",
    "\n",
    "#         #position.append(player_profiles['position'])\n",
    "#         if 'position' in player_profiles:\n",
    "#             position.append(player_profiles['position'])\n",
    "#         else:\n",
    "#             position.append('n/a')   \n",
    "    \n",
    "#     except:\n",
    "#         print(player_id)\n",
    "\n",
    "#     player_dict = {\"Player_ID\":player_ID, \"Last_Name\":last_name, \"First_Name\":first_name,\n",
    "#                    \"Draft_Pick\":draft_pick,\"Height_inches\":height_inches,\n",
    "#                    \"Jersey_Number\":jersey_number,\"Experience\":experience, \"Position\":position\n",
    "#                  }\n",
    "    \n",
    "# WNBAplayerDF = pd.DataFrame(player_dict)\n",
    "WNBAplayerDF"
   ]
  },
  {
   "cell_type": "code",
   "execution_count": null,
   "metadata": {},
   "outputs": [],
   "source": [
    "WNBAplayerDF.to_csv(\"data_files/WNBA_Player_Profile.csv\")"
   ]
  },
  {
   "cell_type": "code",
   "execution_count": null,
   "metadata": {},
   "outputs": [],
   "source": [
    "#Reorg Columns\n",
    "\n",
    "WNBAplayerDF = WNBAplayerDF[['First_Name','Last_Name','Height_inches','Jersey_Number','Experience','Position']]\n",
    "WNBAplayerDF.head(1)"
   ]
  },
  {
   "cell_type": "code",
   "execution_count": null,
   "metadata": {},
   "outputs": [],
   "source": [
    "WNBAplayerDF['Player'] = WNBAplayerDF['First_Name'].str.cat(WNBAplayerDF['Last_Name'],sep=\" \")\n",
    "#WNBAplayerDF\n"
   ]
  },
  {
   "cell_type": "code",
   "execution_count": null,
   "metadata": {
    "scrolled": true
   },
   "outputs": [],
   "source": [
    "WNBAplayerDF = WNBAplayerDF[['Player','First_Name','Last_Name','Height_inches','Jersey_Number','Experience','Position']]\n",
    "WNBAplayerDF.head(1)"
   ]
  },
  {
   "cell_type": "code",
   "execution_count": null,
   "metadata": {},
   "outputs": [],
   "source": [
    "#Read in to 50 WNBA players\n",
    "\n",
    "WNBATop50 = pd.read_csv('data_files/Top50WNBA.csv')\n",
    "WNBATop50.head(1)"
   ]
  },
  {
   "cell_type": "code",
   "execution_count": null,
   "metadata": {
    "scrolled": true
   },
   "outputs": [],
   "source": [
    "WNBATop50['PLAYER'] = WNBATop50['PLAYER'].str.title()"
   ]
  },
  {
   "cell_type": "code",
   "execution_count": null,
   "metadata": {},
   "outputs": [],
   "source": [
    "WNBATop50 = WNBATop50.rename(columns = {'PLAYER': 'Player'}, inplace = False)\n",
    "\n",
    "WNBATop50.head(1)"
   ]
  },
  {
   "cell_type": "code",
   "execution_count": null,
   "metadata": {
    "scrolled": false
   },
   "outputs": [],
   "source": [
    "WNBATop50_DF = pd.merge(WNBATop50, WNBAplayerDF, on='Player', how = \"left\")\n",
    "WNBATop50_DF.head(1)"
   ]
  },
  {
   "cell_type": "code",
   "execution_count": null,
   "metadata": {},
   "outputs": [],
   "source": [
    "WNBATop50_DF = WNBATop50_DF[['Player','Height_inches','Position','Jersey_Number','Experience']]\n",
    "WNBATop50_DF.head(1)"
   ]
  },
  {
   "cell_type": "code",
   "execution_count": null,
   "metadata": {},
   "outputs": [],
   "source": [
    "#WNBATop50_DF.to_csv(\"data_files/FinalDataFiles/WNBA_Player_Profile.csv\")"
   ]
  },
  {
   "cell_type": "markdown",
   "metadata": {},
   "source": [
    "# Player Stats for NBA Top 50 ONLY"
   ]
  },
  {
   "cell_type": "code",
   "execution_count": 9,
   "metadata": {},
   "outputs": [
    {
     "data": {
      "text/html": [
       "<div>\n",
       "<style scoped>\n",
       "    .dataframe tbody tr th:only-of-type {\n",
       "        vertical-align: middle;\n",
       "    }\n",
       "\n",
       "    .dataframe tbody tr th {\n",
       "        vertical-align: top;\n",
       "    }\n",
       "\n",
       "    .dataframe thead th {\n",
       "        text-align: right;\n",
       "    }\n",
       "</style>\n",
       "<table border=\"1\" class=\"dataframe\">\n",
       "  <thead>\n",
       "    <tr style=\"text-align: right;\">\n",
       "      <th></th>\n",
       "      <th>Unnamed: 0</th>\n",
       "      <th>Unnamed: 0.1</th>\n",
       "      <th>First_Name</th>\n",
       "      <th>Last_Name</th>\n",
       "      <th>player_id</th>\n",
       "      <th>Position</th>\n",
       "      <th>Points</th>\n",
       "      <th>Free_Throw_Percent</th>\n",
       "      <th>Two_Pt_Percent</th>\n",
       "      <th>Three_Pt_Percent</th>\n",
       "      <th>...</th>\n",
       "      <th>Turnovers</th>\n",
       "      <th>Team</th>\n",
       "      <th>Home_Away</th>\n",
       "      <th>win</th>\n",
       "      <th>Team_points</th>\n",
       "      <th>Min_played</th>\n",
       "      <th>Crowd</th>\n",
       "      <th>Stadium_Cap</th>\n",
       "      <th>game_id</th>\n",
       "      <th>game_date</th>\n",
       "    </tr>\n",
       "  </thead>\n",
       "  <tbody>\n",
       "    <tr>\n",
       "      <th>0</th>\n",
       "      <td>0</td>\n",
       "      <td>0</td>\n",
       "      <td>LeBron</td>\n",
       "      <td>James</td>\n",
       "      <td>0afbe608-940a-4d5d-a1f7-468718c67d91</td>\n",
       "      <td>F</td>\n",
       "      <td>19</td>\n",
       "      <td>50.0</td>\n",
       "      <td>81.818</td>\n",
       "      <td>0.0</td>\n",
       "      <td>...</td>\n",
       "      <td>4</td>\n",
       "      <td>Cavaliers</td>\n",
       "      <td>1</td>\n",
       "      <td>1</td>\n",
       "      <td>117</td>\n",
       "      <td>32:23</td>\n",
       "      <td>20562</td>\n",
       "      <td>20562</td>\n",
       "      <td>0da78f13-73ac-4465-8e31-ecc3029a5dc6</td>\n",
       "      <td>2016-10-25T23:30:00+00:00</td>\n",
       "    </tr>\n",
       "    <tr>\n",
       "      <th>1</th>\n",
       "      <td>1</td>\n",
       "      <td>1</td>\n",
       "      <td>James</td>\n",
       "      <td>Jones</td>\n",
       "      <td>09d25155-c3be-4246-a986-55921a1b5e61</td>\n",
       "      <td>G-F</td>\n",
       "      <td>5</td>\n",
       "      <td>100.0</td>\n",
       "      <td>0.000</td>\n",
       "      <td>100.0</td>\n",
       "      <td>...</td>\n",
       "      <td>0</td>\n",
       "      <td>Cavaliers</td>\n",
       "      <td>1</td>\n",
       "      <td>1</td>\n",
       "      <td>117</td>\n",
       "      <td>5:30</td>\n",
       "      <td>20562</td>\n",
       "      <td>20562</td>\n",
       "      <td>0da78f13-73ac-4465-8e31-ecc3029a5dc6</td>\n",
       "      <td>2016-10-25T23:30:00+00:00</td>\n",
       "    </tr>\n",
       "    <tr>\n",
       "      <th>2</th>\n",
       "      <td>2</td>\n",
       "      <td>2</td>\n",
       "      <td>J.R.</td>\n",
       "      <td>Smith</td>\n",
       "      <td>5934134d-0d27-42ea-a554-4b0e3e85ce56</td>\n",
       "      <td>G-F</td>\n",
       "      <td>8</td>\n",
       "      <td>0.0</td>\n",
       "      <td>20.000</td>\n",
       "      <td>25.0</td>\n",
       "      <td>...</td>\n",
       "      <td>0</td>\n",
       "      <td>Cavaliers</td>\n",
       "      <td>1</td>\n",
       "      <td>1</td>\n",
       "      <td>117</td>\n",
       "      <td>25:14</td>\n",
       "      <td>20562</td>\n",
       "      <td>20562</td>\n",
       "      <td>0da78f13-73ac-4465-8e31-ecc3029a5dc6</td>\n",
       "      <td>2016-10-25T23:30:00+00:00</td>\n",
       "    </tr>\n",
       "    <tr>\n",
       "      <th>3</th>\n",
       "      <td>3</td>\n",
       "      <td>3</td>\n",
       "      <td>Kay</td>\n",
       "      <td>Felder</td>\n",
       "      <td>8d3acdd5-9b5a-4d69-9912-de42d979c31a</td>\n",
       "      <td>G</td>\n",
       "      <td>0</td>\n",
       "      <td>0.0</td>\n",
       "      <td>0.000</td>\n",
       "      <td>0.0</td>\n",
       "      <td>...</td>\n",
       "      <td>0</td>\n",
       "      <td>Cavaliers</td>\n",
       "      <td>1</td>\n",
       "      <td>1</td>\n",
       "      <td>117</td>\n",
       "      <td>00:00</td>\n",
       "      <td>20562</td>\n",
       "      <td>20562</td>\n",
       "      <td>0da78f13-73ac-4465-8e31-ecc3029a5dc6</td>\n",
       "      <td>2016-10-25T23:30:00+00:00</td>\n",
       "    </tr>\n",
       "    <tr>\n",
       "      <th>4</th>\n",
       "      <td>4</td>\n",
       "      <td>4</td>\n",
       "      <td>Mike</td>\n",
       "      <td>Dunleavy</td>\n",
       "      <td>4ec1bff7-ec1b-488b-8a24-aed83e62b4ce</td>\n",
       "      <td>G-F</td>\n",
       "      <td>4</td>\n",
       "      <td>0.0</td>\n",
       "      <td>100.000</td>\n",
       "      <td>0.0</td>\n",
       "      <td>...</td>\n",
       "      <td>0</td>\n",
       "      <td>Cavaliers</td>\n",
       "      <td>1</td>\n",
       "      <td>1</td>\n",
       "      <td>117</td>\n",
       "      <td>22:32</td>\n",
       "      <td>20562</td>\n",
       "      <td>20562</td>\n",
       "      <td>0da78f13-73ac-4465-8e31-ecc3029a5dc6</td>\n",
       "      <td>2016-10-25T23:30:00+00:00</td>\n",
       "    </tr>\n",
       "  </tbody>\n",
       "</table>\n",
       "<p>5 rows × 27 columns</p>\n",
       "</div>"
      ],
      "text/plain": [
       "   Unnamed: 0  Unnamed: 0.1 First_Name Last_Name  \\\n",
       "0           0             0     LeBron     James   \n",
       "1           1             1      James     Jones   \n",
       "2           2             2       J.R.     Smith   \n",
       "3           3             3        Kay    Felder   \n",
       "4           4             4       Mike  Dunleavy   \n",
       "\n",
       "                              player_id Position  Points  Free_Throw_Percent  \\\n",
       "0  0afbe608-940a-4d5d-a1f7-468718c67d91        F      19                50.0   \n",
       "1  09d25155-c3be-4246-a986-55921a1b5e61      G-F       5               100.0   \n",
       "2  5934134d-0d27-42ea-a554-4b0e3e85ce56      G-F       8                 0.0   \n",
       "3  8d3acdd5-9b5a-4d69-9912-de42d979c31a        G       0                 0.0   \n",
       "4  4ec1bff7-ec1b-488b-8a24-aed83e62b4ce      G-F       4                 0.0   \n",
       "\n",
       "   Two_Pt_Percent  Three_Pt_Percent  ...  Turnovers       Team  Home_Away  \\\n",
       "0          81.818               0.0  ...          4  Cavaliers          1   \n",
       "1           0.000             100.0  ...          0  Cavaliers          1   \n",
       "2          20.000              25.0  ...          0  Cavaliers          1   \n",
       "3           0.000               0.0  ...          0  Cavaliers          1   \n",
       "4         100.000               0.0  ...          0  Cavaliers          1   \n",
       "\n",
       "   win  Team_points  Min_played  Crowd  Stadium_Cap  \\\n",
       "0    1          117       32:23  20562        20562   \n",
       "1    1          117        5:30  20562        20562   \n",
       "2    1          117       25:14  20562        20562   \n",
       "3    1          117       00:00  20562        20562   \n",
       "4    1          117       22:32  20562        20562   \n",
       "\n",
       "                                game_id                  game_date  \n",
       "0  0da78f13-73ac-4465-8e31-ecc3029a5dc6  2016-10-25T23:30:00+00:00  \n",
       "1  0da78f13-73ac-4465-8e31-ecc3029a5dc6  2016-10-25T23:30:00+00:00  \n",
       "2  0da78f13-73ac-4465-8e31-ecc3029a5dc6  2016-10-25T23:30:00+00:00  \n",
       "3  0da78f13-73ac-4465-8e31-ecc3029a5dc6  2016-10-25T23:30:00+00:00  \n",
       "4  0da78f13-73ac-4465-8e31-ecc3029a5dc6  2016-10-25T23:30:00+00:00  \n",
       "\n",
       "[5 rows x 27 columns]"
      ]
     },
     "execution_count": 9,
     "metadata": {},
     "output_type": "execute_result"
    }
   ],
   "source": [
    "NBA_AllStats = pd.read_csv('data_files/FinalDataFiles/NBA_AllStats.csv')\n",
    "NBA_AllStats.head()"
   ]
  },
  {
   "cell_type": "code",
   "execution_count": 10,
   "metadata": {},
   "outputs": [
    {
     "data": {
      "text/html": [
       "<div>\n",
       "<style scoped>\n",
       "    .dataframe tbody tr th:only-of-type {\n",
       "        vertical-align: middle;\n",
       "    }\n",
       "\n",
       "    .dataframe tbody tr th {\n",
       "        vertical-align: top;\n",
       "    }\n",
       "\n",
       "    .dataframe thead th {\n",
       "        text-align: right;\n",
       "    }\n",
       "</style>\n",
       "<table border=\"1\" class=\"dataframe\">\n",
       "  <thead>\n",
       "    <tr style=\"text-align: right;\">\n",
       "      <th></th>\n",
       "      <th>Unnamed: 0</th>\n",
       "      <th>Unnamed: 0.1</th>\n",
       "      <th>First_Name</th>\n",
       "      <th>Last_Name</th>\n",
       "      <th>player_id</th>\n",
       "      <th>Position</th>\n",
       "      <th>Points</th>\n",
       "      <th>Free_Throw_Percent</th>\n",
       "      <th>Two_Pt_Percent</th>\n",
       "      <th>Three_Pt_Percent</th>\n",
       "      <th>...</th>\n",
       "      <th>Team</th>\n",
       "      <th>Home_Away</th>\n",
       "      <th>win</th>\n",
       "      <th>Team_points</th>\n",
       "      <th>Min_played</th>\n",
       "      <th>Crowd</th>\n",
       "      <th>Stadium_Cap</th>\n",
       "      <th>game_id</th>\n",
       "      <th>game_date</th>\n",
       "      <th>Player</th>\n",
       "    </tr>\n",
       "  </thead>\n",
       "  <tbody>\n",
       "    <tr>\n",
       "      <th>0</th>\n",
       "      <td>0</td>\n",
       "      <td>0</td>\n",
       "      <td>LeBron</td>\n",
       "      <td>James</td>\n",
       "      <td>0afbe608-940a-4d5d-a1f7-468718c67d91</td>\n",
       "      <td>F</td>\n",
       "      <td>19</td>\n",
       "      <td>50.0</td>\n",
       "      <td>81.818</td>\n",
       "      <td>0.0</td>\n",
       "      <td>...</td>\n",
       "      <td>Cavaliers</td>\n",
       "      <td>1</td>\n",
       "      <td>1</td>\n",
       "      <td>117</td>\n",
       "      <td>32:23</td>\n",
       "      <td>20562</td>\n",
       "      <td>20562</td>\n",
       "      <td>0da78f13-73ac-4465-8e31-ecc3029a5dc6</td>\n",
       "      <td>2016-10-25T23:30:00+00:00</td>\n",
       "      <td>LeBron James</td>\n",
       "    </tr>\n",
       "  </tbody>\n",
       "</table>\n",
       "<p>1 rows × 28 columns</p>\n",
       "</div>"
      ],
      "text/plain": [
       "   Unnamed: 0  Unnamed: 0.1 First_Name Last_Name  \\\n",
       "0           0             0     LeBron     James   \n",
       "\n",
       "                              player_id Position  Points  Free_Throw_Percent  \\\n",
       "0  0afbe608-940a-4d5d-a1f7-468718c67d91        F      19                50.0   \n",
       "\n",
       "   Two_Pt_Percent  Three_Pt_Percent  ...       Team  Home_Away  win  \\\n",
       "0          81.818               0.0  ...  Cavaliers          1    1   \n",
       "\n",
       "   Team_points  Min_played  Crowd  Stadium_Cap  \\\n",
       "0          117       32:23  20562        20562   \n",
       "\n",
       "                                game_id                  game_date  \\\n",
       "0  0da78f13-73ac-4465-8e31-ecc3029a5dc6  2016-10-25T23:30:00+00:00   \n",
       "\n",
       "         Player  \n",
       "0  LeBron James  \n",
       "\n",
       "[1 rows x 28 columns]"
      ]
     },
     "execution_count": 10,
     "metadata": {},
     "output_type": "execute_result"
    }
   ],
   "source": [
    "NBA_AllStats['Player'] = NBA_AllStats['First_Name'].str.cat(NBA_AllStats['Last_Name'],sep=\" \")\n",
    "NBA_AllStats.head(1)"
   ]
  },
  {
   "cell_type": "code",
   "execution_count": 6,
   "metadata": {
    "scrolled": false
   },
   "outputs": [
    {
     "data": {
      "text/html": [
       "<div>\n",
       "<style scoped>\n",
       "    .dataframe tbody tr th:only-of-type {\n",
       "        vertical-align: middle;\n",
       "    }\n",
       "\n",
       "    .dataframe tbody tr th {\n",
       "        vertical-align: top;\n",
       "    }\n",
       "\n",
       "    .dataframe thead th {\n",
       "        text-align: right;\n",
       "    }\n",
       "</style>\n",
       "<table border=\"1\" class=\"dataframe\">\n",
       "  <thead>\n",
       "    <tr style=\"text-align: right;\">\n",
       "      <th></th>\n",
       "      <th>PLAYER</th>\n",
       "      <th>PER</th>\n",
       "      <th>GP</th>\n",
       "      <th>MPG</th>\n",
       "      <th>TS%</th>\n",
       "      <th>AST</th>\n",
       "      <th>TO</th>\n",
       "      <th>USG</th>\n",
       "      <th>ORR</th>\n",
       "      <th>DRR</th>\n",
       "      <th>REBR</th>\n",
       "      <th>VA</th>\n",
       "      <th>EWA</th>\n",
       "      <th>Player</th>\n",
       "      <th>Team</th>\n",
       "    </tr>\n",
       "  </thead>\n",
       "  <tbody>\n",
       "    <tr>\n",
       "      <th>0</th>\n",
       "      <td>Giannis Antetokounmpo, MIL</td>\n",
       "      <td>31.94</td>\n",
       "      <td>63</td>\n",
       "      <td>30.4</td>\n",
       "      <td>0.613</td>\n",
       "      <td>16.9</td>\n",
       "      <td>11.0</td>\n",
       "      <td>37.2</td>\n",
       "      <td>7.7</td>\n",
       "      <td>34.8</td>\n",
       "      <td>22.1</td>\n",
       "      <td>584.9</td>\n",
       "      <td>19.5</td>\n",
       "      <td>Giannis Antetokounmpo</td>\n",
       "      <td>MIL</td>\n",
       "    </tr>\n",
       "  </tbody>\n",
       "</table>\n",
       "</div>"
      ],
      "text/plain": [
       "                       PLAYER    PER  GP   MPG    TS%   AST    TO   USG  ORR  \\\n",
       "0  Giannis Antetokounmpo, MIL  31.94  63  30.4  0.613  16.9  11.0  37.2  7.7   \n",
       "\n",
       "    DRR  REBR     VA   EWA                 Player  Team  \n",
       "0  34.8  22.1  584.9  19.5  Giannis Antetokounmpo   MIL  "
      ]
     },
     "execution_count": 6,
     "metadata": {},
     "output_type": "execute_result"
    }
   ],
   "source": [
    "NBATop50.head(1)"
   ]
  },
  {
   "cell_type": "code",
   "execution_count": 7,
   "metadata": {
    "scrolled": true
   },
   "outputs": [],
   "source": [
    "NBATop50_List = NBATop50['Player'].tolist()"
   ]
  },
  {
   "cell_type": "code",
   "execution_count": 15,
   "metadata": {
    "scrolled": true
   },
   "outputs": [],
   "source": [
    "Top50_AllStats = NBA_AllStats[NBA_AllStats.Player.isin(NBATop50_List)]\n",
    "\n"
   ]
  },
  {
   "cell_type": "code",
   "execution_count": 14,
   "metadata": {},
   "outputs": [
    {
     "ename": "NameError",
     "evalue": "name 'NBATop50_AllStats' is not defined",
     "output_type": "error",
     "traceback": [
      "\u001b[0;31m---------------------------------------------------------------------------\u001b[0m",
      "\u001b[0;31mNameError\u001b[0m                                 Traceback (most recent call last)",
      "\u001b[0;32m<ipython-input-14-2b0c8a697d18>\u001b[0m in \u001b[0;36m<module>\u001b[0;34m\u001b[0m\n\u001b[0;32m----> 1\u001b[0;31m \u001b[0mNBATop50_AllStats\u001b[0m\u001b[0;34m.\u001b[0m\u001b[0mto_csv\u001b[0m\u001b[0;34m(\u001b[0m\u001b[0;34m\"data_files/FinalDataFiles/NBATop50_AllStats.csv\"\u001b[0m\u001b[0;34m)\u001b[0m\u001b[0;34m\u001b[0m\u001b[0;34m\u001b[0m\u001b[0m\n\u001b[0m",
      "\u001b[0;31mNameError\u001b[0m: name 'NBATop50_AllStats' is not defined"
     ]
    }
   ],
   "source": [
    "NBATop50_AllStats.to_csv(\"data_files/FinalDataFiles/NBATop50_AllStats.csv\")"
   ]
  },
  {
   "cell_type": "code",
   "execution_count": null,
   "metadata": {},
   "outputs": [],
   "source": []
  }
 ],
 "metadata": {
  "kernelspec": {
   "display_name": "Python 3",
   "language": "python",
   "name": "python3"
  },
  "language_info": {
   "codemirror_mode": {
    "name": "ipython",
    "version": 3
   },
   "file_extension": ".py",
   "mimetype": "text/x-python",
   "name": "python",
   "nbconvert_exporter": "python",
   "pygments_lexer": "ipython3",
   "version": "3.7.6"
  }
 },
 "nbformat": 4,
 "nbformat_minor": 4
}
