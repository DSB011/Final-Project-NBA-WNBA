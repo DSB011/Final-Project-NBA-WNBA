{
 "cells": [
  {
   "cell_type": "code",
   "execution_count": 1,
   "metadata": {},
   "outputs": [],
   "source": [
    "import pandas as pd\n",
    "from datetime import datetime\n",
    "import requests as request\n",
    "from pprint import pprint\n",
    "import time\n",
    "from dateutil.relativedelta import relativedelta\n",
    "from pprint import pprint\n",
    "import numpy as np"
   ]
  },
  {
   "cell_type": "markdown",
   "metadata": {},
   "source": [
    "# NBA Player Data Combination"
   ]
  },
  {
   "cell_type": "code",
   "execution_count": null,
   "metadata": {},
   "outputs": [],
   "source": [
    "#NBA API Key\n",
    "from config import nba_key"
   ]
  },
  {
   "cell_type": "code",
   "execution_count": null,
   "metadata": {},
   "outputs": [],
   "source": [
    "#Player stats combination\n",
    "player1 = 'data_files/player_stats1.csv'\n",
    "player2 = 'data_files/player_stats2.csv'\n",
    "player3 = 'data_files/player_stats3.csv'\n",
    "player4 = 'data_files/player_stats4.csv'\n",
    "player5 = 'data_files/player_stats5.csv'\n",
    "player6 = 'data_files/player_stats6.csv'\n",
    "player7 = 'data_files/player_stats7.csv'"
   ]
  },
  {
   "cell_type": "code",
   "execution_count": null,
   "metadata": {},
   "outputs": [],
   "source": [
    "player1DF= pd.read_csv(player1)\n",
    "player2DF= pd.read_csv(player2)\n",
    "player3DF= pd.read_csv(player3)\n",
    "player4DF= pd.read_csv(player4)\n",
    "player5DF= pd.read_csv(player5)\n",
    "player6DF= pd.read_csv(player6)\n",
    "player7DF= pd.read_csv(player7)"
   ]
  },
  {
   "cell_type": "code",
   "execution_count": null,
   "metadata": {},
   "outputs": [],
   "source": [
    "frames = [player1DF,player2DF,player3DF,player4DF,player5DF,player6DF,player7DF]\n",
    "\n",
    "AllStats = pd.concat(frames)\n",
    "\n",
    "#AllStats.head()"
   ]
  },
  {
   "cell_type": "code",
   "execution_count": null,
   "metadata": {},
   "outputs": [],
   "source": [
    "# AllStats.to_csv(\"data_files/NBA_AllStats.csv\")"
   ]
  },
  {
   "cell_type": "markdown",
   "metadata": {},
   "source": [
    "# NBA Player Data (Sports Reference)\n",
    "- Ran out of Sports Radar API Pulls. To get player data we relied on the Sports Reference API\n",
    "- Merged this info with the NBA Top 50 Players"
   ]
  },
  {
   "cell_type": "code",
   "execution_count": null,
   "metadata": {},
   "outputs": [],
   "source": [
    "from sportsreference.nba.roster import Roster\n",
    "from sportsreference.nba.roster import Player\n",
    "from sportsreference.nba.teams import Teams"
   ]
  },
  {
   "cell_type": "code",
   "execution_count": null,
   "metadata": {},
   "outputs": [],
   "source": [
    "### Already ran the package and pulled data to CSV. Hashed out so it does not run again and slow down the computer\n",
    "## Function to get player info from Player class object.\n",
    "# def get_player_df(player):\n",
    "    \n",
    "#     # helper function to get player age during each season.\n",
    "#     def get_age(year, bd):\n",
    "#         if year[0] == \"Career\":\n",
    "#             return None\n",
    "#         else:\n",
    "#             year_dt = datetime(int(year[0][0:4]) + 1, 1, 1)\n",
    "#             age_years = relativedelta(year_dt, bd).years + relativedelta(year_dt, bd).months/12\n",
    "#             return age_years\n",
    "        \n",
    "#     # helper function to get year for each row and denote\n",
    "#     # rows that contain career totals.\n",
    "#     def get_year(ix):\n",
    "#         if ix[0] == \"Career\":\n",
    "#             return \"Career\"\n",
    "#         elif ix[0] == \"1999-00\":\n",
    "#             return \"2000\"\n",
    "#         else:\n",
    "#             return ix[0][0:2] + ix[0][-2:]\n",
    "    \n",
    "#     # get player df and add some extra info\n",
    "#     player_df = player.dataframe\n",
    "#     player_df['birth_date'] = player.birth_date\n",
    "#     player_df['player_id'] = player.player_id\n",
    "#     player_df['name'] = player.name\n",
    "#     player_df['year'] = [get_year(ix) for ix in player_df.index]\n",
    "#     player_df['id'] = [player_id + ' ' + year for player_id,\n",
    "#                        year in zip(player_df['player_id'],\n",
    "#                        player_df['year'])]\n",
    "#     player_df['age'] = [get_age(year, bd) for year,\n",
    "#                         bd in zip(player_df.index,\n",
    "#                         player_df['birth_date'])]\n",
    "#     player_df.set_index('id', drop = True, inplace = True)\n",
    "    \n",
    "#     return player_df\n"
   ]
  },
  {
   "cell_type": "code",
   "execution_count": null,
   "metadata": {
    "scrolled": false
   },
   "outputs": [],
   "source": [
    "### Already ran the package and pulled data to CSV. Hashed out so it does not run again and slow down the computer\n",
    "## initialize a list of players that we have pulled data for\n",
    "# players_collected = []\n",
    "# season_df_init = 0\n",
    "# career_df_init = 0\n",
    "# season_df = 0\n",
    "# career_df = 0\n",
    "# # iterate through years.\n",
    "# for year in range(2020, 1999, -1):\n",
    "#     print('\\n' + str(year))\n",
    "        \n",
    "#     # iterate through all teams in that year.\n",
    "#     for team in Teams(year = str(year)).dataframes.index:\n",
    "#         print('\\n' + team + '\\n')\n",
    "        \n",
    "#         # iterate through every player on a team roster.\n",
    "#         for player_id in Roster(team, year = year,\n",
    "#                          slim = True).players.keys():\n",
    "            \n",
    "#             # only pull player info if that player hasn't\n",
    "#             # been pulled already.\n",
    "#             if player_id not in players_collected:\n",
    "                \n",
    "#                 player = Player(player_id)\n",
    "#                 player_info = get_player_df(player)\n",
    "#                 player_seasons = player_info[\n",
    "#                                  player_info['year'] != \"Career\"]\n",
    "#                 player_career = player_info[\n",
    "#                                 player_info['year'] == \"Career\"]\n",
    "                \n",
    "#                 # create season_df if not initialized\n",
    "#                 if not season_df_init:\n",
    "#                     season_df = player_seasons\n",
    "#                     season_df_init = 1\n",
    "                \n",
    "#                 # else concatenate to season_df\n",
    "#                 else:\n",
    "#                     season_df = pd.concat([season_df,\n",
    "#                                    player_seasons], axis = 0)\n",
    "                    \n",
    "#                 if not career_df_init:\n",
    "#                     career_df = player_career\n",
    "#                     career_df_init = 1\n",
    "                \n",
    "#                 # else concatenate to career_df\n",
    "#                 else:\n",
    "#                     career_df = pd.concat([career_df,\n",
    "#                                    player_career], axis = 0)\n",
    "                \n",
    "#                 # add player to players_collected\n",
    "#                 players_collected.append(player_id)\n",
    "#                 print(player.name)"
   ]
  },
  {
   "cell_type": "code",
   "execution_count": null,
   "metadata": {},
   "outputs": [],
   "source": [
    "# season_df.to_csv('nba_player_stats_by_season.csv')\n",
    "# career_df.to_csv('nba_player_stats_by_career.csv')"
   ]
  },
  {
   "cell_type": "code",
   "execution_count": null,
   "metadata": {
    "scrolled": true
   },
   "outputs": [],
   "source": [
    "# season_df.head()"
   ]
  },
  {
   "cell_type": "code",
   "execution_count": null,
   "metadata": {
    "scrolled": true
   },
   "outputs": [],
   "source": [
    "PlayerCSV = 'data_files/nba_player_stats_by_season.csv'\n",
    "PlayerDF= pd.read_csv(PlayerCSV)\n",
    "\n",
    "PlayerDF.head()"
   ]
  },
  {
   "cell_type": "code",
   "execution_count": null,
   "metadata": {
    "scrolled": false
   },
   "outputs": [],
   "source": [
    "PlayerDF[['PlayerID','Season']]=PlayerDF.id.str.split(expand=True)\n",
    "\n",
    "PlayerDF.head()"
   ]
  },
  {
   "cell_type": "code",
   "execution_count": null,
   "metadata": {
    "scrolled": true
   },
   "outputs": [],
   "source": [
    "#Only have years we are reviewing\n",
    "\n",
    "PlayerDF_Seasons = PlayerDF[PlayerDF['year']>2015]\n",
    "PlayerDF_Seasons.head()"
   ]
  },
  {
   "cell_type": "code",
   "execution_count": null,
   "metadata": {
    "scrolled": true
   },
   "outputs": [],
   "source": [
    "#Reorganize column titles\n",
    "\n",
    "PlayerData = PlayerDF_Seasons[['birth_date','name','year','age']]\n",
    "PlayerData.head()"
   ]
  },
  {
   "cell_type": "code",
   "execution_count": null,
   "metadata": {
    "scrolled": false
   },
   "outputs": [],
   "source": [
    "#Final Player Dataframe (organized)\n",
    "\n",
    "PlayerData = PlayerData[['name','year','age','birth_date']]\n",
    "PlayerData"
   ]
  },
  {
   "cell_type": "code",
   "execution_count": null,
   "metadata": {},
   "outputs": [],
   "source": [
    "PlayerData.rename(columns={'name':'Player'}, inplace = True)\n",
    "\n",
    "PlayerData"
   ]
  },
  {
   "cell_type": "code",
   "execution_count": null,
   "metadata": {},
   "outputs": [],
   "source": [
    "#We pulled top 50 players for most recent season, therefore we only need players playing in 2020\n",
    "PlayerData2 = PlayerData[PlayerData['year']>2019]\n",
    "PlayerData2"
   ]
  },
  {
   "cell_type": "code",
   "execution_count": null,
   "metadata": {},
   "outputs": [],
   "source": [
    "#Check to ensure all rows are unique\n",
    "PlayerData2['Player'].nunique()"
   ]
  },
  {
   "cell_type": "code",
   "execution_count": 4,
   "metadata": {},
   "outputs": [
    {
     "data": {
      "text/html": [
       "<div>\n",
       "<style scoped>\n",
       "    .dataframe tbody tr th:only-of-type {\n",
       "        vertical-align: middle;\n",
       "    }\n",
       "\n",
       "    .dataframe tbody tr th {\n",
       "        vertical-align: top;\n",
       "    }\n",
       "\n",
       "    .dataframe thead th {\n",
       "        text-align: right;\n",
       "    }\n",
       "</style>\n",
       "<table border=\"1\" class=\"dataframe\">\n",
       "  <thead>\n",
       "    <tr style=\"text-align: right;\">\n",
       "      <th></th>\n",
       "      <th>PLAYER</th>\n",
       "      <th>PER</th>\n",
       "      <th>GP</th>\n",
       "      <th>MPG</th>\n",
       "      <th>TS%</th>\n",
       "      <th>AST</th>\n",
       "      <th>TO</th>\n",
       "      <th>USG</th>\n",
       "      <th>ORR</th>\n",
       "      <th>DRR</th>\n",
       "      <th>REBR</th>\n",
       "      <th>VA</th>\n",
       "      <th>EWA</th>\n",
       "    </tr>\n",
       "  </thead>\n",
       "  <tbody>\n",
       "    <tr>\n",
       "      <th>0</th>\n",
       "      <td>Giannis Antetokounmpo, MIL</td>\n",
       "      <td>31.94</td>\n",
       "      <td>63</td>\n",
       "      <td>30.4</td>\n",
       "      <td>0.613</td>\n",
       "      <td>16.9</td>\n",
       "      <td>11.0</td>\n",
       "      <td>37.2</td>\n",
       "      <td>7.7</td>\n",
       "      <td>34.8</td>\n",
       "      <td>22.1</td>\n",
       "      <td>584.9</td>\n",
       "      <td>19.5</td>\n",
       "    </tr>\n",
       "  </tbody>\n",
       "</table>\n",
       "</div>"
      ],
      "text/plain": [
       "                       PLAYER    PER  GP   MPG    TS%   AST    TO   USG  ORR  \\\n",
       "0  Giannis Antetokounmpo, MIL  31.94  63  30.4  0.613  16.9  11.0  37.2  7.7   \n",
       "\n",
       "    DRR  REBR     VA   EWA  \n",
       "0  34.8  22.1  584.9  19.5  "
      ]
     },
     "execution_count": 4,
     "metadata": {},
     "output_type": "execute_result"
    }
   ],
   "source": [
    "NBATop50 = pd.read_csv('data_files/NBATope50.csv')\n",
    "NBATop50.head(1)"
   ]
  },
  {
   "cell_type": "code",
   "execution_count": 5,
   "metadata": {},
   "outputs": [
    {
     "data": {
      "text/html": [
       "<div>\n",
       "<style scoped>\n",
       "    .dataframe tbody tr th:only-of-type {\n",
       "        vertical-align: middle;\n",
       "    }\n",
       "\n",
       "    .dataframe tbody tr th {\n",
       "        vertical-align: top;\n",
       "    }\n",
       "\n",
       "    .dataframe thead th {\n",
       "        text-align: right;\n",
       "    }\n",
       "</style>\n",
       "<table border=\"1\" class=\"dataframe\">\n",
       "  <thead>\n",
       "    <tr style=\"text-align: right;\">\n",
       "      <th></th>\n",
       "      <th>PLAYER</th>\n",
       "      <th>PER</th>\n",
       "      <th>GP</th>\n",
       "      <th>MPG</th>\n",
       "      <th>TS%</th>\n",
       "      <th>AST</th>\n",
       "      <th>TO</th>\n",
       "      <th>USG</th>\n",
       "      <th>ORR</th>\n",
       "      <th>DRR</th>\n",
       "      <th>REBR</th>\n",
       "      <th>VA</th>\n",
       "      <th>EWA</th>\n",
       "      <th>Player</th>\n",
       "      <th>Team</th>\n",
       "    </tr>\n",
       "  </thead>\n",
       "  <tbody>\n",
       "    <tr>\n",
       "      <th>0</th>\n",
       "      <td>Giannis Antetokounmpo, MIL</td>\n",
       "      <td>31.94</td>\n",
       "      <td>63</td>\n",
       "      <td>30.4</td>\n",
       "      <td>0.613</td>\n",
       "      <td>16.9</td>\n",
       "      <td>11.0</td>\n",
       "      <td>37.2</td>\n",
       "      <td>7.7</td>\n",
       "      <td>34.8</td>\n",
       "      <td>22.1</td>\n",
       "      <td>584.9</td>\n",
       "      <td>19.5</td>\n",
       "      <td>Giannis Antetokounmpo</td>\n",
       "      <td>MIL</td>\n",
       "    </tr>\n",
       "  </tbody>\n",
       "</table>\n",
       "</div>"
      ],
      "text/plain": [
       "                       PLAYER    PER  GP   MPG    TS%   AST    TO   USG  ORR  \\\n",
       "0  Giannis Antetokounmpo, MIL  31.94  63  30.4  0.613  16.9  11.0  37.2  7.7   \n",
       "\n",
       "    DRR  REBR     VA   EWA                 Player  Team  \n",
       "0  34.8  22.1  584.9  19.5  Giannis Antetokounmpo   MIL  "
      ]
     },
     "execution_count": 5,
     "metadata": {},
     "output_type": "execute_result"
    }
   ],
   "source": [
    "NBATop50[['Player','Team']]=NBATop50.PLAYER.str.split(\",\",expand=True)\n",
    "\n",
    "NBATop50.head(1)"
   ]
  },
  {
   "cell_type": "code",
   "execution_count": null,
   "metadata": {},
   "outputs": [],
   "source": [
    "#Combine all data to see if there are outliers. Those will be added manually\n",
    "\n",
    "NBATop50_DF = pd.merge(NBATop50, PlayerData2, on='Player', how = \"left\")\n",
    "#NBATop50_DF"
   ]
  },
  {
   "cell_type": "code",
   "execution_count": null,
   "metadata": {},
   "outputs": [],
   "source": [
    "NBATop50_Final = NBATop50_DF[['Player','Team','year','age', 'birth_date']]\n",
    "#NBATop50_Final"
   ]
  },
  {
   "cell_type": "code",
   "execution_count": null,
   "metadata": {},
   "outputs": [],
   "source": [
    "#NBATop50_Final.to_csv(\"data_files/NBA_Player_Profile.csv\")"
   ]
  },
  {
   "cell_type": "markdown",
   "metadata": {},
   "source": [
    "# WNBA - Top 50 Player Profile\n",
    "\n",
    "- API Pull of Player Profile data from Sports Radar\n",
    "- Merge Player Profile info to the Top 50 WNBA player data"
   ]
  },
  {
   "cell_type": "code",
   "execution_count": null,
   "metadata": {},
   "outputs": [],
   "source": [
    "WNBAPlayers = pd.read_csv('data_files/FinalDataFiles/WBNAfullplayerstatslist.csv')\n",
    "WNBAPlayers.head(1)"
   ]
  },
  {
   "cell_type": "code",
   "execution_count": null,
   "metadata": {},
   "outputs": [],
   "source": [
    "WNBAPlayers['player_id'].nunique()"
   ]
  },
  {
   "cell_type": "code",
   "execution_count": null,
   "metadata": {},
   "outputs": [],
   "source": [
    "UniqueIDs = WNBAPlayers.drop_duplicates(subset=\"player_id\", keep=\"first\",inplace=False)\n",
    "UniqueIDs.count().head()"
   ]
  },
  {
   "cell_type": "code",
   "execution_count": null,
   "metadata": {},
   "outputs": [],
   "source": [
    "from config import wnba_key\n",
    "api_key2 ='wnba_key"
   ]
  },
  {
   "cell_type": "code",
   "execution_count": null,
   "metadata": {},
   "outputs": [],
   "source": [
    "url = f'https://api.sportradar.us/wnba/trial/v7/en/players/adfc445c-06c0-444a-8856-32cf13a89ea2/profile.json?api_key={api_key2}'\n",
    "response = request.get(url)"
   ]
  },
  {
   "cell_type": "code",
   "execution_count": null,
   "metadata": {
    "scrolled": false
   },
   "outputs": [],
   "source": [
    "data = response.json()\n",
    "\n",
    "#pprint(data)"
   ]
  },
  {
   "cell_type": "code",
   "execution_count": null,
   "metadata": {},
   "outputs": [],
   "source": [
    "print(data['draft']['pick'])"
   ]
  },
  {
   "cell_type": "code",
   "execution_count": null,
   "metadata": {},
   "outputs": [],
   "source": [
    "#Ran API pull and put into CSV since we only were given 1000 pulls from sports radar\n",
    "\n",
    "# player_list = UniqueIDs[\"player_id\"].tolist()\n",
    "# player_ID = []\n",
    "# last_name = []\n",
    "# first_name = []\n",
    "# birthdate = []\n",
    "# draft_pick = []\n",
    "# height_inches = []\n",
    "# jersey_number = []\n",
    "# experience = []\n",
    "# position = []\n",
    "\n",
    "# for player_id in player_list:\n",
    "#     try:\n",
    "#         url = f'https://api.sportradar.us/wnba/trial/v7/en/players/{player_id}/profile.json?api_key={api_key2}'\n",
    "#         time.sleep(1)\n",
    "#         r = request.get(url)\n",
    "#         player_profiles = r.json()\n",
    "#         DPick = player_profiles ['draft']['pick']\n",
    "\n",
    "#         #player_ID.append(player_profiles['id'])\n",
    "#         if 'id' in player_profiles:\n",
    "#             player_ID.append(player_profiles['id'])\n",
    "#         else:\n",
    "#             player_ID.appened('n/a')\n",
    "\n",
    "#         #last_name.append(player_profiles['last_name'])\n",
    "#         if 'last_name' in player_profiles:\n",
    "#             last_name.append(player_profiles['last_name'])\n",
    "#         else:\n",
    "#             last_name.appened('n/a')\n",
    "\n",
    "#         #first_name.append(player_profiles['first_name'])\n",
    "#         if 'first_name' in player_profiles:\n",
    "#             first_name.append(player_profiles['first_name'])\n",
    "#         else:\n",
    "#             first_name.appened('n/a')\n",
    "\n",
    "# #         #birthdate.append(player_profiles['birthdate'])\n",
    "# #         if 'birthdate' in player_profiles:\n",
    "# #             birthdate.append(player_profiles['birthdate'])\n",
    "# #         else:\n",
    "# #             birthdate.appened('n/a')\n",
    "\n",
    "#         #draft_pick.append(player_profiles['draft']['pick'])\n",
    "#         if 'pick' in DPick:\n",
    "#             draft_pick.append(DPick['pick'])\n",
    "#         else:\n",
    "#             draft_pick.append('n/a')\n",
    "\n",
    "#         #height_inches.append(player_profiles['height'])\n",
    "#         if 'height' in player_profiles:\n",
    "#             height_inches.append(player_profiles['height'])\n",
    "#         else:\n",
    "#             height_inches.appened('n/a')   \n",
    "\n",
    "#         #jersey_number.append(player_profiles['jersey_number'])\n",
    "#         if 'jersey_number' in player_profiles:\n",
    "#             jersey_number.append(player_profiles['jersey_number'])\n",
    "#         else:\n",
    "#             jersey_number.append('n/a')   \n",
    "\n",
    "#         #experience.append(player_profiles['experience'])\n",
    "#         if 'experience' in player_profiles:\n",
    "#             experience.append(player_profiles['experience'])\n",
    "#         else:\n",
    "#             experience.append('n/a')    \n",
    "\n",
    "#         #position.append(player_profiles['position'])\n",
    "#         if 'position' in player_profiles:\n",
    "#             position.append(player_profiles['position'])\n",
    "#         else:\n",
    "#             position.append('n/a')   \n",
    "    \n",
    "#     except:\n",
    "#         print(player_id)\n",
    "\n",
    "#     player_dict = {\"Player_ID\":player_ID, \"Last_Name\":last_name, \"First_Name\":first_name,\n",
    "#                    \"Draft_Pick\":draft_pick,\"Height_inches\":height_inches,\n",
    "#                    \"Jersey_Number\":jersey_number,\"Experience\":experience, \"Position\":position\n",
    "#                  }\n",
    "    \n",
    "# WNBAplayerDF = pd.DataFrame(player_dict)\n",
    "WNBAplayerDF"
   ]
  },
  {
   "cell_type": "code",
   "execution_count": 42,
   "metadata": {},
   "outputs": [
    {
     "ename": "NameError",
     "evalue": "name 'WNBAplayerDF' is not defined",
     "output_type": "error",
     "traceback": [
      "\u001b[0;31m---------------------------------------------------------------------------\u001b[0m",
      "\u001b[0;31mNameError\u001b[0m                                 Traceback (most recent call last)",
      "\u001b[0;32m<ipython-input-42-7ac12239d0c8>\u001b[0m in \u001b[0;36m<module>\u001b[0;34m\u001b[0m\n\u001b[0;32m----> 1\u001b[0;31m \u001b[0mWNBAplayerDF\u001b[0m\u001b[0;34m.\u001b[0m\u001b[0mto_csv\u001b[0m\u001b[0;34m(\u001b[0m\u001b[0;34m\"data_files/FinalDataFiles/WNBA_Player_Profile.csv\"\u001b[0m\u001b[0;34m)\u001b[0m\u001b[0;34m\u001b[0m\u001b[0;34m\u001b[0m\u001b[0m\n\u001b[0m",
      "\u001b[0;31mNameError\u001b[0m: name 'WNBAplayerDF' is not defined"
     ]
    }
   ],
   "source": [
    "WNBAplayerDF.to_csv(\"data_files/WNBA_Player_Profile.csv\")"
   ]
  },
  {
   "cell_type": "code",
   "execution_count": 41,
   "metadata": {},
   "outputs": [
    {
     "ename": "NameError",
     "evalue": "name 'WNBAplayerDF' is not defined",
     "output_type": "error",
     "traceback": [
      "\u001b[0;31m---------------------------------------------------------------------------\u001b[0m",
      "\u001b[0;31mNameError\u001b[0m                                 Traceback (most recent call last)",
      "\u001b[0;32m<ipython-input-41-3d0ad4f71261>\u001b[0m in \u001b[0;36m<module>\u001b[0;34m\u001b[0m\n\u001b[1;32m      1\u001b[0m \u001b[0;31m#Reorg Columns\u001b[0m\u001b[0;34m\u001b[0m\u001b[0;34m\u001b[0m\u001b[0;34m\u001b[0m\u001b[0m\n\u001b[1;32m      2\u001b[0m \u001b[0;34m\u001b[0m\u001b[0m\n\u001b[0;32m----> 3\u001b[0;31m \u001b[0mWNBAplayerDF\u001b[0m \u001b[0;34m=\u001b[0m \u001b[0mWNBAplayerDF\u001b[0m\u001b[0;34m[\u001b[0m\u001b[0;34m[\u001b[0m\u001b[0;34m'First_Name'\u001b[0m\u001b[0;34m,\u001b[0m\u001b[0;34m'Last_Name'\u001b[0m\u001b[0;34m,\u001b[0m\u001b[0;34m'Height_inches'\u001b[0m\u001b[0;34m,\u001b[0m\u001b[0;34m'Jersey_Number'\u001b[0m\u001b[0;34m,\u001b[0m\u001b[0;34m'Experience'\u001b[0m\u001b[0;34m,\u001b[0m\u001b[0;34m'Position'\u001b[0m\u001b[0;34m]\u001b[0m\u001b[0;34m]\u001b[0m\u001b[0;34m\u001b[0m\u001b[0;34m\u001b[0m\u001b[0m\n\u001b[0m\u001b[1;32m      4\u001b[0m \u001b[0mWNBAplayerDF\u001b[0m\u001b[0;34m.\u001b[0m\u001b[0mhead\u001b[0m\u001b[0;34m(\u001b[0m\u001b[0;36m1\u001b[0m\u001b[0;34m)\u001b[0m\u001b[0;34m\u001b[0m\u001b[0;34m\u001b[0m\u001b[0m\n",
      "\u001b[0;31mNameError\u001b[0m: name 'WNBAplayerDF' is not defined"
     ]
    }
   ],
   "source": [
    "#Reorg Columns\n",
    "\n",
    "WNBAplayerDF = WNBAplayerDF[['First_Name','Last_Name','Height_inches','Jersey_Number','Experience','Position']]\n",
    "WNBAplayerDF.head(1)"
   ]
  },
  {
   "cell_type": "code",
   "execution_count": null,
   "metadata": {},
   "outputs": [],
   "source": [
    "WNBAplayerDF['Player'] = WNBAplayerDF['First_Name'].str.cat(WNBAplayerDF['Last_Name'],sep=\" \")\n",
    "#WNBAplayerDF\n"
   ]
  },
  {
   "cell_type": "code",
   "execution_count": null,
   "metadata": {
    "scrolled": true
   },
   "outputs": [],
   "source": [
    "WNBAplayerDF = WNBAplayerDF[['Player','First_Name','Last_Name','Height_inches','Jersey_Number','Experience','Position']]\n",
    "WNBAplayerDF.head(1)"
   ]
  },
  {
   "cell_type": "code",
   "execution_count": 43,
   "metadata": {},
   "outputs": [
    {
     "data": {
      "text/html": [
       "<div>\n",
       "<style scoped>\n",
       "    .dataframe tbody tr th:only-of-type {\n",
       "        vertical-align: middle;\n",
       "    }\n",
       "\n",
       "    .dataframe tbody tr th {\n",
       "        vertical-align: top;\n",
       "    }\n",
       "\n",
       "    .dataframe thead th {\n",
       "        text-align: right;\n",
       "    }\n",
       "</style>\n",
       "<table border=\"1\" class=\"dataframe\">\n",
       "  <thead>\n",
       "    <tr style=\"text-align: right;\">\n",
       "      <th></th>\n",
       "      <th>PLAYER</th>\n",
       "      <th>EFF</th>\n",
       "      <th>GP</th>\n",
       "      <th>MIN</th>\n",
       "      <th>PTS</th>\n",
       "      <th>FGM</th>\n",
       "      <th>FGA</th>\n",
       "      <th>FG%</th>\n",
       "      <th>3PM</th>\n",
       "      <th>3PA</th>\n",
       "      <th>...</th>\n",
       "      <th>FTM</th>\n",
       "      <th>FTA</th>\n",
       "      <th>FT%</th>\n",
       "      <th>OREB</th>\n",
       "      <th>DREB</th>\n",
       "      <th>REB</th>\n",
       "      <th>AST</th>\n",
       "      <th>STL</th>\n",
       "      <th>BLK</th>\n",
       "      <th>TOV</th>\n",
       "    </tr>\n",
       "  </thead>\n",
       "  <tbody>\n",
       "    <tr>\n",
       "      <th>0</th>\n",
       "      <td>BREANNA STEWART</td>\n",
       "      <td>23.4</td>\n",
       "      <td>20</td>\n",
       "      <td>30.4</td>\n",
       "      <td>19.7</td>\n",
       "      <td>6.7</td>\n",
       "      <td>14.8</td>\n",
       "      <td>45.1</td>\n",
       "      <td>1.8</td>\n",
       "      <td>4.8</td>\n",
       "      <td>...</td>\n",
       "      <td>4.7</td>\n",
       "      <td>5.2</td>\n",
       "      <td>89.4</td>\n",
       "      <td>1.0</td>\n",
       "      <td>7.3</td>\n",
       "      <td>8.3</td>\n",
       "      <td>3.6</td>\n",
       "      <td>1.7</td>\n",
       "      <td>1.3</td>\n",
       "      <td>2.5</td>\n",
       "    </tr>\n",
       "  </tbody>\n",
       "</table>\n",
       "<p>1 rows × 21 columns</p>\n",
       "</div>"
      ],
      "text/plain": [
       "            PLAYER   EFF  GP   MIN   PTS  FGM   FGA   FG%  3PM  3PA  ...  FTM  \\\n",
       "0  BREANNA STEWART  23.4  20  30.4  19.7  6.7  14.8  45.1  1.8  4.8  ...  4.7   \n",
       "\n",
       "   FTA   FT%  OREB  DREB  REB  AST  STL  BLK  TOV  \n",
       "0  5.2  89.4   1.0   7.3  8.3  3.6  1.7  1.3  2.5  \n",
       "\n",
       "[1 rows x 21 columns]"
      ]
     },
     "execution_count": 43,
     "metadata": {},
     "output_type": "execute_result"
    }
   ],
   "source": [
    "#Read in to 50 WNBA players\n",
    "\n",
    "WNBATop50 = pd.read_csv('data_files/Top50WNBA.csv')\n",
    "WNBATop50.head(1)"
   ]
  },
  {
   "cell_type": "code",
   "execution_count": 44,
   "metadata": {
    "scrolled": true
   },
   "outputs": [],
   "source": [
    "WNBATop50['PLAYER'] = WNBATop50['PLAYER'].str.title()"
   ]
  },
  {
   "cell_type": "code",
   "execution_count": 45,
   "metadata": {},
   "outputs": [
    {
     "data": {
      "text/html": [
       "<div>\n",
       "<style scoped>\n",
       "    .dataframe tbody tr th:only-of-type {\n",
       "        vertical-align: middle;\n",
       "    }\n",
       "\n",
       "    .dataframe tbody tr th {\n",
       "        vertical-align: top;\n",
       "    }\n",
       "\n",
       "    .dataframe thead th {\n",
       "        text-align: right;\n",
       "    }\n",
       "</style>\n",
       "<table border=\"1\" class=\"dataframe\">\n",
       "  <thead>\n",
       "    <tr style=\"text-align: right;\">\n",
       "      <th></th>\n",
       "      <th>Player</th>\n",
       "      <th>EFF</th>\n",
       "      <th>GP</th>\n",
       "      <th>MIN</th>\n",
       "      <th>PTS</th>\n",
       "      <th>FGM</th>\n",
       "      <th>FGA</th>\n",
       "      <th>FG%</th>\n",
       "      <th>3PM</th>\n",
       "      <th>3PA</th>\n",
       "      <th>...</th>\n",
       "      <th>FTM</th>\n",
       "      <th>FTA</th>\n",
       "      <th>FT%</th>\n",
       "      <th>OREB</th>\n",
       "      <th>DREB</th>\n",
       "      <th>REB</th>\n",
       "      <th>AST</th>\n",
       "      <th>STL</th>\n",
       "      <th>BLK</th>\n",
       "      <th>TOV</th>\n",
       "    </tr>\n",
       "  </thead>\n",
       "  <tbody>\n",
       "    <tr>\n",
       "      <th>0</th>\n",
       "      <td>Breanna Stewart</td>\n",
       "      <td>23.4</td>\n",
       "      <td>20</td>\n",
       "      <td>30.4</td>\n",
       "      <td>19.7</td>\n",
       "      <td>6.7</td>\n",
       "      <td>14.8</td>\n",
       "      <td>45.1</td>\n",
       "      <td>1.8</td>\n",
       "      <td>4.8</td>\n",
       "      <td>...</td>\n",
       "      <td>4.7</td>\n",
       "      <td>5.2</td>\n",
       "      <td>89.4</td>\n",
       "      <td>1.0</td>\n",
       "      <td>7.3</td>\n",
       "      <td>8.3</td>\n",
       "      <td>3.6</td>\n",
       "      <td>1.7</td>\n",
       "      <td>1.3</td>\n",
       "      <td>2.5</td>\n",
       "    </tr>\n",
       "  </tbody>\n",
       "</table>\n",
       "<p>1 rows × 21 columns</p>\n",
       "</div>"
      ],
      "text/plain": [
       "            Player   EFF  GP   MIN   PTS  FGM   FGA   FG%  3PM  3PA  ...  FTM  \\\n",
       "0  Breanna Stewart  23.4  20  30.4  19.7  6.7  14.8  45.1  1.8  4.8  ...  4.7   \n",
       "\n",
       "   FTA   FT%  OREB  DREB  REB  AST  STL  BLK  TOV  \n",
       "0  5.2  89.4   1.0   7.3  8.3  3.6  1.7  1.3  2.5  \n",
       "\n",
       "[1 rows x 21 columns]"
      ]
     },
     "execution_count": 45,
     "metadata": {},
     "output_type": "execute_result"
    }
   ],
   "source": [
    "WNBATop50 = WNBATop50.rename(columns = {'PLAYER': 'Player'}, inplace = False)\n",
    "\n",
    "WNBATop50.head(1)"
   ]
  },
  {
   "cell_type": "code",
   "execution_count": 46,
   "metadata": {
    "scrolled": false
   },
   "outputs": [
    {
     "ename": "NameError",
     "evalue": "name 'WNBAplayerDF' is not defined",
     "output_type": "error",
     "traceback": [
      "\u001b[0;31m---------------------------------------------------------------------------\u001b[0m",
      "\u001b[0;31mNameError\u001b[0m                                 Traceback (most recent call last)",
      "\u001b[0;32m<ipython-input-46-fa8ad3ea23a0>\u001b[0m in \u001b[0;36m<module>\u001b[0;34m\u001b[0m\n\u001b[0;32m----> 1\u001b[0;31m \u001b[0mWNBATop50_DF\u001b[0m \u001b[0;34m=\u001b[0m \u001b[0mpd\u001b[0m\u001b[0;34m.\u001b[0m\u001b[0mmerge\u001b[0m\u001b[0;34m(\u001b[0m\u001b[0mWNBATop50\u001b[0m\u001b[0;34m,\u001b[0m \u001b[0mWNBAplayerDF\u001b[0m\u001b[0;34m,\u001b[0m \u001b[0mon\u001b[0m\u001b[0;34m=\u001b[0m\u001b[0;34m'Player'\u001b[0m\u001b[0;34m,\u001b[0m \u001b[0mhow\u001b[0m \u001b[0;34m=\u001b[0m \u001b[0;34m\"left\"\u001b[0m\u001b[0;34m)\u001b[0m\u001b[0;34m\u001b[0m\u001b[0;34m\u001b[0m\u001b[0m\n\u001b[0m\u001b[1;32m      2\u001b[0m \u001b[0mWNBATop50_DF\u001b[0m\u001b[0;34m.\u001b[0m\u001b[0mhead\u001b[0m\u001b[0;34m(\u001b[0m\u001b[0;36m1\u001b[0m\u001b[0;34m)\u001b[0m\u001b[0;34m\u001b[0m\u001b[0;34m\u001b[0m\u001b[0m\n",
      "\u001b[0;31mNameError\u001b[0m: name 'WNBAplayerDF' is not defined"
     ]
    }
   ],
   "source": [
    "WNBATop50_DF = pd.merge(WNBATop50, WNBAplayerDF, on='Player', how = \"left\")\n",
    "WNBATop50_DF.head(1)"
   ]
  },
  {
   "cell_type": "code",
   "execution_count": 47,
   "metadata": {},
   "outputs": [
    {
     "ename": "NameError",
     "evalue": "name 'WNBATop50_DF' is not defined",
     "output_type": "error",
     "traceback": [
      "\u001b[0;31m---------------------------------------------------------------------------\u001b[0m",
      "\u001b[0;31mNameError\u001b[0m                                 Traceback (most recent call last)",
      "\u001b[0;32m<ipython-input-47-2d92b189a766>\u001b[0m in \u001b[0;36m<module>\u001b[0;34m\u001b[0m\n\u001b[0;32m----> 1\u001b[0;31m \u001b[0mWNBATop50_DF\u001b[0m \u001b[0;34m=\u001b[0m \u001b[0mWNBATop50_DF\u001b[0m\u001b[0;34m[\u001b[0m\u001b[0;34m[\u001b[0m\u001b[0;34m'Player'\u001b[0m\u001b[0;34m,\u001b[0m\u001b[0;34m'Height_inches'\u001b[0m\u001b[0;34m,\u001b[0m\u001b[0;34m'Position'\u001b[0m\u001b[0;34m,\u001b[0m\u001b[0;34m'Jersey_Number'\u001b[0m\u001b[0;34m,\u001b[0m\u001b[0;34m'Experience'\u001b[0m\u001b[0;34m]\u001b[0m\u001b[0;34m]\u001b[0m\u001b[0;34m\u001b[0m\u001b[0;34m\u001b[0m\u001b[0m\n\u001b[0m\u001b[1;32m      2\u001b[0m \u001b[0mWNBATop50_DF\u001b[0m\u001b[0;34m.\u001b[0m\u001b[0mhead\u001b[0m\u001b[0;34m(\u001b[0m\u001b[0;36m1\u001b[0m\u001b[0;34m)\u001b[0m\u001b[0;34m\u001b[0m\u001b[0;34m\u001b[0m\u001b[0m\n",
      "\u001b[0;31mNameError\u001b[0m: name 'WNBATop50_DF' is not defined"
     ]
    }
   ],
   "source": [
    "WNBATop50_DF = WNBATop50_DF[['Player','Height_inches','Position','Jersey_Number','Experience']]\n",
    "WNBATop50_DF.head(1)"
   ]
  },
  {
   "cell_type": "code",
   "execution_count": 48,
   "metadata": {},
   "outputs": [],
   "source": [
    "#WNBATop50_DF.to_csv(\"data_files/FinalDataFiles/WNBA_Player_Profile.csv\")"
   ]
  },
  {
   "cell_type": "markdown",
   "metadata": {},
   "source": [
    "# Player Stats for NBA Top 50 ONLY"
   ]
  },
  {
   "cell_type": "code",
   "execution_count": 52,
   "metadata": {},
   "outputs": [
    {
     "data": {
      "text/html": [
       "<div>\n",
       "<style scoped>\n",
       "    .dataframe tbody tr th:only-of-type {\n",
       "        vertical-align: middle;\n",
       "    }\n",
       "\n",
       "    .dataframe tbody tr th {\n",
       "        vertical-align: top;\n",
       "    }\n",
       "\n",
       "    .dataframe thead th {\n",
       "        text-align: right;\n",
       "    }\n",
       "</style>\n",
       "<table border=\"1\" class=\"dataframe\">\n",
       "  <thead>\n",
       "    <tr style=\"text-align: right;\">\n",
       "      <th></th>\n",
       "      <th>Unnamed: 0</th>\n",
       "      <th>Unnamed: 0.1</th>\n",
       "      <th>First_Name</th>\n",
       "      <th>Last_Name</th>\n",
       "      <th>player_id</th>\n",
       "      <th>Position</th>\n",
       "      <th>Points</th>\n",
       "      <th>Free_Throw_Percent</th>\n",
       "      <th>Two_Pt_Percent</th>\n",
       "      <th>Three_Pt_Percent</th>\n",
       "      <th>...</th>\n",
       "      <th>Turnovers</th>\n",
       "      <th>Team</th>\n",
       "      <th>Home_Away</th>\n",
       "      <th>win</th>\n",
       "      <th>Team_points</th>\n",
       "      <th>Min_played</th>\n",
       "      <th>Crowd</th>\n",
       "      <th>Stadium_Cap</th>\n",
       "      <th>game_id</th>\n",
       "      <th>game_date</th>\n",
       "    </tr>\n",
       "  </thead>\n",
       "  <tbody>\n",
       "    <tr>\n",
       "      <th>0</th>\n",
       "      <td>0</td>\n",
       "      <td>0</td>\n",
       "      <td>LeBron</td>\n",
       "      <td>James</td>\n",
       "      <td>0afbe608-940a-4d5d-a1f7-468718c67d91</td>\n",
       "      <td>F</td>\n",
       "      <td>19</td>\n",
       "      <td>50.0</td>\n",
       "      <td>81.818</td>\n",
       "      <td>0.0</td>\n",
       "      <td>...</td>\n",
       "      <td>4</td>\n",
       "      <td>Cavaliers</td>\n",
       "      <td>1</td>\n",
       "      <td>1</td>\n",
       "      <td>117</td>\n",
       "      <td>32:23</td>\n",
       "      <td>20562</td>\n",
       "      <td>20562</td>\n",
       "      <td>0da78f13-73ac-4465-8e31-ecc3029a5dc6</td>\n",
       "      <td>2016-10-25T23:30:00+00:00</td>\n",
       "    </tr>\n",
       "  </tbody>\n",
       "</table>\n",
       "<p>1 rows × 27 columns</p>\n",
       "</div>"
      ],
      "text/plain": [
       "   Unnamed: 0  Unnamed: 0.1 First_Name Last_Name  \\\n",
       "0           0             0     LeBron     James   \n",
       "\n",
       "                              player_id Position  Points  Free_Throw_Percent  \\\n",
       "0  0afbe608-940a-4d5d-a1f7-468718c67d91        F      19                50.0   \n",
       "\n",
       "   Two_Pt_Percent  Three_Pt_Percent  ...  Turnovers       Team  Home_Away  \\\n",
       "0          81.818               0.0  ...          4  Cavaliers          1   \n",
       "\n",
       "   win  Team_points  Min_played  Crowd  Stadium_Cap  \\\n",
       "0    1          117       32:23  20562        20562   \n",
       "\n",
       "                                game_id                  game_date  \n",
       "0  0da78f13-73ac-4465-8e31-ecc3029a5dc6  2016-10-25T23:30:00+00:00  \n",
       "\n",
       "[1 rows x 27 columns]"
      ]
     },
     "execution_count": 52,
     "metadata": {},
     "output_type": "execute_result"
    }
   ],
   "source": [
    "NBA_AllStats = pd.read_csv('data_files/FinalDataFiles/NBA_AllStats.csv')\n",
    "NBA_AllStats.head(1)"
   ]
  },
  {
   "cell_type": "code",
   "execution_count": 10,
   "metadata": {},
   "outputs": [
    {
     "data": {
      "text/html": [
       "<div>\n",
       "<style scoped>\n",
       "    .dataframe tbody tr th:only-of-type {\n",
       "        vertical-align: middle;\n",
       "    }\n",
       "\n",
       "    .dataframe tbody tr th {\n",
       "        vertical-align: top;\n",
       "    }\n",
       "\n",
       "    .dataframe thead th {\n",
       "        text-align: right;\n",
       "    }\n",
       "</style>\n",
       "<table border=\"1\" class=\"dataframe\">\n",
       "  <thead>\n",
       "    <tr style=\"text-align: right;\">\n",
       "      <th></th>\n",
       "      <th>Unnamed: 0</th>\n",
       "      <th>Unnamed: 0.1</th>\n",
       "      <th>First_Name</th>\n",
       "      <th>Last_Name</th>\n",
       "      <th>player_id</th>\n",
       "      <th>Position</th>\n",
       "      <th>Points</th>\n",
       "      <th>Free_Throw_Percent</th>\n",
       "      <th>Two_Pt_Percent</th>\n",
       "      <th>Three_Pt_Percent</th>\n",
       "      <th>...</th>\n",
       "      <th>Team</th>\n",
       "      <th>Home_Away</th>\n",
       "      <th>win</th>\n",
       "      <th>Team_points</th>\n",
       "      <th>Min_played</th>\n",
       "      <th>Crowd</th>\n",
       "      <th>Stadium_Cap</th>\n",
       "      <th>game_id</th>\n",
       "      <th>game_date</th>\n",
       "      <th>Player</th>\n",
       "    </tr>\n",
       "  </thead>\n",
       "  <tbody>\n",
       "    <tr>\n",
       "      <th>0</th>\n",
       "      <td>0</td>\n",
       "      <td>0</td>\n",
       "      <td>LeBron</td>\n",
       "      <td>James</td>\n",
       "      <td>0afbe608-940a-4d5d-a1f7-468718c67d91</td>\n",
       "      <td>F</td>\n",
       "      <td>19</td>\n",
       "      <td>50.0</td>\n",
       "      <td>81.818</td>\n",
       "      <td>0.0</td>\n",
       "      <td>...</td>\n",
       "      <td>Cavaliers</td>\n",
       "      <td>1</td>\n",
       "      <td>1</td>\n",
       "      <td>117</td>\n",
       "      <td>32:23</td>\n",
       "      <td>20562</td>\n",
       "      <td>20562</td>\n",
       "      <td>0da78f13-73ac-4465-8e31-ecc3029a5dc6</td>\n",
       "      <td>2016-10-25T23:30:00+00:00</td>\n",
       "      <td>LeBron James</td>\n",
       "    </tr>\n",
       "  </tbody>\n",
       "</table>\n",
       "<p>1 rows × 28 columns</p>\n",
       "</div>"
      ],
      "text/plain": [
       "   Unnamed: 0  Unnamed: 0.1 First_Name Last_Name  \\\n",
       "0           0             0     LeBron     James   \n",
       "\n",
       "                              player_id Position  Points  Free_Throw_Percent  \\\n",
       "0  0afbe608-940a-4d5d-a1f7-468718c67d91        F      19                50.0   \n",
       "\n",
       "   Two_Pt_Percent  Three_Pt_Percent  ...       Team  Home_Away  win  \\\n",
       "0          81.818               0.0  ...  Cavaliers          1    1   \n",
       "\n",
       "   Team_points  Min_played  Crowd  Stadium_Cap  \\\n",
       "0          117       32:23  20562        20562   \n",
       "\n",
       "                                game_id                  game_date  \\\n",
       "0  0da78f13-73ac-4465-8e31-ecc3029a5dc6  2016-10-25T23:30:00+00:00   \n",
       "\n",
       "         Player  \n",
       "0  LeBron James  \n",
       "\n",
       "[1 rows x 28 columns]"
      ]
     },
     "execution_count": 10,
     "metadata": {},
     "output_type": "execute_result"
    }
   ],
   "source": [
    "NBA_AllStats['Player'] = NBA_AllStats['First_Name'].str.cat(NBA_AllStats['Last_Name'],sep=\" \")\n",
    "NBA_AllStats.head(1)"
   ]
  },
  {
   "cell_type": "code",
   "execution_count": 35,
   "metadata": {
    "scrolled": false
   },
   "outputs": [
    {
     "data": {
      "text/html": [
       "<div>\n",
       "<style scoped>\n",
       "    .dataframe tbody tr th:only-of-type {\n",
       "        vertical-align: middle;\n",
       "    }\n",
       "\n",
       "    .dataframe tbody tr th {\n",
       "        vertical-align: top;\n",
       "    }\n",
       "\n",
       "    .dataframe thead th {\n",
       "        text-align: right;\n",
       "    }\n",
       "</style>\n",
       "<table border=\"1\" class=\"dataframe\">\n",
       "  <thead>\n",
       "    <tr style=\"text-align: right;\">\n",
       "      <th></th>\n",
       "      <th>PLAYER</th>\n",
       "      <th>PER</th>\n",
       "      <th>GP</th>\n",
       "      <th>MPG</th>\n",
       "      <th>TS%</th>\n",
       "      <th>AST</th>\n",
       "      <th>TO</th>\n",
       "      <th>USG</th>\n",
       "      <th>ORR</th>\n",
       "      <th>DRR</th>\n",
       "      <th>REBR</th>\n",
       "      <th>VA</th>\n",
       "      <th>EWA</th>\n",
       "      <th>Player</th>\n",
       "      <th>Team</th>\n",
       "    </tr>\n",
       "  </thead>\n",
       "  <tbody>\n",
       "    <tr>\n",
       "      <th>0</th>\n",
       "      <td>Giannis Antetokounmpo, MIL</td>\n",
       "      <td>31.94</td>\n",
       "      <td>63</td>\n",
       "      <td>30.4</td>\n",
       "      <td>0.613</td>\n",
       "      <td>16.9</td>\n",
       "      <td>11.0</td>\n",
       "      <td>37.2</td>\n",
       "      <td>7.7</td>\n",
       "      <td>34.8</td>\n",
       "      <td>22.1</td>\n",
       "      <td>584.9</td>\n",
       "      <td>19.5</td>\n",
       "      <td>Giannis Antetokounmpo</td>\n",
       "      <td>MIL</td>\n",
       "    </tr>\n",
       "  </tbody>\n",
       "</table>\n",
       "</div>"
      ],
      "text/plain": [
       "                       PLAYER    PER  GP   MPG    TS%   AST    TO   USG  ORR  \\\n",
       "0  Giannis Antetokounmpo, MIL  31.94  63  30.4  0.613  16.9  11.0  37.2  7.7   \n",
       "\n",
       "    DRR  REBR     VA   EWA                 Player  Team  \n",
       "0  34.8  22.1  584.9  19.5  Giannis Antetokounmpo   MIL  "
      ]
     },
     "execution_count": 35,
     "metadata": {},
     "output_type": "execute_result"
    }
   ],
   "source": [
    "NBATop50.head(1)"
   ]
  },
  {
   "cell_type": "code",
   "execution_count": 7,
   "metadata": {
    "scrolled": true
   },
   "outputs": [],
   "source": [
    "NBATop50_List = NBATop50['Player'].tolist()"
   ]
  },
  {
   "cell_type": "code",
   "execution_count": 16,
   "metadata": {
    "scrolled": true
   },
   "outputs": [],
   "source": [
    "NBATop50_AllStats = NBA_AllStats[NBA_AllStats.Player.isin(NBATop50_List)]"
   ]
  },
  {
   "cell_type": "code",
   "execution_count": 17,
   "metadata": {},
   "outputs": [],
   "source": [
    "#NBATop50_AllStats.to_csv(\"data_files/FinalDataFiles/NBATop50_AllStats.csv\")"
   ]
  },
  {
   "cell_type": "markdown",
   "metadata": {},
   "source": [
    "## Post Season NBA Top 50 Player Game Stats"
   ]
  },
  {
   "cell_type": "code",
   "execution_count": 31,
   "metadata": {},
   "outputs": [],
   "source": [
    "NBA_AllStats_PostSzn = pd.read_csv('data_files/player_stats_2019_pst.csv')\n",
    "#NBA_AllStats_PostSzn.head()"
   ]
  },
  {
   "cell_type": "code",
   "execution_count": 32,
   "metadata": {},
   "outputs": [
    {
     "data": {
      "text/html": [
       "<div>\n",
       "<style scoped>\n",
       "    .dataframe tbody tr th:only-of-type {\n",
       "        vertical-align: middle;\n",
       "    }\n",
       "\n",
       "    .dataframe tbody tr th {\n",
       "        vertical-align: top;\n",
       "    }\n",
       "\n",
       "    .dataframe thead th {\n",
       "        text-align: right;\n",
       "    }\n",
       "</style>\n",
       "<table border=\"1\" class=\"dataframe\">\n",
       "  <thead>\n",
       "    <tr style=\"text-align: right;\">\n",
       "      <th></th>\n",
       "      <th>Unnamed: 0</th>\n",
       "      <th>First_Name</th>\n",
       "      <th>Last_Name</th>\n",
       "      <th>player_id</th>\n",
       "      <th>Position</th>\n",
       "      <th>Points</th>\n",
       "      <th>Free_Throw_Percent</th>\n",
       "      <th>Two_Pt_Percent</th>\n",
       "      <th>Three_Pt_Percent</th>\n",
       "      <th>Assists</th>\n",
       "      <th>...</th>\n",
       "      <th>Team</th>\n",
       "      <th>Home_Away</th>\n",
       "      <th>win</th>\n",
       "      <th>Team_points</th>\n",
       "      <th>Min_played</th>\n",
       "      <th>Crowd</th>\n",
       "      <th>Stadium_Cap</th>\n",
       "      <th>game_id</th>\n",
       "      <th>game_date</th>\n",
       "      <th>Player</th>\n",
       "    </tr>\n",
       "  </thead>\n",
       "  <tbody>\n",
       "    <tr>\n",
       "      <th>0</th>\n",
       "      <td>0</td>\n",
       "      <td>Torrey</td>\n",
       "      <td>Craig</td>\n",
       "      <td>c14eba17-879a-461e-9413-bf71a378de6e</td>\n",
       "      <td>G</td>\n",
       "      <td>11</td>\n",
       "      <td>0.0</td>\n",
       "      <td>50.0</td>\n",
       "      <td>60.0</td>\n",
       "      <td>0</td>\n",
       "      <td>...</td>\n",
       "      <td>Nuggets</td>\n",
       "      <td>1</td>\n",
       "      <td>1</td>\n",
       "      <td>135</td>\n",
       "      <td>21:25</td>\n",
       "      <td>Covid</td>\n",
       "      <td>1200</td>\n",
       "      <td>6541eb3b-eb31-4f6f-a662-94e9d2640c99</td>\n",
       "      <td>2020-08-17T17:30:00+00:00</td>\n",
       "      <td>Torrey Craig</td>\n",
       "    </tr>\n",
       "  </tbody>\n",
       "</table>\n",
       "<p>1 rows × 27 columns</p>\n",
       "</div>"
      ],
      "text/plain": [
       "   Unnamed: 0 First_Name Last_Name                             player_id  \\\n",
       "0           0     Torrey     Craig  c14eba17-879a-461e-9413-bf71a378de6e   \n",
       "\n",
       "  Position  Points  Free_Throw_Percent  Two_Pt_Percent  Three_Pt_Percent  \\\n",
       "0        G      11                 0.0            50.0              60.0   \n",
       "\n",
       "   Assists  ...     Team  Home_Away  win  Team_points  Min_played  Crowd  \\\n",
       "0        0  ...  Nuggets          1    1          135       21:25  Covid   \n",
       "\n",
       "   Stadium_Cap                               game_id  \\\n",
       "0         1200  6541eb3b-eb31-4f6f-a662-94e9d2640c99   \n",
       "\n",
       "                   game_date        Player  \n",
       "0  2020-08-17T17:30:00+00:00  Torrey Craig  \n",
       "\n",
       "[1 rows x 27 columns]"
      ]
     },
     "execution_count": 32,
     "metadata": {},
     "output_type": "execute_result"
    }
   ],
   "source": [
    "NBA_AllStats_PostSzn['Player'] = NBA_AllStats_PostSzn['First_Name'].str.cat(NBA_AllStats_PostSzn['Last_Name'],sep=\" \")\n",
    "NBA_AllStats_PostSzn.head(1)"
   ]
  },
  {
   "cell_type": "code",
   "execution_count": 33,
   "metadata": {},
   "outputs": [
    {
     "data": {
      "text/html": [
       "<div>\n",
       "<style scoped>\n",
       "    .dataframe tbody tr th:only-of-type {\n",
       "        vertical-align: middle;\n",
       "    }\n",
       "\n",
       "    .dataframe tbody tr th {\n",
       "        vertical-align: top;\n",
       "    }\n",
       "\n",
       "    .dataframe thead th {\n",
       "        text-align: right;\n",
       "    }\n",
       "</style>\n",
       "<table border=\"1\" class=\"dataframe\">\n",
       "  <thead>\n",
       "    <tr style=\"text-align: right;\">\n",
       "      <th></th>\n",
       "      <th>Unnamed: 0</th>\n",
       "      <th>First_Name</th>\n",
       "      <th>Last_Name</th>\n",
       "      <th>player_id</th>\n",
       "      <th>Position</th>\n",
       "      <th>Points</th>\n",
       "      <th>Free_Throw_Percent</th>\n",
       "      <th>Two_Pt_Percent</th>\n",
       "      <th>Three_Pt_Percent</th>\n",
       "      <th>Assists</th>\n",
       "      <th>...</th>\n",
       "      <th>Team</th>\n",
       "      <th>Home_Away</th>\n",
       "      <th>win</th>\n",
       "      <th>Team_points</th>\n",
       "      <th>Min_played</th>\n",
       "      <th>Crowd</th>\n",
       "      <th>Stadium_Cap</th>\n",
       "      <th>game_id</th>\n",
       "      <th>game_date</th>\n",
       "      <th>Player</th>\n",
       "    </tr>\n",
       "  </thead>\n",
       "  <tbody>\n",
       "    <tr>\n",
       "      <th>12</th>\n",
       "      <td>12</td>\n",
       "      <td>Nikola</td>\n",
       "      <td>Jokic</td>\n",
       "      <td>f2625432-3903-4f90-9b0b-2e4f63856bb0</td>\n",
       "      <td>C</td>\n",
       "      <td>29</td>\n",
       "      <td>100.0</td>\n",
       "      <td>50.0</td>\n",
       "      <td>57.1</td>\n",
       "      <td>3</td>\n",
       "      <td>...</td>\n",
       "      <td>Nuggets</td>\n",
       "      <td>1</td>\n",
       "      <td>1</td>\n",
       "      <td>135</td>\n",
       "      <td>42:10</td>\n",
       "      <td>Covid</td>\n",
       "      <td>1200</td>\n",
       "      <td>6541eb3b-eb31-4f6f-a662-94e9d2640c99</td>\n",
       "      <td>2020-08-17T17:30:00+00:00</td>\n",
       "      <td>Nikola Jokic</td>\n",
       "    </tr>\n",
       "  </tbody>\n",
       "</table>\n",
       "<p>1 rows × 27 columns</p>\n",
       "</div>"
      ],
      "text/plain": [
       "    Unnamed: 0 First_Name Last_Name                             player_id  \\\n",
       "12          12     Nikola     Jokic  f2625432-3903-4f90-9b0b-2e4f63856bb0   \n",
       "\n",
       "   Position  Points  Free_Throw_Percent  Two_Pt_Percent  Three_Pt_Percent  \\\n",
       "12        C      29               100.0            50.0              57.1   \n",
       "\n",
       "    Assists  ...     Team  Home_Away  win  Team_points  Min_played  Crowd  \\\n",
       "12        3  ...  Nuggets          1    1          135       42:10  Covid   \n",
       "\n",
       "    Stadium_Cap                               game_id  \\\n",
       "12         1200  6541eb3b-eb31-4f6f-a662-94e9d2640c99   \n",
       "\n",
       "                    game_date        Player  \n",
       "12  2020-08-17T17:30:00+00:00  Nikola Jokic  \n",
       "\n",
       "[1 rows x 27 columns]"
      ]
     },
     "execution_count": 33,
     "metadata": {},
     "output_type": "execute_result"
    }
   ],
   "source": [
    "NBATop50_AllStats_PostSeason = NBA_AllStats_PostSzn[NBA_AllStats_PostSzn.Player.isin(NBATop50_List)]\n",
    "\n",
    "NBATop50_AllStats_PostSeason.head(1)"
   ]
  },
  {
   "cell_type": "code",
   "execution_count": 34,
   "metadata": {},
   "outputs": [],
   "source": [
    "NBATop50_AllStats_PostSeason.to_csv(\"data_files/FinalDataFiles/NBATop50_AllStats_PostSeasn.csv\")"
   ]
  },
  {
   "cell_type": "markdown",
   "metadata": {},
   "source": [
    "# Player Stats for WNBA Top 50 ONLY"
   ]
  },
  {
   "cell_type": "code",
   "execution_count": 56,
   "metadata": {},
   "outputs": [
    {
     "data": {
      "text/html": [
       "<div>\n",
       "<style scoped>\n",
       "    .dataframe tbody tr th:only-of-type {\n",
       "        vertical-align: middle;\n",
       "    }\n",
       "\n",
       "    .dataframe tbody tr th {\n",
       "        vertical-align: top;\n",
       "    }\n",
       "\n",
       "    .dataframe thead th {\n",
       "        text-align: right;\n",
       "    }\n",
       "</style>\n",
       "<table border=\"1\" class=\"dataframe\">\n",
       "  <thead>\n",
       "    <tr style=\"text-align: right;\">\n",
       "      <th></th>\n",
       "      <th>Unnamed: 0</th>\n",
       "      <th>First_Name</th>\n",
       "      <th>Last_Name</th>\n",
       "      <th>player_id</th>\n",
       "      <th>Position</th>\n",
       "      <th>Points</th>\n",
       "      <th>Free_Throw_Percent</th>\n",
       "      <th>Two_Pt_Percent</th>\n",
       "      <th>Three_Pt_Percent</th>\n",
       "      <th>Assists</th>\n",
       "      <th>...</th>\n",
       "      <th>Turnovers</th>\n",
       "      <th>Team</th>\n",
       "      <th>Home_Away</th>\n",
       "      <th>win</th>\n",
       "      <th>Team_points</th>\n",
       "      <th>Min_played</th>\n",
       "      <th>Crowd</th>\n",
       "      <th>Stadium_Cap</th>\n",
       "      <th>game_id</th>\n",
       "      <th>game_date</th>\n",
       "    </tr>\n",
       "  </thead>\n",
       "  <tbody>\n",
       "    <tr>\n",
       "      <th>0</th>\n",
       "      <td>0</td>\n",
       "      <td>Camille</td>\n",
       "      <td>Little</td>\n",
       "      <td>9951fcfb-8d31-44e5-ba85-c41ed724763d</td>\n",
       "      <td>F</td>\n",
       "      <td>9</td>\n",
       "      <td>0.0</td>\n",
       "      <td>0.375</td>\n",
       "      <td>20.0</td>\n",
       "      <td>1</td>\n",
       "      <td>...</td>\n",
       "      <td>2</td>\n",
       "      <td>Sun</td>\n",
       "      <td>1</td>\n",
       "      <td>0</td>\n",
       "      <td>68</td>\n",
       "      <td>29:00:00</td>\n",
       "      <td>5846</td>\n",
       "      <td>9518</td>\n",
       "      <td>e83ca6b1-1257-47d2-9153-ed2c72ad85ab</td>\n",
       "      <td>2015-06-05T23:00:00+00:00</td>\n",
       "    </tr>\n",
       "  </tbody>\n",
       "</table>\n",
       "<p>1 rows × 26 columns</p>\n",
       "</div>"
      ],
      "text/plain": [
       "   Unnamed: 0 First_Name Last_Name                             player_id  \\\n",
       "0           0    Camille    Little  9951fcfb-8d31-44e5-ba85-c41ed724763d   \n",
       "\n",
       "  Position  Points  Free_Throw_Percent  Two_Pt_Percent  Three_Pt_Percent  \\\n",
       "0        F       9                 0.0           0.375              20.0   \n",
       "\n",
       "   Assists  ...  Turnovers  Team  Home_Away  win  Team_points  Min_played  \\\n",
       "0        1  ...          2   Sun          1    0           68    29:00:00   \n",
       "\n",
       "   Crowd Stadium_Cap                               game_id  \\\n",
       "0   5846        9518  e83ca6b1-1257-47d2-9153-ed2c72ad85ab   \n",
       "\n",
       "                   game_date  \n",
       "0  2015-06-05T23:00:00+00:00  \n",
       "\n",
       "[1 rows x 26 columns]"
      ]
     },
     "execution_count": 56,
     "metadata": {},
     "output_type": "execute_result"
    }
   ],
   "source": [
    "WNBA_AllStats = pd.read_csv('data_files/FinalDataFiles/WBNAfullplayerstatslist.csv')\n",
    "WNBA_AllStats.head(1)"
   ]
  },
  {
   "cell_type": "code",
   "execution_count": 59,
   "metadata": {},
   "outputs": [
    {
     "data": {
      "text/html": [
       "<div>\n",
       "<style scoped>\n",
       "    .dataframe tbody tr th:only-of-type {\n",
       "        vertical-align: middle;\n",
       "    }\n",
       "\n",
       "    .dataframe tbody tr th {\n",
       "        vertical-align: top;\n",
       "    }\n",
       "\n",
       "    .dataframe thead th {\n",
       "        text-align: right;\n",
       "    }\n",
       "</style>\n",
       "<table border=\"1\" class=\"dataframe\">\n",
       "  <thead>\n",
       "    <tr style=\"text-align: right;\">\n",
       "      <th></th>\n",
       "      <th>Unnamed: 0</th>\n",
       "      <th>First_Name</th>\n",
       "      <th>Last_Name</th>\n",
       "      <th>player_id</th>\n",
       "      <th>Position</th>\n",
       "      <th>Points</th>\n",
       "      <th>Free_Throw_Percent</th>\n",
       "      <th>Two_Pt_Percent</th>\n",
       "      <th>Three_Pt_Percent</th>\n",
       "      <th>Assists</th>\n",
       "      <th>...</th>\n",
       "      <th>Team</th>\n",
       "      <th>Home_Away</th>\n",
       "      <th>win</th>\n",
       "      <th>Team_points</th>\n",
       "      <th>Min_played</th>\n",
       "      <th>Crowd</th>\n",
       "      <th>Stadium_Cap</th>\n",
       "      <th>game_id</th>\n",
       "      <th>game_date</th>\n",
       "      <th>Player</th>\n",
       "    </tr>\n",
       "  </thead>\n",
       "  <tbody>\n",
       "    <tr>\n",
       "      <th>0</th>\n",
       "      <td>0</td>\n",
       "      <td>Camille</td>\n",
       "      <td>Little</td>\n",
       "      <td>9951fcfb-8d31-44e5-ba85-c41ed724763d</td>\n",
       "      <td>F</td>\n",
       "      <td>9</td>\n",
       "      <td>0.0</td>\n",
       "      <td>0.375</td>\n",
       "      <td>20.0</td>\n",
       "      <td>1</td>\n",
       "      <td>...</td>\n",
       "      <td>Sun</td>\n",
       "      <td>1</td>\n",
       "      <td>0</td>\n",
       "      <td>68</td>\n",
       "      <td>29:00:00</td>\n",
       "      <td>5846</td>\n",
       "      <td>9518</td>\n",
       "      <td>e83ca6b1-1257-47d2-9153-ed2c72ad85ab</td>\n",
       "      <td>2015-06-05T23:00:00+00:00</td>\n",
       "      <td>Camille Little</td>\n",
       "    </tr>\n",
       "  </tbody>\n",
       "</table>\n",
       "<p>1 rows × 27 columns</p>\n",
       "</div>"
      ],
      "text/plain": [
       "   Unnamed: 0 First_Name Last_Name                             player_id  \\\n",
       "0           0    Camille    Little  9951fcfb-8d31-44e5-ba85-c41ed724763d   \n",
       "\n",
       "  Position  Points  Free_Throw_Percent  Two_Pt_Percent  Three_Pt_Percent  \\\n",
       "0        F       9                 0.0           0.375              20.0   \n",
       "\n",
       "   Assists  ...  Team  Home_Away  win  Team_points  Min_played  Crowd  \\\n",
       "0        1  ...   Sun          1    0           68    29:00:00   5846   \n",
       "\n",
       "   Stadium_Cap                               game_id  \\\n",
       "0         9518  e83ca6b1-1257-47d2-9153-ed2c72ad85ab   \n",
       "\n",
       "                   game_date          Player  \n",
       "0  2015-06-05T23:00:00+00:00  Camille Little  \n",
       "\n",
       "[1 rows x 27 columns]"
      ]
     },
     "execution_count": 59,
     "metadata": {},
     "output_type": "execute_result"
    }
   ],
   "source": [
    "WNBA_AllStats['Player'] = WNBA_AllStats['First_Name'].str.cat(WNBA_AllStats['Last_Name'],sep=\" \")\n",
    "WNBA_AllStats.head(1)"
   ]
  },
  {
   "cell_type": "code",
   "execution_count": 60,
   "metadata": {},
   "outputs": [
    {
     "data": {
      "text/html": [
       "<div>\n",
       "<style scoped>\n",
       "    .dataframe tbody tr th:only-of-type {\n",
       "        vertical-align: middle;\n",
       "    }\n",
       "\n",
       "    .dataframe tbody tr th {\n",
       "        vertical-align: top;\n",
       "    }\n",
       "\n",
       "    .dataframe thead th {\n",
       "        text-align: right;\n",
       "    }\n",
       "</style>\n",
       "<table border=\"1\" class=\"dataframe\">\n",
       "  <thead>\n",
       "    <tr style=\"text-align: right;\">\n",
       "      <th></th>\n",
       "      <th>Player</th>\n",
       "      <th>EFF</th>\n",
       "      <th>GP</th>\n",
       "      <th>MIN</th>\n",
       "      <th>PTS</th>\n",
       "      <th>FGM</th>\n",
       "      <th>FGA</th>\n",
       "      <th>FG%</th>\n",
       "      <th>3PM</th>\n",
       "      <th>3PA</th>\n",
       "      <th>...</th>\n",
       "      <th>FTM</th>\n",
       "      <th>FTA</th>\n",
       "      <th>FT%</th>\n",
       "      <th>OREB</th>\n",
       "      <th>DREB</th>\n",
       "      <th>REB</th>\n",
       "      <th>AST</th>\n",
       "      <th>STL</th>\n",
       "      <th>BLK</th>\n",
       "      <th>TOV</th>\n",
       "    </tr>\n",
       "  </thead>\n",
       "  <tbody>\n",
       "    <tr>\n",
       "      <th>0</th>\n",
       "      <td>Breanna Stewart</td>\n",
       "      <td>23.4</td>\n",
       "      <td>20</td>\n",
       "      <td>30.4</td>\n",
       "      <td>19.7</td>\n",
       "      <td>6.7</td>\n",
       "      <td>14.8</td>\n",
       "      <td>45.1</td>\n",
       "      <td>1.8</td>\n",
       "      <td>4.8</td>\n",
       "      <td>...</td>\n",
       "      <td>4.7</td>\n",
       "      <td>5.2</td>\n",
       "      <td>89.4</td>\n",
       "      <td>1.0</td>\n",
       "      <td>7.3</td>\n",
       "      <td>8.3</td>\n",
       "      <td>3.6</td>\n",
       "      <td>1.7</td>\n",
       "      <td>1.3</td>\n",
       "      <td>2.5</td>\n",
       "    </tr>\n",
       "  </tbody>\n",
       "</table>\n",
       "<p>1 rows × 21 columns</p>\n",
       "</div>"
      ],
      "text/plain": [
       "            Player   EFF  GP   MIN   PTS  FGM   FGA   FG%  3PM  3PA  ...  FTM  \\\n",
       "0  Breanna Stewart  23.4  20  30.4  19.7  6.7  14.8  45.1  1.8  4.8  ...  4.7   \n",
       "\n",
       "   FTA   FT%  OREB  DREB  REB  AST  STL  BLK  TOV  \n",
       "0  5.2  89.4   1.0   7.3  8.3  3.6  1.7  1.3  2.5  \n",
       "\n",
       "[1 rows x 21 columns]"
      ]
     },
     "execution_count": 60,
     "metadata": {},
     "output_type": "execute_result"
    }
   ],
   "source": [
    "WNBATop50.head(1)"
   ]
  },
  {
   "cell_type": "code",
   "execution_count": 61,
   "metadata": {},
   "outputs": [],
   "source": [
    "WNBATop50_List = WNBATop50['Player'].tolist()"
   ]
  },
  {
   "cell_type": "code",
   "execution_count": 65,
   "metadata": {},
   "outputs": [
    {
     "data": {
      "text/html": [
       "<div>\n",
       "<style scoped>\n",
       "    .dataframe tbody tr th:only-of-type {\n",
       "        vertical-align: middle;\n",
       "    }\n",
       "\n",
       "    .dataframe tbody tr th {\n",
       "        vertical-align: top;\n",
       "    }\n",
       "\n",
       "    .dataframe thead th {\n",
       "        text-align: right;\n",
       "    }\n",
       "</style>\n",
       "<table border=\"1\" class=\"dataframe\">\n",
       "  <thead>\n",
       "    <tr style=\"text-align: right;\">\n",
       "      <th></th>\n",
       "      <th>Unnamed: 0</th>\n",
       "      <th>First_Name</th>\n",
       "      <th>Last_Name</th>\n",
       "      <th>player_id</th>\n",
       "      <th>Position</th>\n",
       "      <th>Points</th>\n",
       "      <th>Free_Throw_Percent</th>\n",
       "      <th>Two_Pt_Percent</th>\n",
       "      <th>Three_Pt_Percent</th>\n",
       "      <th>Assists</th>\n",
       "      <th>...</th>\n",
       "      <th>Team</th>\n",
       "      <th>Home_Away</th>\n",
       "      <th>win</th>\n",
       "      <th>Team_points</th>\n",
       "      <th>Min_played</th>\n",
       "      <th>Crowd</th>\n",
       "      <th>Stadium_Cap</th>\n",
       "      <th>game_id</th>\n",
       "      <th>game_date</th>\n",
       "      <th>Player</th>\n",
       "    </tr>\n",
       "  </thead>\n",
       "  <tbody>\n",
       "    <tr>\n",
       "      <th>1</th>\n",
       "      <td>1</td>\n",
       "      <td>Jasmine</td>\n",
       "      <td>Thomas</td>\n",
       "      <td>0ac8d024-ec11-4809-83f4-6277c1252617</td>\n",
       "      <td>G</td>\n",
       "      <td>6</td>\n",
       "      <td>100.0</td>\n",
       "      <td>0.25</td>\n",
       "      <td>0.0</td>\n",
       "      <td>4</td>\n",
       "      <td>...</td>\n",
       "      <td>Sun</td>\n",
       "      <td>1</td>\n",
       "      <td>0</td>\n",
       "      <td>68</td>\n",
       "      <td>30:00:00</td>\n",
       "      <td>5846</td>\n",
       "      <td>9518</td>\n",
       "      <td>e83ca6b1-1257-47d2-9153-ed2c72ad85ab</td>\n",
       "      <td>2015-06-05T23:00:00+00:00</td>\n",
       "      <td>Jasmine Thomas</td>\n",
       "    </tr>\n",
       "    <tr>\n",
       "      <th>4</th>\n",
       "      <td>4</td>\n",
       "      <td>Elizabeth</td>\n",
       "      <td>Williams</td>\n",
       "      <td>c8672dba-0deb-4cf1-8304-82365865edaa</td>\n",
       "      <td>C-F</td>\n",
       "      <td>5</td>\n",
       "      <td>75.0</td>\n",
       "      <td>0.20</td>\n",
       "      <td>0.0</td>\n",
       "      <td>1</td>\n",
       "      <td>...</td>\n",
       "      <td>Sun</td>\n",
       "      <td>1</td>\n",
       "      <td>0</td>\n",
       "      <td>68</td>\n",
       "      <td>10:00</td>\n",
       "      <td>5846</td>\n",
       "      <td>9518</td>\n",
       "      <td>e83ca6b1-1257-47d2-9153-ed2c72ad85ab</td>\n",
       "      <td>2015-06-05T23:00:00+00:00</td>\n",
       "      <td>Elizabeth Williams</td>\n",
       "    </tr>\n",
       "    <tr>\n",
       "      <th>11</th>\n",
       "      <td>11</td>\n",
       "      <td>Chelsea</td>\n",
       "      <td>Gray</td>\n",
       "      <td>ca6b54e3-612d-4523-9582-b88e675f58de</td>\n",
       "      <td>G</td>\n",
       "      <td>4</td>\n",
       "      <td>0.0</td>\n",
       "      <td>0.50</td>\n",
       "      <td>0.0</td>\n",
       "      <td>1</td>\n",
       "      <td>...</td>\n",
       "      <td>Sun</td>\n",
       "      <td>1</td>\n",
       "      <td>0</td>\n",
       "      <td>68</td>\n",
       "      <td>9:00</td>\n",
       "      <td>5846</td>\n",
       "      <td>9518</td>\n",
       "      <td>e83ca6b1-1257-47d2-9153-ed2c72ad85ab</td>\n",
       "      <td>2015-06-05T23:00:00+00:00</td>\n",
       "      <td>Chelsea Gray</td>\n",
       "    </tr>\n",
       "    <tr>\n",
       "      <th>12</th>\n",
       "      <td>12</td>\n",
       "      <td>Alyssa</td>\n",
       "      <td>Thomas</td>\n",
       "      <td>87a32879-a19b-4603-86ce-1c8b0e4484ad</td>\n",
       "      <td>F</td>\n",
       "      <td>13</td>\n",
       "      <td>83.3</td>\n",
       "      <td>0.50</td>\n",
       "      <td>0.0</td>\n",
       "      <td>3</td>\n",
       "      <td>...</td>\n",
       "      <td>Sun</td>\n",
       "      <td>1</td>\n",
       "      <td>0</td>\n",
       "      <td>68</td>\n",
       "      <td>32:00:00</td>\n",
       "      <td>5846</td>\n",
       "      <td>9518</td>\n",
       "      <td>e83ca6b1-1257-47d2-9153-ed2c72ad85ab</td>\n",
       "      <td>2015-06-05T23:00:00+00:00</td>\n",
       "      <td>Alyssa Thomas</td>\n",
       "    </tr>\n",
       "    <tr>\n",
       "      <th>24</th>\n",
       "      <td>24</td>\n",
       "      <td>Emma</td>\n",
       "      <td>Meesseman</td>\n",
       "      <td>7ae3b3fc-2bf3-4600-abd6-c5511f140246</td>\n",
       "      <td>C</td>\n",
       "      <td>8</td>\n",
       "      <td>0.0</td>\n",
       "      <td>0.40</td>\n",
       "      <td>0.0</td>\n",
       "      <td>2</td>\n",
       "      <td>...</td>\n",
       "      <td>Mystics</td>\n",
       "      <td>0</td>\n",
       "      <td>1</td>\n",
       "      <td>73</td>\n",
       "      <td>31:00:00</td>\n",
       "      <td>5846</td>\n",
       "      <td>9518</td>\n",
       "      <td>e83ca6b1-1257-47d2-9153-ed2c72ad85ab</td>\n",
       "      <td>2015-06-05T23:00:00+00:00</td>\n",
       "      <td>Emma Meesseman</td>\n",
       "    </tr>\n",
       "  </tbody>\n",
       "</table>\n",
       "<p>5 rows × 27 columns</p>\n",
       "</div>"
      ],
      "text/plain": [
       "    Unnamed: 0 First_Name  Last_Name                             player_id  \\\n",
       "1            1    Jasmine     Thomas  0ac8d024-ec11-4809-83f4-6277c1252617   \n",
       "4            4  Elizabeth   Williams  c8672dba-0deb-4cf1-8304-82365865edaa   \n",
       "11          11    Chelsea       Gray  ca6b54e3-612d-4523-9582-b88e675f58de   \n",
       "12          12     Alyssa     Thomas  87a32879-a19b-4603-86ce-1c8b0e4484ad   \n",
       "24          24       Emma  Meesseman  7ae3b3fc-2bf3-4600-abd6-c5511f140246   \n",
       "\n",
       "   Position  Points  Free_Throw_Percent  Two_Pt_Percent  Three_Pt_Percent  \\\n",
       "1         G       6               100.0            0.25               0.0   \n",
       "4       C-F       5                75.0            0.20               0.0   \n",
       "11        G       4                 0.0            0.50               0.0   \n",
       "12        F      13                83.3            0.50               0.0   \n",
       "24        C       8                 0.0            0.40               0.0   \n",
       "\n",
       "    Assists  ...     Team  Home_Away  win  Team_points  Min_played  Crowd  \\\n",
       "1         4  ...      Sun          1    0           68    30:00:00   5846   \n",
       "4         1  ...      Sun          1    0           68       10:00   5846   \n",
       "11        1  ...      Sun          1    0           68        9:00   5846   \n",
       "12        3  ...      Sun          1    0           68    32:00:00   5846   \n",
       "24        2  ...  Mystics          0    1           73    31:00:00   5846   \n",
       "\n",
       "    Stadium_Cap                               game_id  \\\n",
       "1          9518  e83ca6b1-1257-47d2-9153-ed2c72ad85ab   \n",
       "4          9518  e83ca6b1-1257-47d2-9153-ed2c72ad85ab   \n",
       "11         9518  e83ca6b1-1257-47d2-9153-ed2c72ad85ab   \n",
       "12         9518  e83ca6b1-1257-47d2-9153-ed2c72ad85ab   \n",
       "24         9518  e83ca6b1-1257-47d2-9153-ed2c72ad85ab   \n",
       "\n",
       "                    game_date              Player  \n",
       "1   2015-06-05T23:00:00+00:00      Jasmine Thomas  \n",
       "4   2015-06-05T23:00:00+00:00  Elizabeth Williams  \n",
       "11  2015-06-05T23:00:00+00:00        Chelsea Gray  \n",
       "12  2015-06-05T23:00:00+00:00       Alyssa Thomas  \n",
       "24  2015-06-05T23:00:00+00:00      Emma Meesseman  \n",
       "\n",
       "[5 rows x 27 columns]"
      ]
     },
     "execution_count": 65,
     "metadata": {},
     "output_type": "execute_result"
    }
   ],
   "source": [
    "WNBATop50_AllStats = WNBA_AllStats[WNBA_AllStats.Player.isin(WNBATop50_List)]\n",
    "\n",
    "WNBATop50_AllStats.head()"
   ]
  },
  {
   "cell_type": "code",
   "execution_count": 66,
   "metadata": {},
   "outputs": [],
   "source": [
    "#WNBATop50_AllStats.to_csv(\"data_files/FinalDataFiles/WNBATop50_AllStats_AllSeasons.csv\")"
   ]
  },
  {
   "cell_type": "code",
   "execution_count": null,
   "metadata": {},
   "outputs": [],
   "source": []
  }
 ],
 "metadata": {
  "kernelspec": {
   "display_name": "Python 3",
   "language": "python",
   "name": "python3"
  },
  "language_info": {
   "codemirror_mode": {
    "name": "ipython",
    "version": 3
   },
   "file_extension": ".py",
   "mimetype": "text/x-python",
   "name": "python",
   "nbconvert_exporter": "python",
   "pygments_lexer": "ipython3",
   "version": "3.7.6"
  }
 },
 "nbformat": 4,
 "nbformat_minor": 4
}
