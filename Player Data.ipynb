{
 "cells": [
  {
   "cell_type": "code",
   "execution_count": 5,
   "metadata": {},
   "outputs": [],
   "source": [
    "import pandas as pd\n",
    "from datetime import datetime as dt\n",
    "import requests as request\n",
    "from pprint import pprint\n",
    "import time\n",
    "from pprint import pprint"
   ]
  },
  {
   "cell_type": "markdown",
   "metadata": {},
   "source": [
    "# NBA"
   ]
  },
  {
   "cell_type": "code",
   "execution_count": 6,
   "metadata": {},
   "outputs": [],
   "source": [
    "#NBA API Key\n",
    "from config import nba_key"
   ]
  },
  {
   "cell_type": "code",
   "execution_count": 7,
   "metadata": {},
   "outputs": [],
   "source": [
    "#Player stats combination\n",
    "player1 = 'data_files/player_stats1.csv'\n",
    "player2 = 'data_files/player_stats2.csv'\n",
    "player3 = 'data_files/player_stats3.csv'\n",
    "player4 = 'data_files/player_stats4.csv'\n",
    "player5 = 'data_files/player_stats5.csv'\n",
    "player6 = 'data_files/player_stats6.csv'\n",
    "player7 = 'data_files/player_stats7.csv'"
   ]
  },
  {
   "cell_type": "code",
   "execution_count": 8,
   "metadata": {},
   "outputs": [],
   "source": [
    "player1DF= pd.read_csv(player1)\n",
    "player2DF= pd.read_csv(player2)\n",
    "player3DF= pd.read_csv(player3)\n",
    "player4DF= pd.read_csv(player4)\n",
    "player5DF= pd.read_csv(player5)\n",
    "player6DF= pd.read_csv(player6)\n",
    "player7DF= pd.read_csv(player7)"
   ]
  },
  {
   "cell_type": "code",
   "execution_count": 9,
   "metadata": {},
   "outputs": [
    {
     "data": {
      "text/html": [
       "<div>\n",
       "<style scoped>\n",
       "    .dataframe tbody tr th:only-of-type {\n",
       "        vertical-align: middle;\n",
       "    }\n",
       "\n",
       "    .dataframe tbody tr th {\n",
       "        vertical-align: top;\n",
       "    }\n",
       "\n",
       "    .dataframe thead th {\n",
       "        text-align: right;\n",
       "    }\n",
       "</style>\n",
       "<table border=\"1\" class=\"dataframe\">\n",
       "  <thead>\n",
       "    <tr style=\"text-align: right;\">\n",
       "      <th></th>\n",
       "      <th>Unnamed: 0</th>\n",
       "      <th>First_Name</th>\n",
       "      <th>Last_Name</th>\n",
       "      <th>player_id</th>\n",
       "      <th>Position</th>\n",
       "      <th>Points</th>\n",
       "      <th>Free_Throw_Percent</th>\n",
       "      <th>Two_Pt_Percent</th>\n",
       "      <th>Three_Pt_Percent</th>\n",
       "      <th>Assists</th>\n",
       "      <th>...</th>\n",
       "      <th>Turnovers</th>\n",
       "      <th>Team</th>\n",
       "      <th>Home_Away</th>\n",
       "      <th>win</th>\n",
       "      <th>Team_points</th>\n",
       "      <th>Min_played</th>\n",
       "      <th>Crowd</th>\n",
       "      <th>Stadium_Cap</th>\n",
       "      <th>game_id</th>\n",
       "      <th>game_date</th>\n",
       "    </tr>\n",
       "  </thead>\n",
       "  <tbody>\n",
       "    <tr>\n",
       "      <th>0</th>\n",
       "      <td>0</td>\n",
       "      <td>LeBron</td>\n",
       "      <td>James</td>\n",
       "      <td>0afbe608-940a-4d5d-a1f7-468718c67d91</td>\n",
       "      <td>F</td>\n",
       "      <td>19</td>\n",
       "      <td>50.0</td>\n",
       "      <td>81.818</td>\n",
       "      <td>0.0</td>\n",
       "      <td>14</td>\n",
       "      <td>...</td>\n",
       "      <td>4</td>\n",
       "      <td>Cavaliers</td>\n",
       "      <td>1</td>\n",
       "      <td>1</td>\n",
       "      <td>117</td>\n",
       "      <td>32:23</td>\n",
       "      <td>20562</td>\n",
       "      <td>20562</td>\n",
       "      <td>0da78f13-73ac-4465-8e31-ecc3029a5dc6</td>\n",
       "      <td>2016-10-25T23:30:00+00:00</td>\n",
       "    </tr>\n",
       "    <tr>\n",
       "      <th>1</th>\n",
       "      <td>1</td>\n",
       "      <td>James</td>\n",
       "      <td>Jones</td>\n",
       "      <td>09d25155-c3be-4246-a986-55921a1b5e61</td>\n",
       "      <td>G-F</td>\n",
       "      <td>5</td>\n",
       "      <td>100.0</td>\n",
       "      <td>0.000</td>\n",
       "      <td>100.0</td>\n",
       "      <td>0</td>\n",
       "      <td>...</td>\n",
       "      <td>0</td>\n",
       "      <td>Cavaliers</td>\n",
       "      <td>1</td>\n",
       "      <td>1</td>\n",
       "      <td>117</td>\n",
       "      <td>5:30</td>\n",
       "      <td>20562</td>\n",
       "      <td>20562</td>\n",
       "      <td>0da78f13-73ac-4465-8e31-ecc3029a5dc6</td>\n",
       "      <td>2016-10-25T23:30:00+00:00</td>\n",
       "    </tr>\n",
       "    <tr>\n",
       "      <th>2</th>\n",
       "      <td>2</td>\n",
       "      <td>J.R.</td>\n",
       "      <td>Smith</td>\n",
       "      <td>5934134d-0d27-42ea-a554-4b0e3e85ce56</td>\n",
       "      <td>G-F</td>\n",
       "      <td>8</td>\n",
       "      <td>0.0</td>\n",
       "      <td>20.000</td>\n",
       "      <td>25.0</td>\n",
       "      <td>2</td>\n",
       "      <td>...</td>\n",
       "      <td>0</td>\n",
       "      <td>Cavaliers</td>\n",
       "      <td>1</td>\n",
       "      <td>1</td>\n",
       "      <td>117</td>\n",
       "      <td>25:14</td>\n",
       "      <td>20562</td>\n",
       "      <td>20562</td>\n",
       "      <td>0da78f13-73ac-4465-8e31-ecc3029a5dc6</td>\n",
       "      <td>2016-10-25T23:30:00+00:00</td>\n",
       "    </tr>\n",
       "    <tr>\n",
       "      <th>3</th>\n",
       "      <td>3</td>\n",
       "      <td>Kay</td>\n",
       "      <td>Felder</td>\n",
       "      <td>8d3acdd5-9b5a-4d69-9912-de42d979c31a</td>\n",
       "      <td>G</td>\n",
       "      <td>0</td>\n",
       "      <td>0.0</td>\n",
       "      <td>0.000</td>\n",
       "      <td>0.0</td>\n",
       "      <td>0</td>\n",
       "      <td>...</td>\n",
       "      <td>0</td>\n",
       "      <td>Cavaliers</td>\n",
       "      <td>1</td>\n",
       "      <td>1</td>\n",
       "      <td>117</td>\n",
       "      <td>00:00</td>\n",
       "      <td>20562</td>\n",
       "      <td>20562</td>\n",
       "      <td>0da78f13-73ac-4465-8e31-ecc3029a5dc6</td>\n",
       "      <td>2016-10-25T23:30:00+00:00</td>\n",
       "    </tr>\n",
       "    <tr>\n",
       "      <th>4</th>\n",
       "      <td>4</td>\n",
       "      <td>Mike</td>\n",
       "      <td>Dunleavy</td>\n",
       "      <td>4ec1bff7-ec1b-488b-8a24-aed83e62b4ce</td>\n",
       "      <td>G-F</td>\n",
       "      <td>4</td>\n",
       "      <td>0.0</td>\n",
       "      <td>100.000</td>\n",
       "      <td>0.0</td>\n",
       "      <td>2</td>\n",
       "      <td>...</td>\n",
       "      <td>0</td>\n",
       "      <td>Cavaliers</td>\n",
       "      <td>1</td>\n",
       "      <td>1</td>\n",
       "      <td>117</td>\n",
       "      <td>22:32</td>\n",
       "      <td>20562</td>\n",
       "      <td>20562</td>\n",
       "      <td>0da78f13-73ac-4465-8e31-ecc3029a5dc6</td>\n",
       "      <td>2016-10-25T23:30:00+00:00</td>\n",
       "    </tr>\n",
       "  </tbody>\n",
       "</table>\n",
       "<p>5 rows × 26 columns</p>\n",
       "</div>"
      ],
      "text/plain": [
       "   Unnamed: 0 First_Name Last_Name                             player_id  \\\n",
       "0           0     LeBron     James  0afbe608-940a-4d5d-a1f7-468718c67d91   \n",
       "1           1      James     Jones  09d25155-c3be-4246-a986-55921a1b5e61   \n",
       "2           2       J.R.     Smith  5934134d-0d27-42ea-a554-4b0e3e85ce56   \n",
       "3           3        Kay    Felder  8d3acdd5-9b5a-4d69-9912-de42d979c31a   \n",
       "4           4       Mike  Dunleavy  4ec1bff7-ec1b-488b-8a24-aed83e62b4ce   \n",
       "\n",
       "  Position  Points  Free_Throw_Percent  Two_Pt_Percent  Three_Pt_Percent  \\\n",
       "0        F      19                50.0          81.818               0.0   \n",
       "1      G-F       5               100.0           0.000             100.0   \n",
       "2      G-F       8                 0.0          20.000              25.0   \n",
       "3        G       0                 0.0           0.000               0.0   \n",
       "4      G-F       4                 0.0         100.000               0.0   \n",
       "\n",
       "   Assists  ...  Turnovers       Team  Home_Away  win  Team_points  \\\n",
       "0       14  ...          4  Cavaliers          1    1          117   \n",
       "1        0  ...          0  Cavaliers          1    1          117   \n",
       "2        2  ...          0  Cavaliers          1    1          117   \n",
       "3        0  ...          0  Cavaliers          1    1          117   \n",
       "4        2  ...          0  Cavaliers          1    1          117   \n",
       "\n",
       "   Min_played  Crowd Stadium_Cap                               game_id  \\\n",
       "0       32:23  20562       20562  0da78f13-73ac-4465-8e31-ecc3029a5dc6   \n",
       "1        5:30  20562       20562  0da78f13-73ac-4465-8e31-ecc3029a5dc6   \n",
       "2       25:14  20562       20562  0da78f13-73ac-4465-8e31-ecc3029a5dc6   \n",
       "3       00:00  20562       20562  0da78f13-73ac-4465-8e31-ecc3029a5dc6   \n",
       "4       22:32  20562       20562  0da78f13-73ac-4465-8e31-ecc3029a5dc6   \n",
       "\n",
       "                   game_date  \n",
       "0  2016-10-25T23:30:00+00:00  \n",
       "1  2016-10-25T23:30:00+00:00  \n",
       "2  2016-10-25T23:30:00+00:00  \n",
       "3  2016-10-25T23:30:00+00:00  \n",
       "4  2016-10-25T23:30:00+00:00  \n",
       "\n",
       "[5 rows x 26 columns]"
      ]
     },
     "execution_count": 9,
     "metadata": {},
     "output_type": "execute_result"
    }
   ],
   "source": [
    "frames = [player1DF,player2DF,player3DF,player4DF,player5DF,player6DF,player7DF]\n",
    "\n",
    "AllStats = pd.concat(frames)\n",
    "\n",
    "AllStats.head()"
   ]
  },
  {
   "cell_type": "code",
   "execution_count": 10,
   "metadata": {},
   "outputs": [],
   "source": [
    "AllStats.to_csv(\"data_files/NBA_AllStats\")"
   ]
  },
  {
   "cell_type": "code",
   "execution_count": null,
   "metadata": {},
   "outputs": [],
   "source": [
    "AllStats['player_id'].nunique()"
   ]
  },
  {
   "cell_type": "code",
   "execution_count": null,
   "metadata": {},
   "outputs": [],
   "source": [
    "UniqueIDs = AllStats.drop_duplicates(subset=\"player_id\", keep=\"first\",inplace=False)\n",
    "UniqueIDs.count().head(1)"
   ]
  },
  {
   "cell_type": "code",
   "execution_count": null,
   "metadata": {},
   "outputs": [],
   "source": [
    "api_key = nba_key"
   ]
  },
  {
   "cell_type": "code",
   "execution_count": null,
   "metadata": {},
   "outputs": [],
   "source": [
    "#Test API and review JSON\n",
    "url = f'https://api.sportradar.us/nba/trial/v7/en/players/0afbe608-940a-4d5d-a1f7-468718c67d91/profile.json?api_key={api_key}'\n",
    "response = request.get(url)"
   ]
  },
  {
   "cell_type": "code",
   "execution_count": null,
   "metadata": {},
   "outputs": [],
   "source": [
    "data = response.json()\n",
    "\n",
    "#pprint(data)"
   ]
  },
  {
   "cell_type": "code",
   "execution_count": null,
   "metadata": {
    "scrolled": true
   },
   "outputs": [],
   "source": [
    "player_list = UniqueIDs[\"player_id\"].tolist()\n",
    "playerID = []\n",
    "last_name = []\n",
    "first_name = []\n",
    "birthdate = []\n",
    "draft_pick = []\n",
    "height_inches = []\n",
    "jersey_number = []\n",
    "experience = []\n",
    "position = []\n",
    "\n",
    "for player_id in player_list:\n",
    "    url = f'https://api.sportradar.us/nba/trial/v7/en/players/{player_id}/profile.json?api_key={api_key}'\n",
    "    time.sleep(5)\n",
    "    r = request.get(url)\n",
    "    player_profiles = r.json()\n",
    "        \n",
    "#     if 'jersey_number' in player_profiles['jersey_number']:\n",
    "#         jersey_number = player_profiles['jersey_number']\n",
    "#     else:\n",
    "#         jersey_number = 'none'\n",
    "    \n",
    "    playerID.append(player_profiles['id'])\n",
    "    last_name.append(player_profiles['last_name'])\n",
    "    first_name.append(player_profiles['first_name'])\n",
    "    birthdate.append(player_profiles['birthdate'])\n",
    "    #draft_pick.append(player_profiles['draft']['pick'])\n",
    "    height_inches.append(player_profiles['height'])\n",
    "    #jersey_number.append(player_profiles['jersey_number'])\n",
    "    experience.append(player_profiles['experience'])\n",
    "    position.append(player_profiles['position'])\n",
    "\n",
    "    player_dict = {\"Last_Name\":last_name, \"First_Name\":first_name,\n",
    "                  \"Birthday\":birthdate, \"Draft_Pick\":draft_pick,\n",
    "                  \"Height_inches\":height_inches, \"Jersey_Number\":jersey_number,\n",
    "                  \"Experience\":experience, \"Position\":position,\"PlayerID\":playerID\n",
    "                 }\n",
    "    \n",
    "playerDF = pd.DataFrame(player_dict)\n",
    "playerDF"
   ]
  },
  {
   "cell_type": "code",
   "execution_count": null,
   "metadata": {},
   "outputs": [],
   "source": [
    "#playerDF.to_csv(['data_files/NBA_Player_Data'])"
   ]
  },
  {
   "cell_type": "markdown",
   "metadata": {},
   "source": [
    "# WNBA "
   ]
  },
  {
   "cell_type": "code",
   "execution_count": 2,
   "metadata": {},
   "outputs": [],
   "source": [
    "from config import wnba_key\n",
    "api_key2 = wnba_key"
   ]
  },
  {
   "cell_type": "code",
   "execution_count": 3,
   "metadata": {},
   "outputs": [],
   "source": [
    "url = f'https://api.sportradar.us/wnba/trial/v7/en/players/26c1455a-af5d-46b0-b2c6-6c804033ccc7/profile.json?api_key={api_key2}'\n",
    "response = request.get(url)"
   ]
  },
  {
   "cell_type": "code",
   "execution_count": 4,
   "metadata": {},
   "outputs": [
    {
     "ename": "JSONDecodeError",
     "evalue": "Expecting value: line 1 column 1 (char 0)",
     "output_type": "error",
     "traceback": [
      "\u001b[0;31m---------------------------------------------------------------------------\u001b[0m",
      "\u001b[0;31mJSONDecodeError\u001b[0m                           Traceback (most recent call last)",
      "\u001b[0;32m<ipython-input-4-4d885766a4ea>\u001b[0m in \u001b[0;36m<module>\u001b[0;34m\u001b[0m\n\u001b[0;32m----> 1\u001b[0;31m \u001b[0mdata\u001b[0m \u001b[0;34m=\u001b[0m \u001b[0mresponse\u001b[0m\u001b[0;34m.\u001b[0m\u001b[0mjson\u001b[0m\u001b[0;34m(\u001b[0m\u001b[0;34m)\u001b[0m\u001b[0;34m\u001b[0m\u001b[0;34m\u001b[0m\u001b[0m\n\u001b[0m\u001b[1;32m      2\u001b[0m \u001b[0;31m#pprint(data)\u001b[0m\u001b[0;34m\u001b[0m\u001b[0;34m\u001b[0m\u001b[0;34m\u001b[0m\u001b[0m\n",
      "\u001b[0;32m~/opt/anaconda3/lib/python3.7/site-packages/requests/models.py\u001b[0m in \u001b[0;36mjson\u001b[0;34m(self, **kwargs)\u001b[0m\n\u001b[1;32m    895\u001b[0m                     \u001b[0;31m# used.\u001b[0m\u001b[0;34m\u001b[0m\u001b[0;34m\u001b[0m\u001b[0;34m\u001b[0m\u001b[0m\n\u001b[1;32m    896\u001b[0m                     \u001b[0;32mpass\u001b[0m\u001b[0;34m\u001b[0m\u001b[0;34m\u001b[0m\u001b[0m\n\u001b[0;32m--> 897\u001b[0;31m         \u001b[0;32mreturn\u001b[0m \u001b[0mcomplexjson\u001b[0m\u001b[0;34m.\u001b[0m\u001b[0mloads\u001b[0m\u001b[0;34m(\u001b[0m\u001b[0mself\u001b[0m\u001b[0;34m.\u001b[0m\u001b[0mtext\u001b[0m\u001b[0;34m,\u001b[0m \u001b[0;34m**\u001b[0m\u001b[0mkwargs\u001b[0m\u001b[0;34m)\u001b[0m\u001b[0;34m\u001b[0m\u001b[0;34m\u001b[0m\u001b[0m\n\u001b[0m\u001b[1;32m    898\u001b[0m \u001b[0;34m\u001b[0m\u001b[0m\n\u001b[1;32m    899\u001b[0m     \u001b[0;34m@\u001b[0m\u001b[0mproperty\u001b[0m\u001b[0;34m\u001b[0m\u001b[0;34m\u001b[0m\u001b[0m\n",
      "\u001b[0;32m~/opt/anaconda3/lib/python3.7/json/__init__.py\u001b[0m in \u001b[0;36mloads\u001b[0;34m(s, encoding, cls, object_hook, parse_float, parse_int, parse_constant, object_pairs_hook, **kw)\u001b[0m\n\u001b[1;32m    346\u001b[0m             \u001b[0mparse_int\u001b[0m \u001b[0;32mis\u001b[0m \u001b[0;32mNone\u001b[0m \u001b[0;32mand\u001b[0m \u001b[0mparse_float\u001b[0m \u001b[0;32mis\u001b[0m \u001b[0;32mNone\u001b[0m \u001b[0;32mand\u001b[0m\u001b[0;34m\u001b[0m\u001b[0;34m\u001b[0m\u001b[0m\n\u001b[1;32m    347\u001b[0m             parse_constant is None and object_pairs_hook is None and not kw):\n\u001b[0;32m--> 348\u001b[0;31m         \u001b[0;32mreturn\u001b[0m \u001b[0m_default_decoder\u001b[0m\u001b[0;34m.\u001b[0m\u001b[0mdecode\u001b[0m\u001b[0;34m(\u001b[0m\u001b[0ms\u001b[0m\u001b[0;34m)\u001b[0m\u001b[0;34m\u001b[0m\u001b[0;34m\u001b[0m\u001b[0m\n\u001b[0m\u001b[1;32m    349\u001b[0m     \u001b[0;32mif\u001b[0m \u001b[0mcls\u001b[0m \u001b[0;32mis\u001b[0m \u001b[0;32mNone\u001b[0m\u001b[0;34m:\u001b[0m\u001b[0;34m\u001b[0m\u001b[0;34m\u001b[0m\u001b[0m\n\u001b[1;32m    350\u001b[0m         \u001b[0mcls\u001b[0m \u001b[0;34m=\u001b[0m \u001b[0mJSONDecoder\u001b[0m\u001b[0;34m\u001b[0m\u001b[0;34m\u001b[0m\u001b[0m\n",
      "\u001b[0;32m~/opt/anaconda3/lib/python3.7/json/decoder.py\u001b[0m in \u001b[0;36mdecode\u001b[0;34m(self, s, _w)\u001b[0m\n\u001b[1;32m    335\u001b[0m \u001b[0;34m\u001b[0m\u001b[0m\n\u001b[1;32m    336\u001b[0m         \"\"\"\n\u001b[0;32m--> 337\u001b[0;31m         \u001b[0mobj\u001b[0m\u001b[0;34m,\u001b[0m \u001b[0mend\u001b[0m \u001b[0;34m=\u001b[0m \u001b[0mself\u001b[0m\u001b[0;34m.\u001b[0m\u001b[0mraw_decode\u001b[0m\u001b[0;34m(\u001b[0m\u001b[0ms\u001b[0m\u001b[0;34m,\u001b[0m \u001b[0midx\u001b[0m\u001b[0;34m=\u001b[0m\u001b[0m_w\u001b[0m\u001b[0;34m(\u001b[0m\u001b[0ms\u001b[0m\u001b[0;34m,\u001b[0m \u001b[0;36m0\u001b[0m\u001b[0;34m)\u001b[0m\u001b[0;34m.\u001b[0m\u001b[0mend\u001b[0m\u001b[0;34m(\u001b[0m\u001b[0;34m)\u001b[0m\u001b[0;34m)\u001b[0m\u001b[0;34m\u001b[0m\u001b[0;34m\u001b[0m\u001b[0m\n\u001b[0m\u001b[1;32m    338\u001b[0m         \u001b[0mend\u001b[0m \u001b[0;34m=\u001b[0m \u001b[0m_w\u001b[0m\u001b[0;34m(\u001b[0m\u001b[0ms\u001b[0m\u001b[0;34m,\u001b[0m \u001b[0mend\u001b[0m\u001b[0;34m)\u001b[0m\u001b[0;34m.\u001b[0m\u001b[0mend\u001b[0m\u001b[0;34m(\u001b[0m\u001b[0;34m)\u001b[0m\u001b[0;34m\u001b[0m\u001b[0;34m\u001b[0m\u001b[0m\n\u001b[1;32m    339\u001b[0m         \u001b[0;32mif\u001b[0m \u001b[0mend\u001b[0m \u001b[0;34m!=\u001b[0m \u001b[0mlen\u001b[0m\u001b[0;34m(\u001b[0m\u001b[0ms\u001b[0m\u001b[0;34m)\u001b[0m\u001b[0;34m:\u001b[0m\u001b[0;34m\u001b[0m\u001b[0;34m\u001b[0m\u001b[0m\n",
      "\u001b[0;32m~/opt/anaconda3/lib/python3.7/json/decoder.py\u001b[0m in \u001b[0;36mraw_decode\u001b[0;34m(self, s, idx)\u001b[0m\n\u001b[1;32m    353\u001b[0m             \u001b[0mobj\u001b[0m\u001b[0;34m,\u001b[0m \u001b[0mend\u001b[0m \u001b[0;34m=\u001b[0m \u001b[0mself\u001b[0m\u001b[0;34m.\u001b[0m\u001b[0mscan_once\u001b[0m\u001b[0;34m(\u001b[0m\u001b[0ms\u001b[0m\u001b[0;34m,\u001b[0m \u001b[0midx\u001b[0m\u001b[0;34m)\u001b[0m\u001b[0;34m\u001b[0m\u001b[0;34m\u001b[0m\u001b[0m\n\u001b[1;32m    354\u001b[0m         \u001b[0;32mexcept\u001b[0m \u001b[0mStopIteration\u001b[0m \u001b[0;32mas\u001b[0m \u001b[0merr\u001b[0m\u001b[0;34m:\u001b[0m\u001b[0;34m\u001b[0m\u001b[0;34m\u001b[0m\u001b[0m\n\u001b[0;32m--> 355\u001b[0;31m             \u001b[0;32mraise\u001b[0m \u001b[0mJSONDecodeError\u001b[0m\u001b[0;34m(\u001b[0m\u001b[0;34m\"Expecting value\"\u001b[0m\u001b[0;34m,\u001b[0m \u001b[0ms\u001b[0m\u001b[0;34m,\u001b[0m \u001b[0merr\u001b[0m\u001b[0;34m.\u001b[0m\u001b[0mvalue\u001b[0m\u001b[0;34m)\u001b[0m \u001b[0;32mfrom\u001b[0m \u001b[0;32mNone\u001b[0m\u001b[0;34m\u001b[0m\u001b[0;34m\u001b[0m\u001b[0m\n\u001b[0m\u001b[1;32m    356\u001b[0m         \u001b[0;32mreturn\u001b[0m \u001b[0mobj\u001b[0m\u001b[0;34m,\u001b[0m \u001b[0mend\u001b[0m\u001b[0;34m\u001b[0m\u001b[0;34m\u001b[0m\u001b[0m\n",
      "\u001b[0;31mJSONDecodeError\u001b[0m: Expecting value: line 1 column 1 (char 0)"
     ]
    }
   ],
   "source": [
    "data = response.json()\n",
    "#pprint(data)"
   ]
  },
  {
   "cell_type": "code",
   "execution_count": null,
   "metadata": {},
   "outputs": [],
   "source": [
    "player_list = ['0afbe608-940a-4d5d-a1f7-468718c67d91','5934134d-0d27-42ea-a554-4b0e3e85ce56']\n",
    "\n",
    "playerID = []\n",
    "last_name = []\n",
    "first_name = []\n",
    "birthdate = []\n",
    "draft_pick = []\n",
    "height_inches = []\n",
    "jersey_number = []\n",
    "experience = []\n",
    "position = []\n",
    "\n",
    "for player_id in player_list:\n",
    "    url = f'https://api.sportradar.us/nba/trial/v7/en/players/{player_id}/profile.json?api_key={api_key}'\n",
    "    time.sleep(5)\n",
    "    r = request.get(url)\n",
    "    player_profiles = r.json()\n",
    "    playerID.append(player_profiles['id'])\n",
    "    last_name.append(player_profiles['last_name'])\n",
    "    first_name.append(player_profiles['first_name'])\n",
    "    birthdate.append(player_profiles['birthdate'])\n",
    "    draft_pick.append(player_profiles['draft']['pick'])\n",
    "    height_inches.append(player_profiles['height'])\n",
    "    jersey_number.append(player_profiles['jersey_number'])\n",
    "    experience.append(player_profiles['experience'])\n",
    "    position.append(player_profiles['position'])\n",
    "\n",
    "    player_dict = {\"Last_Name\":last_name, \"First_Name\":first_name,\n",
    "                  \"Birthday\":birthdate, \"Draft_Pick\":draft_pick,\n",
    "                  \"Height_inches\":height_inches, \"Jersey_Number\":jersey_number,\n",
    "                  \"Experience\":experience, \"Position\":position,\"PlayerID\":playerID\n",
    "                 }\n",
    "    \n",
    "WNBAplayerDF = pd.DataFrame(player_dict)\n",
    "WNBAplayerDF"
   ]
  },
  {
   "cell_type": "markdown",
   "metadata": {},
   "source": [
    "# Sports Reference"
   ]
  },
  {
   "cell_type": "code",
   "execution_count": null,
   "metadata": {},
   "outputs": [],
   "source": []
  },
  {
   "cell_type": "code",
   "execution_count": null,
   "metadata": {},
   "outputs": [],
   "source": []
  },
  {
   "cell_type": "code",
   "execution_count": null,
   "metadata": {},
   "outputs": [],
   "source": []
  },
  {
   "cell_type": "code",
   "execution_count": null,
   "metadata": {},
   "outputs": [],
   "source": []
  },
  {
   "cell_type": "code",
   "execution_count": null,
   "metadata": {},
   "outputs": [],
   "source": []
  },
  {
   "cell_type": "code",
   "execution_count": null,
   "metadata": {},
   "outputs": [],
   "source": []
  }
 ],
 "metadata": {
  "kernelspec": {
   "display_name": "Python 3",
   "language": "python",
   "name": "python3"
  },
  "language_info": {
   "codemirror_mode": {
    "name": "ipython",
    "version": 3
   },
   "file_extension": ".py",
   "mimetype": "text/x-python",
   "name": "python",
   "nbconvert_exporter": "python",
   "pygments_lexer": "ipython3",
   "version": "3.7.6"
  }
 },
 "nbformat": 4,
 "nbformat_minor": 4
}
